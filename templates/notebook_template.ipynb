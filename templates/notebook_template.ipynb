{
 "cells": [
  {
   "cell_type": "markdown",
   "id": "0034af77",
   "metadata": {},
   "source": [
    "Day 0 : title\n",
    "==="
   ]
  },
  {
   "cell_type": "markdown",
   "id": "33b81b71",
   "metadata": {},
   "source": [
    "## Parse Input"
   ]
  },
  {
   "cell_type": "markdown",
   "id": "93605263",
   "metadata": {},
   "source": [
    "### Get Input"
   ]
  },
  {
   "cell_type": "code",
   "execution_count": null,
   "id": "40bb383f",
   "metadata": {
    "ExecuteTime": {
     "end_time": "2021-12-15T06:52:27.576172Z",
     "start_time": "2021-12-15T06:52:27.570664Z"
    }
   },
   "outputs": [],
   "source": [
    "INPUT_EX= \"\"\"\"\"\""
   ]
  },
  {
   "cell_type": "code",
   "execution_count": null,
   "id": "ffd030dc",
   "metadata": {
    "ExecuteTime": {
     "end_time": "2021-12-15T06:52:27.962387Z",
     "start_time": "2021-12-15T06:52:27.939378Z"
    }
   },
   "outputs": [],
   "source": [
    "INPUT_FULL = \"\"\"\"\"\""
   ]
  },
  {
   "cell_type": "markdown",
   "id": "2f1e6c32",
   "metadata": {},
   "source": [
    "### Set Input"
   ]
  },
  {
   "cell_type": "code",
   "execution_count": null,
   "id": "69dd4153",
   "metadata": {
    "ExecuteTime": {
     "end_time": "2021-12-15T06:52:30.095053Z",
     "start_time": "2021-12-15T06:52:30.091798Z"
    }
   },
   "outputs": [],
   "source": [
    "# Define inputs\n",
    "\n",
    "puzzle_input = INPUT_EX\n",
    "# puzzle_input = INPUT_FULL"
   ]
  },
  {
   "cell_type": "code",
   "execution_count": null,
   "id": "a124b556",
   "metadata": {
    "ExecuteTime": {
     "end_time": "2021-12-15T06:52:40.271109Z",
     "start_time": "2021-12-15T06:52:40.243572Z"
    }
   },
   "outputs": [],
   "source": [
    "# Format input\n",
    "\n",
    "def parse_data(puzzle_input):\n",
    "    \"\"\"Parse input\"\"\"\n",
    "    \n",
    "    # data = puzzle_input.splitlines()\n",
    "    return None"
   ]
  },
  {
   "cell_type": "code",
   "execution_count": null,
   "id": "b4bf263c",
   "metadata": {},
   "outputs": [],
   "source": [
    "data = parse_data(puzzle_input)\n",
    "#data"
   ]
  },
  {
   "cell_type": "markdown",
   "id": "577afa86",
   "metadata": {},
   "source": [
    "## Part One"
   ]
  },
  {
   "cell_type": "markdown",
   "id": "cfa3c727",
   "metadata": {
    "heading_collapsed": true
   },
   "source": [
    "### Question"
   ]
  },
  {
   "cell_type": "markdown",
   "id": "5b3c651b",
   "metadata": {},
   "source": [
    "### Solution"
   ]
  },
  {
   "cell_type": "code",
   "execution_count": null,
   "id": "5c971098",
   "metadata": {
    "ExecuteTime": {
     "end_time": "2021-12-14T05:53:17.664046Z",
     "start_time": "2021-12-14T05:53:17.651173Z"
    },
    "code_folding": []
   },
   "outputs": [],
   "source": [
    "def part1(data):\n",
    "    \"\"\"Solve part 1\"\"\"\n",
    "\n",
    "    result = None\n",
    "\n",
    "    return result"
   ]
  },
  {
   "cell_type": "code",
   "execution_count": null,
   "id": "80cc1417",
   "metadata": {
    "ExecuteTime": {
     "end_time": "2021-12-14T05:53:18.723924Z",
     "start_time": "2021-12-14T05:53:18.691871Z"
    }
   },
   "outputs": [],
   "source": [
    "part1(data)"
   ]
  },
  {
   "cell_type": "markdown",
   "id": "eaefdba3",
   "metadata": {},
   "source": [
    "## Part Two "
   ]
  },
  {
   "cell_type": "markdown",
   "id": "a7fa7737",
   "metadata": {
    "heading_collapsed": true
   },
   "source": [
    "### Question"
   ]
  },
  {
   "cell_type": "markdown",
   "id": "00bc2282",
   "metadata": {},
   "source": [
    "### Solution"
   ]
  },
  {
   "cell_type": "code",
   "execution_count": null,
   "id": "fcbc0b37",
   "metadata": {
    "ExecuteTime": {
     "end_time": "2021-12-14T06:25:14.170117Z",
     "start_time": "2021-12-14T06:25:14.146851Z"
    }
   },
   "outputs": [],
   "source": [
    "def part2(data):\n",
    "    \"\"\"Solve part 2\"\"\"\n",
    "\n",
    "    result = None\n",
    "\n",
    "    return result"
   ]
  },
  {
   "cell_type": "code",
   "execution_count": null,
   "id": "68e37f7d",
   "metadata": {},
   "outputs": [],
   "source": [
    "part2(data)"
   ]
  }
 ],
 "metadata": {
  "hide_input": false,
  "kernelspec": {
   "display_name": "Python 3 (ipykernel)",
   "language": "python",
   "name": "python3"
  },
  "language_info": {
   "codemirror_mode": {
    "name": "ipython",
    "version": 3
   },
   "file_extension": ".py",
   "mimetype": "text/x-python",
   "name": "python",
   "nbconvert_exporter": "python",
   "pygments_lexer": "ipython3",
   "version": "3.8.12"
  },
  "toc": {
   "base_numbering": 1,
   "nav_menu": {},
   "number_sections": false,
   "sideBar": true,
   "skip_h1_title": false,
   "title_cell": "Table of Contents",
   "title_sidebar": "Contents",
   "toc_cell": false,
   "toc_position": {},
   "toc_section_display": true,
   "toc_window_display": false
  },
  "varInspector": {
   "cols": {
    "lenName": 16,
    "lenType": 16,
    "lenVar": 40
   },
   "kernels_config": {
    "python": {
     "delete_cmd_postfix": "",
     "delete_cmd_prefix": "del ",
     "library": "var_list.py",
     "varRefreshCmd": "print(var_dic_list())"
    },
    "r": {
     "delete_cmd_postfix": ") ",
     "delete_cmd_prefix": "rm(",
     "library": "var_list.r",
     "varRefreshCmd": "cat(var_dic_list()) "
    }
   },
   "types_to_exclude": [
    "module",
    "function",
    "builtin_function_or_method",
    "instance",
    "_Feature"
   ],
   "window_display": false
  }
 },
 "nbformat": 4,
 "nbformat_minor": 5
}
