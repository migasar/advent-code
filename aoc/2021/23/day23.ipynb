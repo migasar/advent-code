{
 "cells": [
  {
   "cell_type": "markdown",
   "id": "1371e3ad",
   "metadata": {},
   "source": [
    "## Manual Solution"
   ]
  },
  {
   "cell_type": "markdown",
   "id": "835d1a37",
   "metadata": {
    "heading_collapsed": true
   },
   "source": [
    "## Example"
   ]
  },
  {
   "cell_type": "markdown",
   "id": "bba89103",
   "metadata": {
    "hidden": true
   },
   "source": [
    "### step 0"
   ]
  },
  {
   "cell_type": "code",
   "execution_count": 1,
   "id": "e88db91a",
   "metadata": {
    "ExecuteTime": {
     "end_time": "2021-12-23T17:46:57.253297Z",
     "start_time": "2021-12-23T17:46:57.247681Z"
    },
    "hidden": true
   },
   "outputs": [],
   "source": [
    "#############\n",
    "#...........#\n",
    "###B#C#B#D###\n",
    "  #A#D#C#A#\n",
    "  #########"
   ]
  },
  {
   "cell_type": "markdown",
   "id": "7bb9ac1c",
   "metadata": {
    "hidden": true
   },
   "source": [
    "### step 1"
   ]
  },
  {
   "cell_type": "code",
   "execution_count": 2,
   "id": "751c42f8",
   "metadata": {
    "ExecuteTime": {
     "end_time": "2021-12-23T17:47:34.146793Z",
     "start_time": "2021-12-23T17:47:34.143629Z"
    },
    "hidden": true
   },
   "outputs": [],
   "source": [
    "#############\n",
    "#...B.......#\n",
    "###B#C#.#D###\n",
    "  #A#D#C#A#\n",
    "  #########"
   ]
  },
  {
   "cell_type": "markdown",
   "id": "78e40eed",
   "metadata": {
    "hidden": true
   },
   "source": [
    "40"
   ]
  },
  {
   "cell_type": "markdown",
   "id": "af4091d8",
   "metadata": {
    "hidden": true
   },
   "source": [
    "### step 2"
   ]
  },
  {
   "cell_type": "code",
   "execution_count": 3,
   "id": "3b6797a3",
   "metadata": {
    "ExecuteTime": {
     "end_time": "2021-12-23T17:50:00.842585Z",
     "start_time": "2021-12-23T17:50:00.837665Z"
    },
    "hidden": true
   },
   "outputs": [],
   "source": [
    "#############\n",
    "#...B.......#\n",
    "###B#.#C#D###\n",
    "  #A#D#C#A#\n",
    "  #########"
   ]
  },
  {
   "cell_type": "markdown",
   "id": "7ab478ef",
   "metadata": {
    "hidden": true
   },
   "source": [
    "400"
   ]
  },
  {
   "cell_type": "markdown",
   "id": "978ecd92",
   "metadata": {
    "hidden": true
   },
   "source": [
    "### step 3"
   ]
  },
  {
   "cell_type": "code",
   "execution_count": 4,
   "id": "f57b9923",
   "metadata": {
    "ExecuteTime": {
     "end_time": "2021-12-23T17:51:10.701910Z",
     "start_time": "2021-12-23T17:51:10.699102Z"
    },
    "hidden": true
   },
   "outputs": [],
   "source": [
    "#############\n",
    "#.....D.....#\n",
    "###B#.#C#D###\n",
    "  #A#B#C#A#\n",
    "  #########"
   ]
  },
  {
   "cell_type": "markdown",
   "id": "0022de42",
   "metadata": {
    "hidden": true
   },
   "source": [
    "3000"
   ]
  },
  {
   "cell_type": "markdown",
   "id": "91fa8ed4",
   "metadata": {
    "hidden": true
   },
   "source": [
    "### step 4"
   ]
  },
  {
   "cell_type": "code",
   "execution_count": 5,
   "id": "2814b743",
   "metadata": {
    "ExecuteTime": {
     "end_time": "2021-12-23T17:56:47.929429Z",
     "start_time": "2021-12-23T17:56:47.926176Z"
    },
    "hidden": true
   },
   "outputs": [],
   "source": [
    "#############\n",
    "#.....D.....#\n",
    "###.#B#C#D###\n",
    "  #A#B#C#A#\n",
    "  #########"
   ]
  },
  {
   "cell_type": "markdown",
   "id": "7b55a641",
   "metadata": {
    "hidden": true
   },
   "source": [
    "40"
   ]
  },
  {
   "cell_type": "markdown",
   "id": "48f2dc46",
   "metadata": {
    "hidden": true
   },
   "source": [
    "### step 5"
   ]
  },
  {
   "cell_type": "code",
   "execution_count": 6,
   "id": "7eb753f3",
   "metadata": {
    "ExecuteTime": {
     "end_time": "2021-12-23T17:56:58.057395Z",
     "start_time": "2021-12-23T17:56:58.054498Z"
    },
    "hidden": true
   },
   "outputs": [],
   "source": [
    "#############\n",
    "#.....D.D.A.#\n",
    "###.#B#C#.###\n",
    "  #A#B#C#.#\n",
    "  #########"
   ]
  },
  {
   "cell_type": "markdown",
   "id": "cbc8b405",
   "metadata": {
    "hidden": true
   },
   "source": [
    "2003"
   ]
  },
  {
   "cell_type": "markdown",
   "id": "ee4e37f7",
   "metadata": {
    "hidden": true
   },
   "source": [
    "### step 6"
   ]
  },
  {
   "cell_type": "code",
   "execution_count": 7,
   "id": "2b053f17",
   "metadata": {
    "ExecuteTime": {
     "end_time": "2021-12-23T17:57:18.092133Z",
     "start_time": "2021-12-23T17:57:18.088966Z"
    },
    "hidden": true
   },
   "outputs": [],
   "source": [
    "#############\n",
    "#.........A.#\n",
    "###.#B#C#D###\n",
    "  #A#B#C#D#\n",
    "  #########"
   ]
  },
  {
   "cell_type": "markdown",
   "id": "2819b628",
   "metadata": {
    "hidden": true
   },
   "source": [
    "7000"
   ]
  },
  {
   "cell_type": "markdown",
   "id": "b3231496",
   "metadata": {
    "hidden": true
   },
   "source": [
    "### step 7"
   ]
  },
  {
   "cell_type": "code",
   "execution_count": null,
   "id": "8bd03bc0",
   "metadata": {
    "hidden": true
   },
   "outputs": [],
   "source": [
    "#############\n",
    "#...........#\n",
    "###A#B#C#D###\n",
    "  #A#B#C#D#\n",
    "  #########"
   ]
  },
  {
   "cell_type": "markdown",
   "id": "f5d83c44",
   "metadata": {
    "hidden": true
   },
   "source": [
    "8"
   ]
  },
  {
   "cell_type": "markdown",
   "id": "c5952cd0",
   "metadata": {
    "heading_collapsed": true
   },
   "source": [
    "## Input (trial 1)"
   ]
  },
  {
   "cell_type": "markdown",
   "id": "d9244828",
   "metadata": {
    "heading_collapsed": true,
    "hidden": true
   },
   "source": [
    "### step 0"
   ]
  },
  {
   "cell_type": "code",
   "execution_count": 8,
   "id": "8621e876",
   "metadata": {
    "ExecuteTime": {
     "end_time": "2021-12-23T17:58:35.253620Z",
     "start_time": "2021-12-23T17:58:35.248690Z"
    },
    "hidden": true
   },
   "outputs": [],
   "source": [
    "#############\n",
    "#...........#\n",
    "###C#D#A#B###\n",
    "  #B#A#D#C#\n",
    "  #########"
   ]
  },
  {
   "cell_type": "markdown",
   "id": "eca9dcf3",
   "metadata": {
    "hidden": true
   },
   "source": [
    "### step 1"
   ]
  },
  {
   "cell_type": "code",
   "execution_count": 10,
   "id": "c019ec40",
   "metadata": {
    "ExecuteTime": {
     "end_time": "2021-12-23T18:01:19.448735Z",
     "start_time": "2021-12-23T18:01:19.445425Z"
    },
    "hidden": true
   },
   "outputs": [],
   "source": [
    "#############\n",
    "#A..........#\n",
    "###C#D#.#B###\n",
    "  #B#A#D#C#\n",
    "  #########"
   ]
  },
  {
   "cell_type": "markdown",
   "id": "11daa118",
   "metadata": {
    "hidden": true
   },
   "source": [
    "7"
   ]
  },
  {
   "cell_type": "markdown",
   "id": "9ebee052",
   "metadata": {
    "hidden": true
   },
   "source": [
    "### step 2"
   ]
  },
  {
   "cell_type": "code",
   "execution_count": 12,
   "id": "0db1ef84",
   "metadata": {
    "ExecuteTime": {
     "end_time": "2021-12-23T18:12:36.456306Z",
     "start_time": "2021-12-23T18:12:36.451320Z"
    },
    "hidden": true
   },
   "outputs": [],
   "source": [
    "#############\n",
    "#A........B.#\n",
    "###C#D#.#.###\n",
    "  #B#A#D#C#\n",
    "  #########"
   ]
  },
  {
   "cell_type": "markdown",
   "id": "c89000c6",
   "metadata": {
    "hidden": true
   },
   "source": [
    "20"
   ]
  },
  {
   "cell_type": "markdown",
   "id": "09e902bd",
   "metadata": {
    "hidden": true
   },
   "source": [
    "### step 3"
   ]
  },
  {
   "cell_type": "code",
   "execution_count": 13,
   "id": "0c06baba",
   "metadata": {
    "ExecuteTime": {
     "end_time": "2021-12-23T18:12:36.911061Z",
     "start_time": "2021-12-23T18:12:36.905759Z"
    },
    "hidden": true
   },
   "outputs": [],
   "source": [
    "#############\n",
    "#A....C...B.#\n",
    "###C#D#.#.###\n",
    "  #B#A#D#.#\n",
    "  #########"
   ]
  },
  {
   "cell_type": "markdown",
   "id": "8f85579b",
   "metadata": {
    "hidden": true
   },
   "source": [
    "500"
   ]
  },
  {
   "cell_type": "markdown",
   "id": "ad3fdfd2",
   "metadata": {
    "heading_collapsed": true,
    "hidden": true
   },
   "source": [
    "### step 4"
   ]
  },
  {
   "cell_type": "code",
   "execution_count": 14,
   "id": "fc9e5e16",
   "metadata": {
    "ExecuteTime": {
     "end_time": "2021-12-23T18:12:37.638611Z",
     "start_time": "2021-12-23T18:12:37.633029Z"
    },
    "hidden": true
   },
   "outputs": [],
   "source": [
    "#############\n",
    "#A....C...B.#\n",
    "###C#D#.#.###\n",
    "  #B#A#.#D#\n",
    "  #########"
   ]
  },
  {
   "cell_type": "markdown",
   "id": "80cafa5b",
   "metadata": {
    "hidden": true
   },
   "source": [
    "6000"
   ]
  },
  {
   "cell_type": "markdown",
   "id": "ce8085fa",
   "metadata": {
    "hidden": true
   },
   "source": [
    "### step 5"
   ]
  },
  {
   "cell_type": "code",
   "execution_count": 15,
   "id": "3025a76c",
   "metadata": {
    "ExecuteTime": {
     "end_time": "2021-12-23T18:12:38.971881Z",
     "start_time": "2021-12-23T18:12:38.967547Z"
    },
    "hidden": true
   },
   "outputs": [],
   "source": [
    "#############\n",
    "#A........B.#\n",
    "###C#D#.#.###\n",
    "  #B#A#C#D#\n",
    "  #########"
   ]
  },
  {
   "cell_type": "markdown",
   "id": "148663ae",
   "metadata": {
    "hidden": true
   },
   "source": [
    "300"
   ]
  },
  {
   "cell_type": "markdown",
   "id": "7c6355cb",
   "metadata": {
    "hidden": true
   },
   "source": [
    "### step 6"
   ]
  },
  {
   "cell_type": "code",
   "execution_count": 16,
   "id": "e46402f8",
   "metadata": {
    "ExecuteTime": {
     "end_time": "2021-12-23T18:12:40.450660Z",
     "start_time": "2021-12-23T18:12:40.446992Z"
    },
    "hidden": true
   },
   "outputs": [],
   "source": [
    "#############\n",
    "#A........B.#\n",
    "###.#.#C#D###\n",
    "  #B#A#C#D#\n",
    "  #########"
   ]
  },
  {
   "cell_type": "markdown",
   "id": "5444cf72",
   "metadata": {
    "hidden": true
   },
   "source": [
    "6600"
   ]
  },
  {
   "cell_type": "markdown",
   "id": "c92b332d",
   "metadata": {
    "hidden": true
   },
   "source": [
    "### step 7"
   ]
  },
  {
   "cell_type": "code",
   "execution_count": 17,
   "id": "e86c54ef",
   "metadata": {
    "ExecuteTime": {
     "end_time": "2021-12-23T18:12:42.747030Z",
     "start_time": "2021-12-23T18:12:42.742522Z"
    },
    "hidden": true
   },
   "outputs": [],
   "source": [
    "#############\n",
    "#AA.......B.#\n",
    "###.#.#C#D###\n",
    "  #B#.#C#D#\n",
    "  #########"
   ]
  },
  {
   "cell_type": "markdown",
   "id": "798d7855",
   "metadata": {
    "hidden": true
   },
   "source": [
    "5"
   ]
  },
  {
   "cell_type": "markdown",
   "id": "aa8e5cef",
   "metadata": {
    "hidden": true
   },
   "source": [
    "### step 8"
   ]
  },
  {
   "cell_type": "code",
   "execution_count": 18,
   "id": "df09d868",
   "metadata": {
    "ExecuteTime": {
     "end_time": "2021-12-23T18:15:55.015454Z",
     "start_time": "2021-12-23T18:15:55.009549Z"
    },
    "hidden": true
   },
   "outputs": [],
   "source": [
    "#############\n",
    "#AA.......B.#\n",
    "###.#.#C#D###\n",
    "  #.#B#C#D#\n",
    "  #########"
   ]
  },
  {
   "cell_type": "markdown",
   "id": "daa0a998",
   "metadata": {
    "hidden": true
   },
   "source": [
    "60"
   ]
  },
  {
   "cell_type": "markdown",
   "id": "cc11556a",
   "metadata": {
    "hidden": true
   },
   "source": [
    "### step 9"
   ]
  },
  {
   "cell_type": "code",
   "execution_count": 19,
   "id": "d2dd2651",
   "metadata": {
    "ExecuteTime": {
     "end_time": "2021-12-23T18:15:55.015454Z",
     "start_time": "2021-12-23T18:15:55.009549Z"
    },
    "hidden": true
   },
   "outputs": [],
   "source": [
    "#############\n",
    "#AA.........#\n",
    "###.#B#C#D###\n",
    "  #.#B#C#D#\n",
    "  #########"
   ]
  },
  {
   "cell_type": "markdown",
   "id": "84b87a65",
   "metadata": {
    "hidden": true
   },
   "source": [
    "60"
   ]
  },
  {
   "cell_type": "markdown",
   "id": "866fba00",
   "metadata": {
    "hidden": true
   },
   "source": [
    "### step 10"
   ]
  },
  {
   "cell_type": "code",
   "execution_count": 17,
   "id": "c06a9078",
   "metadata": {
    "ExecuteTime": {
     "end_time": "2021-12-23T18:15:55.015454Z",
     "start_time": "2021-12-23T18:15:55.009549Z"
    },
    "hidden": true
   },
   "outputs": [],
   "source": [
    "#############\n",
    "#...........#\n",
    "###1#B#C#D###\n",
    "  #A#B#C#D#\n",
    "  #########"
   ]
  },
  {
   "cell_type": "markdown",
   "id": "f20731a4",
   "metadata": {
    "hidden": true
   },
   "source": [
    "6"
   ]
  },
  {
   "cell_type": "markdown",
   "id": "a30ca45a",
   "metadata": {
    "hidden": true
   },
   "source": [
    "=> 13558 (too high)"
   ]
  },
  {
   "cell_type": "code",
   "execution_count": 20,
   "id": "193b0f9e",
   "metadata": {
    "ExecuteTime": {
     "end_time": "2021-12-23T18:28:09.129555Z",
     "start_time": "2021-12-23T18:28:09.123370Z"
    },
    "hidden": true
   },
   "outputs": [],
   "source": [
    "# step 0\n",
    "\n",
    "#############\n",
    "#...........#\n",
    "###C#D#A#B###\n",
    "  #B#A#D#C#\n",
    "  #########"
   ]
  },
  {
   "cell_type": "code",
   "execution_count": 21,
   "id": "0f4ae47b",
   "metadata": {
    "ExecuteTime": {
     "end_time": "2021-12-23T18:55:27.219708Z",
     "start_time": "2021-12-23T18:55:27.214973Z"
    },
    "hidden": true
   },
   "outputs": [],
   "source": [
    "# step 1\n",
    "\n",
    "#############\n",
    "#A..........#\n",
    "###C#D#.#B###\n",
    "  #B#A#D#C#\n",
    "  #########\n",
    "\n",
    "# A => 7"
   ]
  },
  {
   "cell_type": "code",
   "execution_count": 22,
   "id": "09eb379c",
   "metadata": {
    "ExecuteTime": {
     "end_time": "2021-12-23T19:01:56.210982Z",
     "start_time": "2021-12-23T19:01:56.206803Z"
    },
    "hidden": true
   },
   "outputs": [],
   "source": [
    "# step 2\n",
    "\n",
    "#############\n",
    "#A........B.#\n",
    "###C#D#.#.###\n",
    "  #B#A#D#C#\n",
    "  #########\n",
    "\n",
    "# B => 20"
   ]
  },
  {
   "cell_type": "code",
   "execution_count": 23,
   "id": "0d1d63f6",
   "metadata": {
    "ExecuteTime": {
     "end_time": "2021-12-23T19:01:56.210982Z",
     "start_time": "2021-12-23T19:01:56.206803Z"
    },
    "hidden": true
   },
   "outputs": [],
   "source": [
    "# step 3\n",
    "\n",
    "#############\n",
    "#A....C...B.#\n",
    "###C#D#.#.###\n",
    "  #B#A#D#.#\n",
    "  #########\n",
    "\n",
    "# C => 500"
   ]
  },
  {
   "cell_type": "code",
   "execution_count": 24,
   "id": "46b6c26b",
   "metadata": {
    "ExecuteTime": {
     "end_time": "2021-12-23T19:01:56.210982Z",
     "start_time": "2021-12-23T19:01:56.206803Z"
    },
    "hidden": true
   },
   "outputs": [],
   "source": [
    "# step 4\n",
    "\n",
    "#############\n",
    "#A....C...B.#\n",
    "###C#D#.#.###\n",
    "  #B#A#.#D#\n",
    "  #########\n",
    "\n",
    "# D => 6000"
   ]
  },
  {
   "cell_type": "code",
   "execution_count": 25,
   "id": "140bafde",
   "metadata": {
    "ExecuteTime": {
     "end_time": "2021-12-23T19:01:56.210982Z",
     "start_time": "2021-12-23T19:01:56.206803Z"
    },
    "hidden": true
   },
   "outputs": [],
   "source": [
    "# step 5\n",
    "\n",
    "#############\n",
    "#A........B.#\n",
    "###C#D#.#.###\n",
    "  #B#A#C#D#\n",
    "  #########\n",
    "\n",
    "# C => 300"
   ]
  },
  {
   "cell_type": "code",
   "execution_count": 26,
   "id": "aaa3f6e4",
   "metadata": {
    "ExecuteTime": {
     "end_time": "2021-12-23T19:01:56.210982Z",
     "start_time": "2021-12-23T19:01:56.206803Z"
    },
    "hidden": true
   },
   "outputs": [],
   "source": [
    "# step 6\n",
    "\n",
    "#############\n",
    "#A........B.#\n",
    "###.#.#C#D###\n",
    "  #B#A#C#D#\n",
    "  #########\n",
    "\n",
    "# C => 600\n",
    "# D => 6000"
   ]
  },
  {
   "cell_type": "code",
   "execution_count": 27,
   "id": "87bd1cd7",
   "metadata": {
    "ExecuteTime": {
     "end_time": "2021-12-23T19:01:56.210982Z",
     "start_time": "2021-12-23T19:01:56.206803Z"
    },
    "hidden": true
   },
   "outputs": [],
   "source": [
    "# step 7\n",
    "\n",
    "#############\n",
    "#AA.......B.#\n",
    "###.#.#C#D###\n",
    "  #B#.#C#D#\n",
    "  #########\n",
    "\n",
    "# A => 5"
   ]
  },
  {
   "cell_type": "code",
   "execution_count": 28,
   "id": "69f314f2",
   "metadata": {
    "ExecuteTime": {
     "end_time": "2021-12-23T19:01:56.210982Z",
     "start_time": "2021-12-23T19:01:56.206803Z"
    },
    "hidden": true
   },
   "outputs": [],
   "source": [
    "# step 8\n",
    "\n",
    "#############\n",
    "#AA.......B.#\n",
    "###.#.#C#D###\n",
    "  #.#B#C#D#\n",
    "  #########\n",
    "\n",
    "# B => 60"
   ]
  },
  {
   "cell_type": "code",
   "execution_count": 29,
   "id": "30502c3b",
   "metadata": {
    "ExecuteTime": {
     "end_time": "2021-12-23T19:03:06.645465Z",
     "start_time": "2021-12-23T19:03:06.640427Z"
    },
    "hidden": true
   },
   "outputs": [],
   "source": [
    "# step 9\n",
    "\n",
    "#############\n",
    "#AA.........#\n",
    "###.#B#C#D###\n",
    "  #.#B#C#D#\n",
    "  #########\n",
    "\n",
    "# B => 60"
   ]
  },
  {
   "cell_type": "code",
   "execution_count": 30,
   "id": "4cbdb6b0",
   "metadata": {
    "ExecuteTime": {
     "end_time": "2021-12-23T19:03:06.645465Z",
     "start_time": "2021-12-23T19:03:06.640427Z"
    },
    "hidden": true
   },
   "outputs": [],
   "source": [
    "# step 10\n",
    "\n",
    "#############\n",
    "#...........#\n",
    "###A#B#C#D###\n",
    "  #A#B#C#D#\n",
    "  #########\n",
    "\n",
    "# A => 6\n",
    "# A => 6"
   ]
  },
  {
   "cell_type": "markdown",
   "id": "a4e2d7a1",
   "metadata": {},
   "source": [
    "## Input (trial 2)"
   ]
  },
  {
   "cell_type": "code",
   "execution_count": 20,
   "id": "cfb3458b",
   "metadata": {
    "ExecuteTime": {
     "end_time": "2021-12-23T18:28:09.129555Z",
     "start_time": "2021-12-23T18:28:09.123370Z"
    }
   },
   "outputs": [],
   "source": [
    "# step 0\n",
    "\n",
    "#############\n",
    "#...........#\n",
    "###C#D#A#B###\n",
    "  #B#A#D#C#\n",
    "  #########"
   ]
  },
  {
   "cell_type": "code",
   "execution_count": null,
   "id": "0bab2af1",
   "metadata": {},
   "outputs": [],
   "source": [
    "# A => (5+4+3) * 1\n",
    "# B => (5+4+3) * 10\n",
    "# C => (5+4+3) * 100\n",
    "# D => (5+4+3) * 1000\n",
    "\n",
    "# 12 + 120 + 1200 + 12000 \n",
    "# => 13332"
   ]
  },
  {
   "cell_type": "code",
   "execution_count": 21,
   "id": "cce2e234",
   "metadata": {
    "ExecuteTime": {
     "end_time": "2021-12-23T18:55:27.219708Z",
     "start_time": "2021-12-23T18:55:27.214973Z"
    }
   },
   "outputs": [],
   "source": [
    "# step 1\n",
    "\n",
    "#############\n",
    "#A..........#\n",
    "###C#D#.#B###\n",
    "  #B#A#D#C#\n",
    "  #########\n",
    "\n",
    "# A => 7"
   ]
  },
  {
   "cell_type": "code",
   "execution_count": 22,
   "id": "fbd3e507",
   "metadata": {
    "ExecuteTime": {
     "end_time": "2021-12-23T19:01:56.210982Z",
     "start_time": "2021-12-23T19:01:56.206803Z"
    }
   },
   "outputs": [],
   "source": [
    "# step 2\n",
    "\n",
    "#############\n",
    "#A........B.#\n",
    "###C#D#.#.###\n",
    "  #B#A#D#C#\n",
    "  #########\n",
    "\n",
    "# B => 20"
   ]
  },
  {
   "cell_type": "code",
   "execution_count": 23,
   "id": "51eab9cf",
   "metadata": {
    "ExecuteTime": {
     "end_time": "2021-12-23T19:01:56.210982Z",
     "start_time": "2021-12-23T19:01:56.206803Z"
    }
   },
   "outputs": [],
   "source": [
    "# step 3\n",
    "\n",
    "#############\n",
    "#A....C...B.#\n",
    "###C#D#.#.###\n",
    "  #B#A#D#.#\n",
    "  #########\n",
    "\n",
    "# C => 500"
   ]
  },
  {
   "cell_type": "code",
   "execution_count": 24,
   "id": "62eb7b2e",
   "metadata": {
    "ExecuteTime": {
     "end_time": "2021-12-23T19:01:56.210982Z",
     "start_time": "2021-12-23T19:01:56.206803Z"
    }
   },
   "outputs": [],
   "source": [
    "# step 4\n",
    "\n",
    "#############\n",
    "#A....C...B.#\n",
    "###C#D#.#.###\n",
    "  #B#A#.#D#\n",
    "  #########\n",
    "\n",
    "# D => 6000"
   ]
  },
  {
   "cell_type": "code",
   "execution_count": 25,
   "id": "44f5df1e",
   "metadata": {
    "ExecuteTime": {
     "end_time": "2021-12-23T19:01:56.210982Z",
     "start_time": "2021-12-23T19:01:56.206803Z"
    }
   },
   "outputs": [],
   "source": [
    "# step 5\n",
    "\n",
    "#############\n",
    "#A........B.#\n",
    "###C#D#.#.###\n",
    "  #B#A#C#D#\n",
    "  #########\n",
    "\n",
    "# C => 300"
   ]
  },
  {
   "cell_type": "code",
   "execution_count": 26,
   "id": "9ead62ea",
   "metadata": {
    "ExecuteTime": {
     "end_time": "2021-12-23T19:01:56.210982Z",
     "start_time": "2021-12-23T19:01:56.206803Z"
    }
   },
   "outputs": [],
   "source": [
    "# step 6\n",
    "\n",
    "#############\n",
    "#A........B.#\n",
    "###.#.#C#D###\n",
    "  #B#A#C#D#\n",
    "  #########\n",
    "\n",
    "# C => 600\n",
    "# D => 6000"
   ]
  },
  {
   "cell_type": "code",
   "execution_count": 27,
   "id": "67daef27",
   "metadata": {
    "ExecuteTime": {
     "end_time": "2021-12-23T19:01:56.210982Z",
     "start_time": "2021-12-23T19:01:56.206803Z"
    }
   },
   "outputs": [],
   "source": [
    "# step 7\n",
    "\n",
    "#############\n",
    "#AA.......B.#\n",
    "###.#.#C#D###\n",
    "  #B#.#C#D#\n",
    "  #########\n",
    "\n",
    "# A => 5"
   ]
  },
  {
   "cell_type": "code",
   "execution_count": 28,
   "id": "42f8d6fc",
   "metadata": {
    "ExecuteTime": {
     "end_time": "2021-12-23T19:01:56.210982Z",
     "start_time": "2021-12-23T19:01:56.206803Z"
    }
   },
   "outputs": [],
   "source": [
    "# step 8\n",
    "\n",
    "#############\n",
    "#AA.......B.#\n",
    "###.#.#C#D###\n",
    "  #.#B#C#D#\n",
    "  #########\n",
    "\n",
    "# B => 60"
   ]
  },
  {
   "cell_type": "code",
   "execution_count": 29,
   "id": "5a78af04",
   "metadata": {
    "ExecuteTime": {
     "end_time": "2021-12-23T19:03:06.645465Z",
     "start_time": "2021-12-23T19:03:06.640427Z"
    }
   },
   "outputs": [],
   "source": [
    "# step 9\n",
    "\n",
    "#############\n",
    "#AA.........#\n",
    "###.#B#C#D###\n",
    "  #.#B#C#D#\n",
    "  #########\n",
    "\n",
    "# B => 60"
   ]
  },
  {
   "cell_type": "code",
   "execution_count": 30,
   "id": "b3a36a27",
   "metadata": {
    "ExecuteTime": {
     "end_time": "2021-12-23T19:03:06.645465Z",
     "start_time": "2021-12-23T19:03:06.640427Z"
    }
   },
   "outputs": [],
   "source": [
    "# step 10\n",
    "\n",
    "#############\n",
    "#...........#\n",
    "###A#B#C#D###\n",
    "  #A#B#C#D#\n",
    "  #########\n",
    "\n",
    "# A => 6\n",
    "# A => 6"
   ]
  },
  {
   "cell_type": "code",
   "execution_count": null,
   "id": "358dee0b",
   "metadata": {},
   "outputs": [],
   "source": []
  }
 ],
 "metadata": {
  "hide_input": false,
  "kernelspec": {
   "display_name": "Python 3 (ipykernel)",
   "language": "python",
   "name": "python3"
  },
  "language_info": {
   "codemirror_mode": {
    "name": "ipython",
    "version": 3
   },
   "file_extension": ".py",
   "mimetype": "text/x-python",
   "name": "python",
   "nbconvert_exporter": "python",
   "pygments_lexer": "ipython3",
   "version": "3.8.12"
  },
  "toc": {
   "base_numbering": 1,
   "nav_menu": {},
   "number_sections": false,
   "sideBar": true,
   "skip_h1_title": false,
   "title_cell": "Table of Contents",
   "title_sidebar": "Contents",
   "toc_cell": false,
   "toc_position": {},
   "toc_section_display": true,
   "toc_window_display": false
  },
  "varInspector": {
   "cols": {
    "lenName": 16,
    "lenType": 16,
    "lenVar": 40
   },
   "kernels_config": {
    "python": {
     "delete_cmd_postfix": "",
     "delete_cmd_prefix": "del ",
     "library": "var_list.py",
     "varRefreshCmd": "print(var_dic_list())"
    },
    "r": {
     "delete_cmd_postfix": ") ",
     "delete_cmd_prefix": "rm(",
     "library": "var_list.r",
     "varRefreshCmd": "cat(var_dic_list()) "
    }
   },
   "types_to_exclude": [
    "module",
    "function",
    "builtin_function_or_method",
    "instance",
    "_Feature"
   ],
   "window_display": false
  }
 },
 "nbformat": 4,
 "nbformat_minor": 5
}
