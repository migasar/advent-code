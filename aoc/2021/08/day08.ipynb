{
 "cells": [
  {
   "cell_type": "markdown",
   "id": "2b447f2f",
   "metadata": {},
   "source": [
    "# IN PROGRESS ! "
   ]
  },
  {
   "cell_type": "markdown",
   "id": "0034af77",
   "metadata": {},
   "source": [
    "Day 8: Seven Segment Search\n",
    "==="
   ]
  },
  {
   "cell_type": "markdown",
   "id": "33b81b71",
   "metadata": {
    "heading_collapsed": true
   },
   "source": [
    "## Parse Input"
   ]
  },
  {
   "cell_type": "markdown",
   "id": "93605263",
   "metadata": {
    "heading_collapsed": true,
    "hidden": true
   },
   "source": [
    "### Get Input"
   ]
  },
  {
   "cell_type": "code",
   "execution_count": 1,
   "id": "40bb383f",
   "metadata": {
    "ExecuteTime": {
     "end_time": "2021-12-08T06:47:15.600797Z",
     "start_time": "2021-12-08T06:47:15.590859Z"
    },
    "hidden": true
   },
   "outputs": [],
   "source": [
    "input_ex = \"\"\"be cfbegad cbdgef fgaecd cgeb fdcge agebfd fecdb fabcd edb | fdgacbe cefdb cefbgd gcbe\n",
    "edbfga begcd cbg gc gcadebf fbgde acbgfd abcde gfcbed gfec | fcgedb cgb dgebacf gc\n",
    "fgaebd cg bdaec gdafb agbcfd gdcbef bgcad gfac gcb cdgabef | cg cg fdcagb cbg\n",
    "fbegcd cbd adcefb dageb afcb bc aefdc ecdab fgdeca fcdbega | efabcd cedba gadfec cb\n",
    "aecbfdg fbg gf bafeg dbefa fcge gcbea fcaegb dgceab fcbdga | gecf egdcabf bgf bfgea\n",
    "fgeab ca afcebg bdacfeg cfaedg gcfdb baec bfadeg bafgc acf | gebdcfa ecba ca fadegcb\n",
    "dbcfg fgd bdegcaf fgec aegbdf ecdfab fbedc dacgb gdcebf gf | cefg dcbef fcge gbcadfe\n",
    "bdfegc cbegaf gecbf dfcage bdacg ed bedf ced adcbefg gebcd | ed bcgafe cdgba cbgef\n",
    "egadfb cdbfeg cegd fecab cgb gbdefca cg fgcdab egfdb bfceg | gbdfcae bgc cg cgb\n",
    "gcafb gcf dcaebfg ecagb gf abcdeg gaef cafbge fdbac fegbdc | fgae cfgab fg bagce\"\"\""
   ]
  },
  {
   "cell_type": "code",
   "execution_count": 2,
   "id": "b072a5a3",
   "metadata": {
    "ExecuteTime": {
     "end_time": "2021-12-08T06:47:35.224349Z",
     "start_time": "2021-12-08T06:47:35.195150Z"
    },
    "hidden": true
   },
   "outputs": [],
   "source": [
    "input_full = \"\"\"dac abcf ac fdbcga dgcbae gcbfde fgcbd agfed adcgf cdbgfea | cbfa bcafdg cbfa bafcgd\n",
    "abfgd baedc feb fgde fbagcd facbdge agcbfe bgafde fe ebdfa | bef fe dgfe feb\n",
    "dfc dc afegbc bcafe fcead agefd cafdeb fcbeadg cbed cabdfg | cd geadf cfd bfaec\n",
    "efacdgb abefdg efagbc af afe gdeab dbfa dgefa acegbd cdegf | cfdge gefda ecbgdfa eaf\n",
    "feg gdbea edgbca gefdab caefdbg egfda afdgc fe cgfdeb efba | edafbg bdefgc egdfa gbead\n",
    "bfeac becfd cbgdf gfabed gdefcab dcae edb de bgfaec fdeabc | bcfdg eagbfd fedbc cefdb\n",
    "bgecd cea acegfbd ac gbefad cgdae fcag dfega abfedc gecdfa | gfdbae gcaf caedg ac\n",
    "acbdfeg bfea agfed cedbg gedfba bfg dcgfea bf agfcbd gebfd | fgedb aefb gebdf fcgeda\n",
    "gdcbfa agdfebc ecb fgcba ecgab efgcbd degca egfbac efba eb | egbfdc bfgcda ebaf gecda\n",
    "gfcade fgedc agcfeb agdcbf dcae cgefbad ce ecg cdgfa dbfge | ebgdf fgcda gec feacbg\n",
    "gcade fcdbea afegcb eafgc acfdbg aecfb fag dgcbafe gf bfge | decga gfeac gebf ecgbfa\n",
    "fd dceabg bcgdef dcefag agcbf gcbfd gbceafd cdf dgebc fdeb | cgafde bdgec aegfdc gcabf\n",
    "edgafbc bgaedf dbefcg efg fg acfeb bdega adgf cdeabg fbgae | dgacfeb egdfbac fbeca dabceg\n",
    "dfecgb ecagbfd ceagd dgb dcfb bcegf abgedf cgbde db facgeb | efabgc ebfgc gdbce bdg\n",
    "bcg dbcgea cg eadfcb agfbe cagd dacbe fcbdge abcge cedagfb | dbacgfe agdc dbcfgae bcg\n",
    "dgf dfea cbadg gbeafdc fgcbae fgacde gcafe dgfac dfcbeg df | egdbcf eadf agcfd gefac\n",
    "da dcgfae dac afcdg edaf fgbaec ebgadc gcfea cabgdfe dgbcf | dac fbaecgd fead ad\n",
    "ecd bdecf bgdefac bafcd gdacbf eafd bcgdea bgfec bcadef ed | fgbec ebcfg fedcb cfdba\n",
    "edacgb df gaedf gacfe dbegcfa dfg bfegda begad dafb cedgbf | faceg ebadfg fbdcge abfd\n",
    "dgeca ebdfa dacegf cgba bcd bc acdbeg edacbgf edcab gedbcf | bc ecdag cb edagc\n",
    "facbde deabfg daf gdbac efcd abecgfd cgafeb facdb fd bacef | baefgc edabcf dfce cfdbea\n",
    "bafg gdfeb agbdfe ag adfge aedfc dbecag cfgedba bgedcf dga | ga dgefa gbaedcf fgebd\n",
    "bcfed cafe cgbefd edfcab fa bgade dabfegc efabd fda gacdbf | bgade ebfdc decbf cbadgf\n",
    "fcbgdae agef bcgda af cfbaed gdefc cfa dfcgeb gafcde fdgca | dafceb dbagc adgcbfe cdbafe\n",
    "aebdfc dgcf aedgcb acdeg cfe fc dcfega bfage fgace cgfeabd | aefgc dbgefac egbfa egafbdc\n",
    "bfgde bcdagf bga ga gfea abcde eafbgd edgab ecdbfag fecdgb | eacbgfd egbfda cdabe ebdgaf\n",
    "fbcead afcdgb fbadgce fdabge ea adec aef afcbd ebgcf fbcae | afdebgc bafedg efa dfbca\n",
    "gedafb fad gfeabc dgcf dfgabc bdaefgc dfcab abedc df gbacf | fagecb abgfc df gbacf\n",
    "gcdeab efadg dfbc cebad ecafd efc bfcaedg acgefb dcaefb cf | ecfgba acedb fbeagc dacfe\n",
    "gdfbc aefg adbceg fgabd fdcbea fa abfedgc bdaeg baf debgfa | fba debafc gaef cdbfg\n",
    "cgbed dce gdebf fdecgab caedgb ec fagced bcae dbagc agdfbc | beafdgc edc efgdb edfcga\n",
    "gdcbf fcga dcfbeg acfdbg cda agebd dabcg edbacf ca afdegbc | dac cfdbg bfecad bfcedga\n",
    "gbacdf agef ebf gcedb cfgedba cagbf begafc gecbf ef cafdeb | bfe bdefgac ebf fadbgce\n",
    "fdacg efdacb ebgd fdagb bfd dgbfaec efgbad cbaefg bd eagbf | baefg gecafdb ebcfgda cefagb\n",
    "degcf ea afecgd fecgbd fecbdag cfaeg deabfg acde bgcaf fea | ecdgf eaf agefc gefcad\n",
    "afegbc dbcfea bgefdc gadbc fbeac df dfb adbgcfe fcdab aefd | aegdcfb cdagb efabcd ecafb\n",
    "cbagdf efgadb db bdg fbgeac dfcb daceg acbgf fbgaced dagcb | dgb dgebfa dgb faebgd\n",
    "fcedb dcbage bc cfadeb dcb degacf gfcadbe dacef fabc gbfed | gfedb dbacef dbc dabcef\n",
    "gefad ebdcfag ebcgd cgefdb abcdge ebf bf cgfeab dfcb ebgfd | dgbef afdge gfdae bdgec\n",
    "dgbca bg gdb ecabfd efcdgba cgead begfad bcfg fcdba cadfgb | agdcb cdgfeab fdcgaeb gdafecb\n",
    "egbdac gab edacb ag bgdfcea dbega agce agfcbd aebfdc debgf | fgbadc bag cbaegdf cdeagb\n",
    "gafced agdf cdefa agfceb cbgaefd gecda agc debgc beacdf ag | dgcbe fgda gfad bgcefa\n",
    "afegcd gc afecgdb bgfcd gfc fgdcbe bdfca gcbe begdf eabdgf | cgdfbe cg dcbfg gecb\n",
    "afb bf afbced aefbc dgceab edabc fbcd befdga ecbadfg fcaeg | fb fdabce fbdc cbfd\n",
    "fedba efdbgc fecagd dbc gdfacb ecdfbag bceg bc bcfde cgdef | cbdfge bgcfde acfgdb bdc\n",
    "fd efacdb bcdgef fcegb fdb dfegb egadb ecabfg fbgcdae fgcd | dcgf gfdbe gdfc efacgb\n",
    "cfbea gdbceaf bdafge fge gf afgd dacgeb dbgfec abdeg gbfea | gdaf dfcgbe fdga febac\n",
    "bdgeaf gacedf gedafbc cgebfd cf fdcb cbage cfe fedbg bfceg | gbaec decagf ecf cf\n",
    "eacfdb fb gcabf gbdf gfbcade afb dcfag gcabe acgbfd dgcefa | bgdf dabcegf gbafc acfgb\n",
    "dbeafg fac degfc fgcbad dgbaf gfaecbd bfecda bacg dfagc ca | adbgf dgaefb acbg ac\n",
    "fbdagc dfcea defgc fad faeg debfgc baecd af bgfcade agfced | ecdba dgface abdec gabdcf\n",
    "dcabef gcefdab cadg dbfgae ceadb gd bdgce gdb dgceab efbcg | ecfbad dcaeb gbd adbcfge\n",
    "cbegf ef cebfgd gdfabe cbagefd efg baecdg cfabg efcd gbedc | debgfc gdafbe baecdg agfecdb\n",
    "fagbce aefbg eafdb gebcfd ga gaf eagcfbd ceag fbdcag cbgfe | cbgafd ga gfcbda ga\n",
    "aecdf bgfadce eb acgbf dagfcb ecbagf defcbg cbfae fbe gbea | egbfca cafbe ebf bfe\n",
    "bcgeda cb bcaf dbfgeca cdegf fdbeag ebc dcfbae bfcde daefb | efadcb gefcd fabedg cafebd\n",
    "bcf fdgcb fdaecg gfcda dbcge fb cfegab afdb fdcbage acbdfg | cdgbf fb dgbec gcafeb\n",
    "dfac bgefca ebdacf gdefabc gafebd fc dbcef bcdge fbead fce | abdfge dabfe cf afebcdg\n",
    "dfabcg eagd cdegb caefb cad da adbec degfcb gdecba afgebcd | edgfcab adcbgf egad defgcb\n",
    "gbefc fd becadg dfg abdfgc cfgbd afdc afdebgc gcbad bdgefa | bfcdg fbcdg cgbda abcgd\n",
    "ce cebdgf aceb feacg bfecga fce aebfg ecdgafb dgbafe gdcfa | cfage fdcga fcaeg gcafe\n",
    "gbac fceagb gadecfb ebagf gefbc cdebf feagdb gcf cg fadegc | agbc cfg fbdgea feabg\n",
    "cd eacgfb facbe cfdeab afgbd bdfac caed dbgfaec bgdcfe cdf | acdfb afbdc cdf eacd\n",
    "dbfgae geabf aefcg ebcgdfa eb feb agbdcf degb bfadce fgdab | fbdga gbdefa agbfd be\n",
    "cdaef bdgc agceb becgad egfcbad cabde bda efbgac bd dbegaf | befagc bd ebcgda gabdce\n",
    "ae gabdfe agdbf deabf febcd acegfb edga adegfcb fcgbad bae | dcabegf dgea geda abe\n",
    "eg agec cadgf fbcdeg adgfe dcegbaf efg dfcagb fedba cfgade | adcgf gdcaf gef gbcafde\n",
    "gfe cfgdab gafdb geda gefbd bfdgea bfaceg fedbc eg aedbfcg | gaebcfd cdafbg afgbcd ecdfb\n",
    "fgbca dbf fd ebgad gafdb bgdaef fedgcab dbegac fged dbcafe | afdgb bfd dagbe befdag\n",
    "dfgca aegdfc da fcdgaeb ebdcaf deag gfeac bgfdc ceafbg afd | daf adf gacfde cbdefa\n",
    "adb gcabd cbged fgdceab cbgfa bdcfae da bgcfda dagf befgca | fgcab ad bda gcbad\n",
    "edgfbc fbgecda bgcfe dc aecbgf dgbc cdbfae gfedc gdaef cde | cde fegbc edc befcgd\n",
    "cebdg dfc bfde cagfe edcbfg fegcd cdbfgea afcgdb ecdbag fd | fd cfd gcbde feacg\n",
    "dbgfc ebcfa gfbac aegf cfbage ag feabdc gdcafeb agb dcbgea | fabce afeg bacgefd gab\n",
    "abgec cefbgad gfabdc feagc fag fgdce fbae af acgbfe bdgcea | decbgaf gfecd fcabgd fecdg\n",
    "fgdcb fbagde fdgeb daefgc begdcaf baeg feg ge efbda dcfabe | dgcebfa eacdfg fdegb abeg\n",
    "fdaecb gebad baedcfg gcde beg dbeac ge bgfeca bgdfa egbadc | egb gaedbc aebdc fbgda\n",
    "becfdag gaefbd fcga ebcgda egafcb bgeaf gbefc gc cbdef bcg | ebgacf defcb acfg fcbaegd\n",
    "fdgbea fecbd ebc ecdgf bgefdca cdbfae cb daebf ebgdca bacf | decfab bce cdgfeba ceb\n",
    "bgc gfeba dcagfb bdfc eabgdcf dfgca gcefda cbgdae gfacb cb | agcdbf daegcfb fdcb bfcd\n",
    "adefgc dc dbcage dcgf adc fdaec cbdgfae afebc abdfge fgead | dfbgae fcdg edafc cad\n",
    "egca bfcade ga dag eadcf fdebg adfcgb dacgef egfda egdafbc | cfabgd gbdcaf cabfed bdfgac\n",
    "dfgacbe ae ceafd cdgafe aec cbfda edcfg cagfbe dgea fgecbd | bcafd fdagce ace ea\n",
    "fgbade bfedcag gdceba bf cedafb afb becda adfcg fdacb cefb | bf fba dcabe cfbad\n",
    "acgeb dabc db cdebgf adgef gbd cafegb ebadcg aebdg fcbdaeg | gabec gebca abcge dagceb\n",
    "egdcf fbgdec fb gdeacf gbfd bef bfcde becda egfcba gafbdec | dbgf fcdeb bdecf bfe\n",
    "af ebdac dgacef abgf ecdbfg gefbd eaf abgcfed fadbge dfbae | fgaedb efa edfcga ecbad\n",
    "ge fdbge dbgfec aecgfd gef bcge gfcabd befdgca cbdfg fedab | bedfcg gdcabf fge fge\n",
    "cdbgea dge fcgabd deacbgf fdcea dcagb eg caedg bgae bfdegc | adgebc cegbfd dge egba\n",
    "bgcfade bgedaf bfgc edfac ecgba efb bf dgaecb caefb aebgfc | cgeba efb abedcg gefacb\n",
    "dfgec baedg egbdcf egbafdc egacfb efdcag gca cgade cfda ac | ac cdegf deacfbg edcag\n",
    "dfeabc ag afbcge bag bfcdg adeg fgdcabe edcab dcgab edcabg | fgbecad bdcea bacefgd bdcafe\n",
    "febdg fgdcba afdbgec gaefb aecb afcge ba abf abfcge cafged | afb gcafe fbgea aegfb\n",
    "dab caedbg baecfg bafed db dbefag efbcgda afbge ceadf gfbd | bd ebfad cgbeaf db\n",
    "fbg dabefcg dgfc gf fadegb ebgcf cgaeb bafdec befdc fdbgce | fgb bafdgce dgcf fabdge\n",
    "gdfebac gdceb fcadge fgac cbeafd gaedfb dcfae age aegcd ga | deafgc acdef ga adfcge\n",
    "begcfd cgf cg gcbd agedcf cbfaed bcfge cefdb aebgf eafgbcd | fcbde fgbea febcg gcdb\n",
    "befcag befdcg fcdg bcefdga gebfd bfgec geabd fd bcefda fed | cegbf cgbeaf aebfdc geabcf\n",
    "cdfeba cgabdf afbdceg bea decba ea eadf bcfda fegcab begdc | ebcgd eba ea baced\n",
    "bcedg ac dca gcaedf bfdae dafgcbe dbgeac egfcdb bacg abecd | daefcg acgb ac bgefcda\n",
    "bfegca bf edgbacf agcef feb fdcgea cbaf becdg cegbf afbdge | bef cbaf bacf fcebga\n",
    "edg afbcdeg cafed cafged geca degfa gbafd ecdfbg ge eabcfd | bdfga dgafb deabfc dface\n",
    "gfa afcgb cfgdea ga fdbcg febcad aecbfg aegb fcbae dgbafec | cfbea afgecd fcgab ga\n",
    "edgfbc adbcgef gdabec egf dfega fdabe fg dfcage afgc cadge | dabfe cdaeg fge befgdc\n",
    "dagecb ed cdgfb edcgb becag adbe egdafc cgabfed ced ecabfg | egbdc cgeab efgcdba cbfdg\n",
    "afg egdacb gf dfgca fegcab cdaef dgabc afdcgb gdbf fdgbace | dcgfba cefdgab bfaedgc ecfad\n",
    "ace agbecd eagf gfbdca cefda fdbec dacfge gfdca ea cbdgafe | gbdcaf deagfbc cafgd ea\n",
    "efa baedg dcgaeb febdga efagd adgbcef dfba fedgc gabcfe af | dgafcbe dfba egbda edfag\n",
    "fageb edgab da cgdeb fbedag ade afgecd begcfa acfegdb bdaf | ebgfca da ad gcdbe\n",
    "ebfac dfbeg ecgfab acfg cg baedfc gce gfbdeac agedcb bfecg | gfeabdc fdbge ebacfd gacf\n",
    "abfcg bgfea gbc bdgefca bdacf efcg gecbaf cg gbdafe bdegca | gadebc aebdfg bdefga gc\n",
    "cedgb ebfa edcba dab defcab dfeca gacedf bgdefac cbgadf ba | abced abfecdg ba cgdfba\n",
    "abcde aedcf afe bcfgdae fbec adcfbe ebdgca ef dbgaef dfgac | cbfe adebc adegcb aebdgcf\n",
    "fdgcea aebdgcf egdabc defcbg efcba acbed gcdae bagd db edb | eafbc eabdc eacfb fcedbg\n",
    "cefbd gefcb gf becafgd cfdbag gaef cagbe bgf dcaegb efgcba | bgf fage gefa fbg\n",
    "ceafb fcegda fcbead cabfg dcgfbea aecfd eb bdcefg bef adbe | fedcag fgcaed gafbc cdfae\n",
    "efcabgd fbcda efcad cfeg fde adbegc deagc aefdgc fe dbfaeg | dfe ecgf abfdc eagcd\n",
    "dcebga afgbc gfbad efdbcag ca cfea efgcb eabgcf gcbfed cga | afcebg gecfb ac ac\n",
    "gceaf dafgceb afcbeg geacfd fbcead bfa fb gbef acbfg acdbg | acgedfb fb gbdac fab\n",
    "gbf bgecfd adgfcbe bfgec bfcgda efdcab gf defg bdcef gecba | dgfabec bfg fg becdf\n",
    "dg dgb gbacd bdagfc gafd gaceb dbacfe fgebcd gfdaecb cbfad | gbecfd cagbe bdg abdcg\n",
    "cdgbe eadcg dcb db bgecfa cegbdfa fdeb acgdbf becfg decgfb | febcg cgbde gfbcae edcbg\n",
    "gcfdbae dgf dgeca dcfge dcegbf fcdeba fedcb gfbc afbdeg gf | edfcb dbafec dcgfabe fg\n",
    "dfbaceg ab edcfb adb egabcd dgfbac fbag cfbad fagcd gedacf | fgdabc ab feacgd ab\n",
    "debga ec edc gfdca agdce afegbd aecdgb bcea cbefgd baefcgd | gadfc defgcb caeb abce\n",
    "edabfc fdaeg dgacfe bdacfg cfabdge efcda fgd gdce dg gfbae | abcdfg dfeag edcg acegdf\n",
    "bagcfe afedc dbec fadecb fbdega ed afdcg aefcb efagcdb dae | cbedgaf gefabc decb ed\n",
    "abe fadecg bfcage bcdafe ecfad afdgb afbde be bedc bfeacdg | bgfad fcdgeab be bcfgead\n",
    "bf decgb efb bfegdca bgfd adfce fcdeb gabefc cdaegb fecbgd | decbg fb gdebc gdfb\n",
    "gfcbed efdcb dafbcg db gedb deacf cgfbe bdf abfecg defcagb | bdfec cfdeb bd adecf\n",
    "gceab gefbda bdegafc fgbd bedacf egd agdeb daefb fagedc dg | dg dacebgf bafegd edg\n",
    "abecfg dgbca egc aegcb acgdfe agefdb bfec ce ebcdagf bfgae | bcfe bcfe acgbef gfedcab\n",
    "bfacg eafdb cadbge fecbad gcbdafe ge dabegf egfd gae abgfe | ge efgba faebcd dafeb\n",
    "gebd db gbcdfea fbd acebgf fedab agcbfd afecd befadg gbfea | bdeaf febag fgecab afcebdg\n",
    "defac gdbfce dfbga deagbfc geadfb cbag cdafgb facdg cgf cg | eabgdf caefd cbag gfc\n",
    "dafbc fgead edgfac cae gdabec fgeabcd ec acdef debafg cgef | ebcdga cgfeda efdgac cgeafd\n",
    "ec dcbafe gbafcd dfgbc dec baedfcg faedg egbc egbfcd dgcfe | dce gbcefd gabcfde adcfeb\n",
    "cbegdf ad aecgf befcad agdfc gcbdf adc cfgdbae dabfcg agdb | bdga bagd fcgad ad\n",
    "edcbafg ab eafgcb ecdba egfdcb fcabed debcf abdf eba dagce | aeb dbcegf geadcfb aeb\n",
    "bg gcefa aefbdc bcgae fbegacd cadeb fcegdb bgc eagcbd badg | bcgea adbfcge cebda cdegab\n",
    "ebgad gf edfcb cegdab dbaegf agfd dgbcefa efdgb fbg gabecf | fcadbeg bcedagf dfbge gdaf\n",
    "gbcfea ecdbga cgebf bdefcg fdbe de acgfd gedcf fecdbag ced | edfgcb fbde beagcfd gecabd\n",
    "gfdceb aegbc ca cbdafg daebcg bac edac gcdbe abegf ceadfbg | ca bca gdebc decgb\n",
    "cbfea fgadbe eacgf daefcb fgdeabc acdb ba bgecdf fba fedcb | cdfbega bcfea ba badc\n",
    "cbfge bdca dgeba dce ebgcd dc gdebac fcgeadb beafgd fdceag | ebgcd gcdfae begdc agbde\n",
    "acg cagdfe cebfdg dgcfa fdbac gdcef baegfc acdegbf ag dgae | cadfg efgabc egcfad dbcaf\n",
    "bfae ea eadcfgb dcgba dacefb dcfaeg dae bdcef decba egbfcd | dgcba cdbeaf cedbf fcaegd\n",
    "fcga agbedf edcgaf ca dabcef fegadbc ecgda eca gcdbe gefad | ca ca dgebc eca\n",
    "bcead fd gbedfa adcgefb fdgcba bagfce adf fdbae dgfe abfeg | ebafgc fegd dfabe edgf\n",
    "bca cbfgea cdabfe cedfa fdbc cgabefd cagdef eacbd cb bgdea | dcbaef cb bfcd cab\n",
    "baedgf debaf edga bgafedc bda ecfbd ad bgdfac afgbe abcfge | aged bfedc abd cdebf\n",
    "acgdb agcdef egc baefcd cfead fbdgeca ge dgace gaef dgcfeb | cbeafd acfed ebfdgc fdceag\n",
    "dbegfa ef fbagce dcgfab efb agfbc cegdfab fecg dcbae aefcb | bgdfea afcgbe fe bafcg\n",
    "eabdf fegb aecfgbd fg cabdgf agf dgeca adegbf dacfbe dgefa | bdecafg fgbe agbefd fabed\n",
    "gdbec facbeg gbedf egabc dgaebc dcb adgc baecfd cd ceadgbf | dc dc cbaefd cgdbeaf\n",
    "ef cfgab fegbc bdecg adbcfge agebfc bafcgd acfe ebf dfaegb | fbdgae ecfbg feac afec\n",
    "agdebfc dae ecdf bfacge fegca dabcg de gdace gdabfe cfgead | egbdaf gabcd dea gfbace\n",
    "ecg gabce fdecbg edacgb eacbf aegdb cg fcbeadg abgfed dgac | dbgae gec geabc ebcgdf\n",
    "fabec fd egdfca dcf dcfgbe dgeabc dgecb febgacd bfdg dfbec | beacf df egacfd fbcae\n",
    "eacf gfebad cefgad adcgf af bceadg dfa bfdgc gfeadbc ecadg | adf aefc dfagce caegd\n",
    "afgbec fbgdc ag gaebcd agc gfdeacb bcefa ebcfda fgbac fgae | fbgdc bdgfc agc dacbef\n",
    "bc bfcad cbgfed baec cbd fdacg fdbae aedgfbc faegbd cdbfea | ecgbdf gfbdea dfcag beca\n",
    "bedgafc fbdea efgdbc edg cefg fbgdc eg cgafdb febdg egdabc | fcbgda ge cbagdfe gbdcf\n",
    "bgdeca fadcegb adg cfaegd bdae edcbg ad bcgfa cadgb fecgdb | dafgce gecdba dbfegc edbgfc\n",
    "ecgafd faebg gbce defbacg ebfagc eab fadecb be aecgf dfgba | bfgae dfabgec efacg ebgfa\n",
    "edfg fad bgead cgaebd bcdgaf fdebgac dafgbe ebfac badfe df | eabfc begfad dgbea dbeaf\n",
    "cdaeb acdbfg gfeac aefcd gecfad gefd bfgcae fd beacgdf daf | egcaf gbdafc bagecf fedg\n",
    "gf aefcd adegbc fecdgb gcebd fcbg cgdef edfabg eadbfgc dgf | bfgc bgecd gdcefba abcdeg\n",
    "gfdcbae cegdab ecgbf dcabef cegdb caegf fbgd bf bfe edfbcg | bf cbfeg ecfag bef\n",
    "befdga bcagdef ebgaf bcfega ce cbge gfacd cae cfaebd eagfc | fdgeab cgeaf fgceab eacfg\n",
    "adgbe gcadbef gbfe befadc fdbga agced bde acbfgd fgbeda eb | abefcd dfcaeb gaecd decga\n",
    "gdbfec fbdce fgcade ebadfgc cb eacdgb bcd edfba fgbc edgfc | gfeadcb bfead fgbc cbd\n",
    "dfaegc deabgc fabdceg gcf fc fdbcag cfde gacfe fbeag aegcd | afedgc gcf cfed fdec\n",
    "acdfb dfaec bdcfga ceafbg gedabc fbgd bf cgbad cbf fdgcabe | bfegcda gadbc cdefa caedf\n",
    "cfgae dcfageb gbdf gebacd edcfg cdg cdbef dg cdfeab bcefdg | geacf dfgb dg facge\n",
    "gcdab dabgec fecadg ae cbadgf ade cbaed beag cebdf cbdfgae | bacdg eda facbedg gfbdac\n",
    "fd dfgbcae bdf fgbda cgabf beagd cbadfe gdabfe dbaceg fdeg | fbd gdbae cdebgaf fadgb\n",
    "ecgdb bfdgec fce caebgd fc fageb fcedga gcebadf cbdf egcbf | decgb cdgfea edcafg cfdebg\n",
    "bafgd abcedf egb bdacge fageb adecfgb febcag fecab cefg ge | ge bafec ge ge\n",
    "agcbd dac dcebfga ac ceba bcged gaedfc ebgdca adgbf cbfged | bgfad bace fecbgd adc\n",
    "agcfd cag gbecfad agdfe gcedfb cbad ac cgbfae bdgcf acfbgd | gbafcd eafbcg gdafe cgefab\n",
    "geadfc bfeg bf bcf bdgca ceadgbf eabfcg bgcfa cfedab afgce | acefg gacdb agecf cgbfa\n",
    "aecbd afced af dfcge afbc edfcab cgbeda gabfde afd faegcdb | fgedc dfaec bdfaec cdegf\n",
    "dcbfge ab bdgeca bae gcba debcg dagbfe gdeacfb acedb acdfe | cdbgea adgceb ebdca aegdfb\n",
    "ecfadg agfce da cfbgea dae aedcg bfaced cgdbefa debgc dfga | eacdg afcebd faegc bafegc\n",
    "df fdg dfcega gfbce aebdg bdafge bfad egbdf dbafgec acdgeb | afgedb egfdb df fbad\n",
    "eafbc egbac fcb cf cgbadf becdagf cbdaeg efagcb aefbd ecfg | cf cf cgfe acegb\n",
    "fceab cedfabg fc fadc cgbea bdfea egfadb gecfdb fbc abcefd | bfc ebafc aefcdgb bcafe\n",
    "gb efadb dcefba fdcga fgbaed fadgb feagcb ebdg beacgfd gab | gb feagcb gb acbdegf\n",
    "ebc acgedbf gcfeb edcabf bc bcgefd bcdg gcefd gdfeac egbfa | gcdb gcdfe cdbg dbafce\n",
    "bgdc efacdg dabce begad cgbaed fabeg baefdc fabecdg gd edg | edabc gd geabf gafeb\n",
    "gaecdf fabc fgaec bc bgc gcfbe bgcdea dgebcfa efgbd afebcg | afcbeg adgfbec gcb gebafc\n",
    "aef facedg fdgbce cade fegcd fbacgde faecg gfabc egdfab ae | bfdeacg edac eaf fgedacb\n",
    "eafcgd cebgf fdc debcfg dbcfg afbgec dc fdbga dbce cedfabg | cgeabf facedg bcaegf bdfgc\n",
    "afegbdc bcaefg decba gdfb aedgfb efb adfge bfade agefcd fb | cfaegd gcdafe ebadf gecfad\n",
    "afcb bgdcfe bacdfe ceadf cbefd caged bgedaf af egfdbca fda | adf ecbfd efdbc adefgb\n",
    "cgdaef eagfb afdbge gfedb ecfbd agbd cbgefa gd agcbefd dfg | agcfbe fgcdae fdg fgd\n",
    "ed afbge fbcaeg bcdfa gfeabd gfed egbfcad geadcb adbfe ead | begadc abefg dea dea\n",
    "fceba deafbc aegc edbgafc bfdcg ag dbafge cfbeag abg cafgb | gab agb abfegd ecga\n",
    "fcedg cfdaegb dbfg egcfbd bgc cgbefa cebgd ecbad bg dceafg | cgb fcbgae ecbda gebcd\"\"\""
   ]
  },
  {
   "cell_type": "markdown",
   "id": "2f1e6c32",
   "metadata": {
    "heading_collapsed": true,
    "hidden": true
   },
   "source": [
    "### Set Input"
   ]
  },
  {
   "cell_type": "code",
   "execution_count": 44,
   "id": "69dd4153",
   "metadata": {
    "ExecuteTime": {
     "end_time": "2021-12-08T08:55:02.176570Z",
     "start_time": "2021-12-08T08:55:02.173064Z"
    },
    "hidden": true
   },
   "outputs": [],
   "source": [
    "# Set input\n",
    "puzzle_input = input_ex"
   ]
  },
  {
   "cell_type": "markdown",
   "id": "c9c0aed2",
   "metadata": {
    "heading_collapsed": true,
    "hidden": true
   },
   "source": [
    "### Format Input"
   ]
  },
  {
   "cell_type": "code",
   "execution_count": 45,
   "id": "b2b92327",
   "metadata": {
    "ExecuteTime": {
     "end_time": "2021-12-08T08:55:06.355449Z",
     "start_time": "2021-12-08T08:55:06.352283Z"
    },
    "hidden": true
   },
   "outputs": [
    {
     "data": {
      "text/plain": [
       "[['be cfbegad cbdgef fgaecd cgeb fdcge agebfd fecdb fabcd edb',\n",
       "  'fdgacbe cefdb cefbgd gcbe'],\n",
       " ['edbfga begcd cbg gc gcadebf fbgde acbgfd abcde gfcbed gfec',\n",
       "  'fcgedb cgb dgebacf gc']]"
      ]
     },
     "execution_count": 45,
     "metadata": {},
     "output_type": "execute_result"
    }
   ],
   "source": [
    "lines = [line.split(' | ') for line in puzzle_input.splitlines()]\n",
    "lines[:2]"
   ]
  },
  {
   "cell_type": "code",
   "execution_count": 46,
   "id": "5d617388",
   "metadata": {
    "ExecuteTime": {
     "end_time": "2021-12-08T08:55:08.834797Z",
     "start_time": "2021-12-08T08:55:08.824169Z"
    },
    "hidden": true,
    "scrolled": true
   },
   "outputs": [
    {
     "data": {
      "text/plain": [
       "[[['be',\n",
       "   'cfbegad',\n",
       "   'cbdgef',\n",
       "   'fgaecd',\n",
       "   'cgeb',\n",
       "   'fdcge',\n",
       "   'agebfd',\n",
       "   'fecdb',\n",
       "   'fabcd',\n",
       "   'edb'],\n",
       "  ['fdgacbe', 'cefdb', 'cefbgd', 'gcbe']],\n",
       " [['edbfga',\n",
       "   'begcd',\n",
       "   'cbg',\n",
       "   'gc',\n",
       "   'gcadebf',\n",
       "   'fbgde',\n",
       "   'acbgfd',\n",
       "   'abcde',\n",
       "   'gfcbed',\n",
       "   'gfec'],\n",
       "  ['fcgedb', 'cgb', 'dgebacf', 'gc']]]"
      ]
     },
     "execution_count": 46,
     "metadata": {},
     "output_type": "execute_result"
    }
   ],
   "source": [
    "data = [[seq.split(' ') for seq in line] for line in lines]\n",
    "data[:2]"
   ]
  },
  {
   "cell_type": "markdown",
   "id": "577afa86",
   "metadata": {
    "heading_collapsed": true
   },
   "source": [
    "## Part One"
   ]
  },
  {
   "cell_type": "markdown",
   "id": "cfa3c727",
   "metadata": {
    "heading_collapsed": true,
    "hidden": true
   },
   "source": [
    "### Question"
   ]
  },
  {
   "cell_type": "markdown",
   "id": "8559cfc5",
   "metadata": {
    "hidden": true
   },
   "source": [
    "You barely reach the safety of the cave when the whale smashes into the cave mouth, collapsing it. Sensors indicate another exit to this cave at a much greater depth, so you have no choice but to press on.\n",
    "\n",
    "As your submarine slowly makes its way through the cave system, you notice that the four-digit seven-segment displays in your submarine are malfunctioning; they must have been damaged during the escape. You'll be in a lot of trouble without them, so you'd better figure out what's wrong."
   ]
  },
  {
   "cell_type": "markdown",
   "id": "e3148970",
   "metadata": {
    "hidden": true
   },
   "source": [
    "Each digit of a seven-segment display is rendered by turning on or off any of seven segments named a through g:\n",
    "\n",
    "```\n",
    "  0:      1:      2:      3:      4:\n",
    " aaaa    ....    aaaa    aaaa    ....\n",
    "b    c  .    c  .    c  .    c  b    c\n",
    "b    c  .    c  .    c  .    c  b    c\n",
    " ....    ....    dddd    dddd    dddd\n",
    "e    f  .    f  e    .  .    f  .    f\n",
    "e    f  .    f  e    .  .    f  .    f\n",
    " gggg    ....    gggg    gggg    ....\n",
    "\n",
    "  5:      6:      7:      8:      9:\n",
    " aaaa    aaaa    aaaa    aaaa    aaaa\n",
    "b    .  b    .  .    c  b    c  b    c\n",
    "b    .  b    .  .    c  b    c  b    c\n",
    " dddd    dddd    ....    dddd    dddd\n",
    ".    f  e    f  .    f  e    f  .    f\n",
    ".    f  e    f  .    f  e    f  .    f\n",
    " gggg    gggg    ....    gggg    gggg\n",
    "````\n"
   ]
  },
  {
   "cell_type": "markdown",
   "id": "90c0539f",
   "metadata": {
    "hidden": true
   },
   "source": [
    "So, to render a 1, only segments c and f would be turned on; the rest would be off. To render a 7, only segments a, c, and f would be turned on.\n",
    "\n",
    "The problem is that the signals which control the segments have been mixed up on each display. The submarine is still trying to display numbers by producing output on signal wires a through g, but those wires are connected to segments **randomly**. Worse, the wire/segment connections are mixed up separately for each four-digit display! (All of the digits within a display use the same connections, though.)\n",
    "\n",
    "So, you might know that only signal wires b and g are turned on, but that doesn't mean **segments** b and g are turned on: the only digit that uses two segments is 1, so it must mean segments c and f are meant to be on. With just that information, you still can't tell which wire (b/g) goes to which segment (c/f). For that, you'll need to collect more information.\n",
    "\n",
    "For each display, you watch the changing signals for a while, make a note of **all ten unique signal patterns** you see, and then write down a single **four digit output value** (your puzzle input). Using the signal patterns, you should be able to work out which pattern corresponds to which digit."
   ]
  },
  {
   "cell_type": "markdown",
   "id": "44f85b90",
   "metadata": {
    "hidden": true
   },
   "source": [
    "For example, here is what you might see in a single entry in your notes:\n",
    "\n",
    "```\n",
    "acedgfb cdfbe gcdfa fbcad dab cefabd cdfgeb eafb cagedb ab |\n",
    "cdfeb fcadb cdfeb cdbaf\n",
    "```\n",
    "\n",
    "(The entry is wrapped here to two lines so it fits; in your notes, it will all be on a single line.)"
   ]
  },
  {
   "cell_type": "markdown",
   "id": "daf0411e",
   "metadata": {
    "hidden": true
   },
   "source": [
    "Each entry consists of ten unique signal patterns, a | delimiter, and finally the four digit output value. Within an entry, the same wire/segment connections are used (but you don't know what the connections actually are). The unique signal patterns correspond to the ten different ways the submarine tries to render a digit using the current wire/segment connections. Because 7 is the only digit that uses three segments, dab in the above example means that to render a 7, signal lines d, a, and b are on. Because 4 is the only digit that uses four segments, eafb means that to render a 4, signal lines e, a, f, and b are on.\n",
    "\n",
    "Using this information, you should be able to work out which combination of signal wires corresponds to each of the ten digits. Then, you can decode the four digit output value. Unfortunately, in the above example, all of the digits in the output value (`cdfeb fcadb cdfeb cdbaf`) use five segments and are more difficult to deduce."
   ]
  },
  {
   "cell_type": "markdown",
   "id": "1c4a9802",
   "metadata": {
    "hidden": true
   },
   "source": [
    "For now, **focus on the easy digits**. Consider this larger example:\n",
    "\n",
    "\n",
    "be cfbegad cbdgef fgaecd cgeb fdcge agebfd fecdb fabcd edb |  \n",
    "**fdgacbe** cefdb cefbgd **gcbe**\n",
    "\n",
    "edbfga begcd cbg gc gcadebf fbgde acbgfd abcde gfcbed gfec |  \n",
    "fcgedb **cgb dgebacf gc**\n",
    "\n",
    "fgaebd cg bdaec gdafb agbcfd gdcbef bgcad gfac gcb cdgabef |  \n",
    "**cg cg** fdcagb **cbg**\n",
    "\n",
    "fbegcd cbd adcefb dageb afcb bc aefdc ecdab fgdeca fcdbega |  \n",
    "efabcd cedba gadfec **cb**\n",
    "\n",
    "aecbfdg fbg gf bafeg dbefa fcge gcbea fcaegb dgceab fcbdga |  \n",
    "**gecf egdcabf bgf** bfgea\n",
    "\n",
    "fgeab ca afcebg bdacfeg cfaedg gcfdb baec bfadeg bafgc acf |  \n",
    "**gebdcfa ecba ca fadegcb**\n",
    "\n",
    "dbcfg fgd bdegcaf fgec aegbdf ecdfab fbedc dacgb gdcebf gf |  \n",
    "**cefg** dcbef **fcge gbcadfe**\n",
    "\n",
    "bdfegc cbegaf gecbf dfcage bdacg ed bedf ced adcbefg gebcd |  \n",
    "**ed** bcgafe cdgba cbgef\n",
    "\n",
    "egadfb cdbfeg cegd fecab cgb gbdefca cg fgcdab egfdb bfceg |  \n",
    "**gbdfcae bgc cg cgb**\n",
    "\n",
    "gcafb gcf dcaebfg ecagb gf abcdeg gaef cafbge fdbac fegbdc |  \n",
    "**fgae** cfgab **fg** bagce\n"
   ]
  },
  {
   "cell_type": "markdown",
   "id": "b0ad3aee",
   "metadata": {
    "hidden": true
   },
   "source": [
    "Because the digits 1, 4, 7, and 8 each use a unique number of segments, you should be able to tell which combinations of signals correspond to those digits. Counting **only digits in the output values** (the part after | on each line), in the above example, there are 26 instances of digits that use a unique number of segments (highlighted above).   \n",
    "**In the output values, how many times do digits 1, 4, 7, or 8 appear?**"
   ]
  },
  {
   "cell_type": "markdown",
   "id": "3f89be46",
   "metadata": {
    "hidden": true
   },
   "source": [
    "### Solution"
   ]
  },
  {
   "cell_type": "code",
   "execution_count": 30,
   "id": "91ed09e6",
   "metadata": {
    "ExecuteTime": {
     "end_time": "2021-12-08T07:27:40.845915Z",
     "start_time": "2021-12-08T07:27:40.836489Z"
    },
    "hidden": true
   },
   "outputs": [
    {
     "name": "stdout",
     "output_type": "stream",
     "text": [
      "{4: 83, 6: 218, 3: 89, 2: 69, 5: 261, 7: 80}\n"
     ]
    }
   ],
   "source": [
    "frequency = dict()\n",
    "\n",
    "for i in data:\n",
    "    for j in i[1]:\n",
    "        if len(j) in frequency:\n",
    "            frequency[len(j)] += 1\n",
    "        else: \n",
    "            frequency[len(j)] = 1\n",
    "\n",
    "print(frequency)"
   ]
  },
  {
   "cell_type": "code",
   "execution_count": 31,
   "id": "79402f11",
   "metadata": {
    "ExecuteTime": {
     "end_time": "2021-12-08T07:27:43.019338Z",
     "start_time": "2021-12-08T07:27:43.010191Z"
    },
    "hidden": true
   },
   "outputs": [
    {
     "data": {
      "text/plain": [
       "321"
      ]
     },
     "execution_count": 31,
     "metadata": {},
     "output_type": "execute_result"
    }
   ],
   "source": [
    "result = frequency[2] + frequency[4] + frequency[3] + frequency[7]\n",
    "result"
   ]
  },
  {
   "cell_type": "markdown",
   "id": "eaefdba3",
   "metadata": {
    "heading_collapsed": true
   },
   "source": [
    "## Part Two "
   ]
  },
  {
   "cell_type": "markdown",
   "id": "a7fa7737",
   "metadata": {
    "heading_collapsed": true,
    "hidden": true
   },
   "source": [
    "### Question"
   ]
  },
  {
   "cell_type": "markdown",
   "id": "b9c64c28",
   "metadata": {
    "hidden": true
   },
   "source": [
    "Through a little deduction, you should now be able to determine the remaining digits. Consider again the first example above:\n",
    "\n",
    "```\n",
    "acedgfb cdfbe gcdfa fbcad dab cefabd cdfgeb eafb cagedb ab |\n",
    "cdfeb fcadb cdfeb cdbaf\n",
    "```"
   ]
  },
  {
   "cell_type": "markdown",
   "id": "e10dd985",
   "metadata": {
    "hidden": true
   },
   "source": [
    "After some careful analysis, the mapping between signal wires and segments only make sense in the following configuration:\n",
    "\n",
    "```\n",
    " dddd\n",
    "e    a\n",
    "e    a\n",
    " ffff\n",
    "g    b\n",
    "g    b\n",
    " cccc \n",
    "```"
   ]
  },
  {
   "cell_type": "markdown",
   "id": "587a80d6",
   "metadata": {
    "hidden": true
   },
   "source": [
    "So, the unique signal patterns would correspond to the following digits:\n",
    " - acedgfb: 8\n",
    " - cdfbe: 5\n",
    " - gcdfa: 2\n",
    " - fbcad: 3\n",
    " - dab: 7\n",
    " - cefabd: 9\n",
    " - cdfgeb: 6\n",
    " - eafb: 4\n",
    " - cagedb: 0\n",
    " - ab: 1\n",
    "\n",
    "Then, the four digits of the output value can be decoded:\n",
    " - cdfeb: 5\n",
    " - fcadb: 3\n",
    " - cdfeb: 5\n",
    " - cdbaf: 3\n",
    " \n",
    "Therefore, the output value for this entry is **5353**.\n",
    "\n",
    "Following this same process for each entry in the second, larger example above, the output value of each entry can be determined:\n",
    " - fdgacbe cefdb cefbgd gcbe: 8394\n",
    " - fcgedb cgb dgebacf gc: 9781\n",
    " - cg cg fdcagb cbg: 1197\n",
    " - efabcd cedba gadfec cb: 9361\n",
    " - gecf egdcabf bgf bfgea: 4873\n",
    " - gebdcfa ecba ca fadegcb: 8418\n",
    " - cefg dcbef fcge gbcadfe: 4548\n",
    " - ed bcgafe cdgba cbgef: 1625\n",
    " - gbdfcae bgc cg cgb: 8717\n",
    " - fgae cfgab fg bagce: 4315\n",
    "\n",
    "Adding all of the output values in this larger example produces **61229**."
   ]
  },
  {
   "cell_type": "markdown",
   "id": "21fcd9e9",
   "metadata": {
    "hidden": true
   },
   "source": [
    "For each entry, determine all of the wire/segment connections and decode the four-digit output values. **What do you get if you add up all of the output values?**"
   ]
  },
  {
   "cell_type": "markdown",
   "id": "00bc2282",
   "metadata": {
    "hidden": true
   },
   "source": [
    "### Solution"
   ]
  },
  {
   "cell_type": "markdown",
   "id": "9be9ac2b",
   "metadata": {
    "hidden": true
   },
   "source": [
    "#### IN PROGRESS !  | not working  :("
   ]
  },
  {
   "cell_type": "code",
   "execution_count": 49,
   "id": "b49977cf",
   "metadata": {
    "ExecuteTime": {
     "end_time": "2021-12-08T09:12:25.001480Z",
     "start_time": "2021-12-08T09:12:24.984869Z"
    },
    "hidden": true
   },
   "outputs": [],
   "source": [
    "codex = {\n",
    "    'a': '',\n",
    "    'b': '',\n",
    "    'c': '',\n",
    "    'd': '',\n",
    "    'e': '',\n",
    "    'f': '',\n",
    "    'g': ''\n",
    "}\n",
    "\n",
    "digit_patterns = {\n",
    "    1: '',\n",
    "    2: '',\n",
    "    3: '',\n",
    "    4: '',\n",
    "    5: '',\n",
    "    6: '',\n",
    "    7: '',\n",
    "    8: ''\n",
    "}\n",
    "\n",
    "digit_lengths = {\n",
    "    0: 6,\n",
    "    1: 2,\n",
    "    2: 5,\n",
    "    3: 5,\n",
    "    4: 4,\n",
    "    5: 5,\n",
    "    6: 6,\n",
    "    7: 3,\n",
    "    8: 7,\n",
    "    9: 6\n",
    "}\n",
    "\n",
    "digit_letters = {\n",
    "    0: ['a', 'b', 'c', 'e', 'f', 'g'],\n",
    "    1: ['c', 'f'],\n",
    "    2: ['a', 'c', 'd', 'e', 'g'],\n",
    "    3: ['a', 'c', 'd', 'f', 'g'],\n",
    "    4: ['b', 'c', 'd', 'f'],\n",
    "    5: ['a', 'b', 'd', 'f', 'g'],\n",
    "    6: ['a', 'b', 'd', 'e', 'f', 'g'],\n",
    "    7: ['a', 'c', 'f'],\n",
    "    8: ['a', 'b', 'c', 'd', 'e', 'f', 'g'],\n",
    "    9: ['a', 'b', 'c', 'd', 'f', 'g']\n",
    "}\n",
    "\n",
    "letters = list('abcdefg')"
   ]
  },
  {
   "cell_type": "code",
   "execution_count": 41,
   "id": "414b1035",
   "metadata": {
    "ExecuteTime": {
     "end_time": "2021-12-08T08:53:44.882854Z",
     "start_time": "2021-12-08T08:53:44.878339Z"
    },
    "hidden": true
   },
   "outputs": [
    {
     "name": "stdout",
     "output_type": "stream",
     "text": [
      "['a', 'b', 'c', 'e', 'f', 'g']\n"
     ]
    }
   ],
   "source": [
    "print(sorted(set(letters) - set('d')))"
   ]
  },
  {
   "cell_type": "code",
   "execution_count": 51,
   "id": "78398572",
   "metadata": {
    "ExecuteTime": {
     "end_time": "2021-12-08T09:13:22.511631Z",
     "start_time": "2021-12-08T09:13:22.502926Z"
    },
    "hidden": true
   },
   "outputs": [
    {
     "data": {
      "text/plain": [
       "['a', 'b', 'c', 'd', 'e', 'f', 'g']"
      ]
     },
     "execution_count": 51,
     "metadata": {},
     "output_type": "execute_result"
    }
   ],
   "source": [
    "letters"
   ]
  },
  {
   "cell_type": "code",
   "execution_count": 50,
   "id": "cc918c6d",
   "metadata": {
    "ExecuteTime": {
     "end_time": "2021-12-08T09:13:19.411620Z",
     "start_time": "2021-12-08T09:13:19.407823Z"
    },
    "hidden": true
   },
   "outputs": [
    {
     "name": "stdout",
     "output_type": "stream",
     "text": [
      "abcdefg\n"
     ]
    }
   ],
   "source": [
    "print(''.join(letters))"
   ]
  },
  {
   "cell_type": "code",
   "execution_count": 284,
   "id": "48b0e2ac",
   "metadata": {
    "ExecuteTime": {
     "end_time": "2021-12-08T11:26:48.035555Z",
     "start_time": "2021-12-08T11:26:48.025949Z"
    },
    "code_folding": [],
    "hidden": true
   },
   "outputs": [],
   "source": [
    "input_ = data\n",
    "\n",
    "codex = {\n",
    "    'a': '',\n",
    "    'b': '',\n",
    "    'c': '',\n",
    "    'd': '',\n",
    "    'e': '',\n",
    "    'f': '',\n",
    "    'g': ''\n",
    "}\n",
    "\n",
    "digit_patterns = {\n",
    "    0: '',\n",
    "    1: '',\n",
    "    2: '',\n",
    "    3: '',\n",
    "    4: '',\n",
    "    5: '',\n",
    "    6: '',\n",
    "    7: '',\n",
    "    8: '',\n",
    "    9: ''\n",
    "}\n",
    "    "
   ]
  },
  {
   "cell_type": "code",
   "execution_count": 285,
   "id": "ee47843a",
   "metadata": {
    "ExecuteTime": {
     "end_time": "2021-12-08T11:26:48.866327Z",
     "start_time": "2021-12-08T11:26:48.859706Z"
    },
    "hidden": true
   },
   "outputs": [
    {
     "name": "stdout",
     "output_type": "stream",
     "text": [
      "{'a': '', 'b': '', 'c': '', 'd': '', 'e': '', 'f': '', 'g': ''}\n",
      "{0: '', 1: '', 2: '', 3: '', 4: '', 5: '', 6: '', 7: '', 8: '', 9: ''}\n"
     ]
    }
   ],
   "source": [
    "print(codex)\n",
    "print(digit_patterns)"
   ]
  },
  {
   "cell_type": "code",
   "execution_count": 286,
   "id": "c9c93929",
   "metadata": {
    "ExecuteTime": {
     "end_time": "2021-12-08T11:26:51.032150Z",
     "start_time": "2021-12-08T11:26:51.001230Z"
    },
    "hidden": true
   },
   "outputs": [],
   "source": [
    "for i in input_:\n",
    "    for j in i[0]:\n",
    "        # 1\n",
    "        if len(j) == 2:\n",
    "            if not digit_patterns[1]:\n",
    "                digit_patterns[1] = ''.join(sorted(list(j)))\n",
    "        # 4\n",
    "        if len(j) == 4:\n",
    "            if not digit_patterns[4]:\n",
    "                digit_patterns[4] = ''.join(sorted(list(j)))\n",
    "        # 7\n",
    "        if len(j) == 3:\n",
    "            if not digit_patterns[7]:\n",
    "                digit_patterns[7] = ''.join(sorted(list(j)))\n",
    "        # 8\n",
    "        if len(j) == 7:\n",
    "            if not digit_patterns[8]:\n",
    "                digit_patterns[8] = ''.join(sorted(list(j)))\n",
    "\n",
    "        # 3\n",
    "        if len(j) == 5 and not set(digit_patterns[7]) - set(list(j)):\n",
    "            if not digit_patterns[3]:\n",
    "                digit_patterns[3] = ''.join(sorted(list(j)))\n",
    "        # 9\n",
    "        if len(j) == 6 and not set(digit_patterns[3]) - set(list(j)):\n",
    "            if not digit_patterns[9]:\n",
    "                digit_patterns[9] = ''.join(sorted(list(j)))\n",
    "        # 5\n",
    "        if len(j) == 5 and not set(digit_patterns[9]) - set(list(j)):\n",
    "            if not digit_patterns[5]:\n",
    "                digit_patterns[5] = ''.join(sorted(list(j)))\n",
    "\n",
    "        # e\n",
    "        if digit_patterns[9] and not codex['e']:\n",
    "            codex['e'] = list(set(letters) - set(digit_patterns[9]))[0]\n",
    "        # b\n",
    "        if digit_patterns[3] and codex['e'] and not codex['b']:\n",
    "            codex['b'] = list(set(letters) - set(digit_patterns[3] + codex['e']))[0]\n",
    "\n",
    "        # 0\n",
    "        if len(j) == 6 and not (\n",
    "            set(digit_patterns[7] + codex['b'] + codex['e']) - set(list(j))\n",
    "        ):\n",
    "            if not digit_patterns[0]:\n",
    "                digit_patterns[0] = ''.join(sorted(list(j)))\n",
    "\n",
    "        # 6\n",
    "        if len(j) == 6 and not (set(digit_patterns[5] + codex['e']) - set(list(j))):\n",
    "            if not digit_patterns[6]:\n",
    "                digit_patterns[6] = ''.join(sorted(list(j)))\n",
    "        # 2\n",
    "        if len(j) == 5 and not (set(digit_patterns[3] + codex['e']) - set(list(j))):\n",
    "            if not digit_patterns[2]:\n",
    "                digit_patterns[2] = ''.join(sorted(list(j)))\n",
    "                \n",
    "# a \n",
    "#codex['a'] = list(set(digit_patterns[7]) - set(digit_patterns[1]))[0]\n",
    "# d\n",
    "#codex['d'] = list(set(letters) - set(digit_patterns[0]))[0]\n",
    "# c\n",
    "#codex['c'] = list(set(digit_patterns[9]) - set(digit_patterns[5]))[0]\n",
    "# g\n",
    "#codex['g'] = list(set(digit_patterns[9]) - set(digit_patterns[4] + codex['a']))[0]\n",
    "# f\n",
    "#codex['f'] = list(set(letters) - set(digit_patterns[2]))[0]   \n"
   ]
  },
  {
   "cell_type": "code",
   "execution_count": 287,
   "id": "4c5fee7b",
   "metadata": {
    "ExecuteTime": {
     "end_time": "2021-12-08T11:26:52.124958Z",
     "start_time": "2021-12-08T11:26:52.116394Z"
    },
    "hidden": true
   },
   "outputs": [
    {
     "name": "stdout",
     "output_type": "stream",
     "text": [
      "{'a': '', 'b': 'b', 'c': '', 'd': '', 'e': 'a', 'f': '', 'g': ''}\n",
      "{0: 'acdefg', 1: 'be', 2: '', 3: 'cdefg', 4: 'bceg', 5: '', 6: 'acdefg', 7: 'bde', 8: 'abcdefg', 9: 'bcdefg'}\n"
     ]
    }
   ],
   "source": [
    "print(codex)\n",
    "print(digit_patterns)"
   ]
  },
  {
   "cell_type": "code",
   "execution_count": 275,
   "id": "ead6c7d1",
   "metadata": {
    "ExecuteTime": {
     "end_time": "2021-12-08T11:24:11.356305Z",
     "start_time": "2021-12-08T11:24:11.345509Z"
    },
    "hidden": true
   },
   "outputs": [
    {
     "data": {
      "text/plain": [
       "[['be',\n",
       "  'cfbegad',\n",
       "  'cbdgef',\n",
       "  'fgaecd',\n",
       "  'cgeb',\n",
       "  'fdcge',\n",
       "  'agebfd',\n",
       "  'fecdb',\n",
       "  'fabcd',\n",
       "  'edb'],\n",
       " ['fdgacbe', 'cefdb', 'cefbgd', 'gcbe']]"
      ]
     },
     "execution_count": 275,
     "metadata": {},
     "output_type": "execute_result"
    }
   ],
   "source": [
    "input_[0]"
   ]
  },
  {
   "cell_type": "code",
   "execution_count": 206,
   "id": "ddc1c6ce",
   "metadata": {
    "ExecuteTime": {
     "end_time": "2021-12-08T10:53:15.465050Z",
     "start_time": "2021-12-08T10:53:15.456453Z"
    },
    "hidden": true
   },
   "outputs": [
    {
     "data": {
      "text/plain": [
       "'e'"
      ]
     },
     "execution_count": 206,
     "metadata": {},
     "output_type": "execute_result"
    }
   ],
   "source": [
    "list(set(letters) - set(codex.values()))[0]"
   ]
  },
  {
   "cell_type": "code",
   "execution_count": 131,
   "id": "5f5f479e",
   "metadata": {
    "ExecuteTime": {
     "end_time": "2021-12-08T10:36:02.246310Z",
     "start_time": "2021-12-08T10:36:02.237910Z"
    },
    "hidden": true
   },
   "outputs": [
    {
     "data": {
      "text/plain": [
       "{'e', 'f'}"
      ]
     },
     "execution_count": 131,
     "metadata": {},
     "output_type": "execute_result"
    }
   ],
   "source": [
    "set(letters) - set(digit_patterns[7] + codex['b'] + codex['d'] + codex['e'])"
   ]
  },
  {
   "cell_type": "code",
   "execution_count": 132,
   "id": "5aa3a92c",
   "metadata": {
    "ExecuteTime": {
     "end_time": "2021-12-08T10:36:04.705213Z",
     "start_time": "2021-12-08T10:36:04.695878Z"
    },
    "hidden": true
   },
   "outputs": [
    {
     "data": {
      "text/plain": [
       "'e'"
      ]
     },
     "execution_count": 132,
     "metadata": {},
     "output_type": "execute_result"
    }
   ],
   "source": [
    "list(set(digit_patterns[9]) - set(digit_patterns[4] + codex['a']))[0]"
   ]
  },
  {
   "cell_type": "code",
   "execution_count": 105,
   "id": "36f4ebf3",
   "metadata": {
    "ExecuteTime": {
     "end_time": "2021-12-08T10:11:21.235750Z",
     "start_time": "2021-12-08T10:11:21.225520Z"
    },
    "hidden": true
   },
   "outputs": [
    {
     "data": {
      "text/plain": [
       "{'c'}"
      ]
     },
     "execution_count": 105,
     "metadata": {},
     "output_type": "execute_result"
    }
   ],
   "source": [
    "set(digit_patterns[7]) - set(digit_patterns[1])"
   ]
  }
 ],
 "metadata": {
  "hide_input": false,
  "kernelspec": {
   "display_name": "Python 3 (ipykernel)",
   "language": "python",
   "name": "python3"
  },
  "language_info": {
   "codemirror_mode": {
    "name": "ipython",
    "version": 3
   },
   "file_extension": ".py",
   "mimetype": "text/x-python",
   "name": "python",
   "nbconvert_exporter": "python",
   "pygments_lexer": "ipython3",
   "version": "3.8.12"
  },
  "toc": {
   "base_numbering": 1,
   "nav_menu": {},
   "number_sections": false,
   "sideBar": true,
   "skip_h1_title": false,
   "title_cell": "Table of Contents",
   "title_sidebar": "Contents",
   "toc_cell": false,
   "toc_position": {},
   "toc_section_display": true,
   "toc_window_display": true
  },
  "varInspector": {
   "cols": {
    "lenName": 16,
    "lenType": 16,
    "lenVar": 40
   },
   "kernels_config": {
    "python": {
     "delete_cmd_postfix": "",
     "delete_cmd_prefix": "del ",
     "library": "var_list.py",
     "varRefreshCmd": "print(var_dic_list())"
    },
    "r": {
     "delete_cmd_postfix": ") ",
     "delete_cmd_prefix": "rm(",
     "library": "var_list.r",
     "varRefreshCmd": "cat(var_dic_list()) "
    }
   },
   "types_to_exclude": [
    "module",
    "function",
    "builtin_function_or_method",
    "instance",
    "_Feature"
   ],
   "window_display": false
  }
 },
 "nbformat": 4,
 "nbformat_minor": 5
}
