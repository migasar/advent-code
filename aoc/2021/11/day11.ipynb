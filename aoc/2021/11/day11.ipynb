{
 "cells": [
  {
   "cell_type": "markdown",
   "id": "0034af77",
   "metadata": {},
   "source": [
    "Day 11: Dumbo Octopus\n",
    "==="
   ]
  },
  {
   "cell_type": "markdown",
   "id": "33b81b71",
   "metadata": {},
   "source": [
    "## Parse Input"
   ]
  },
  {
   "cell_type": "markdown",
   "id": "93605263",
   "metadata": {},
   "source": [
    "### Get Input"
   ]
  },
  {
   "cell_type": "code",
   "execution_count": 1,
   "id": "40bb383f",
   "metadata": {
    "ExecuteTime": {
     "end_time": "2021-12-11T08:36:30.224059Z",
     "start_time": "2021-12-11T08:36:30.221879Z"
    }
   },
   "outputs": [],
   "source": [
    "input_ex = \"\"\"5483143223\n",
    "2745854711\n",
    "5264556173\n",
    "6141336146\n",
    "6357385478\n",
    "4167524645\n",
    "2176841721\n",
    "6882881134\n",
    "4846848554\n",
    "5283751526\"\"\""
   ]
  },
  {
   "cell_type": "code",
   "execution_count": 2,
   "id": "b072a5a3",
   "metadata": {
    "ExecuteTime": {
     "end_time": "2021-12-11T08:36:30.227436Z",
     "start_time": "2021-12-11T08:36:30.225148Z"
    }
   },
   "outputs": [],
   "source": [
    "input_full = \"\"\"3322874652\n",
    "5636588857\n",
    "7755117548\n",
    "5854121833\n",
    "2856682477\n",
    "3124873812\n",
    "1541372254\n",
    "8634383236\n",
    "2424323348\n",
    "2265635842\"\"\""
   ]
  },
  {
   "cell_type": "markdown",
   "id": "2f1e6c32",
   "metadata": {},
   "source": [
    "### Set Input"
   ]
  },
  {
   "cell_type": "code",
   "execution_count": 3,
   "id": "69dd4153",
   "metadata": {
    "ExecuteTime": {
     "end_time": "2021-12-11T08:36:30.231453Z",
     "start_time": "2021-12-11T08:36:30.229716Z"
    }
   },
   "outputs": [],
   "source": [
    "# Define input\n",
    "puzzle_input = input_ex"
   ]
  },
  {
   "cell_type": "code",
   "execution_count": 4,
   "id": "a124b556",
   "metadata": {
    "ExecuteTime": {
     "end_time": "2021-12-11T08:36:30.325900Z",
     "start_time": "2021-12-11T08:36:30.232683Z"
    }
   },
   "outputs": [
    {
     "data": {
      "text/plain": [
       "array([[5, 4, 8, 3, 1, 4, 3, 2, 2, 3],\n",
       "       [2, 7, 4, 5, 8, 5, 4, 7, 1, 1]])"
      ]
     },
     "execution_count": 4,
     "metadata": {},
     "output_type": "execute_result"
    }
   ],
   "source": [
    "import numpy as np\n",
    "\n",
    "# Format input\n",
    "data = np.array([[int(x) for x in list(col)] for col in puzzle_input.splitlines()])\n",
    "data[:2]"
   ]
  },
  {
   "cell_type": "markdown",
   "id": "577afa86",
   "metadata": {},
   "source": [
    "## Part One"
   ]
  },
  {
   "cell_type": "markdown",
   "id": "cfa3c727",
   "metadata": {
    "heading_collapsed": true
   },
   "source": [
    "### Question"
   ]
  },
  {
   "cell_type": "markdown",
   "id": "3f89be46",
   "metadata": {},
   "source": [
    "### Solution"
   ]
  },
  {
   "cell_type": "code",
   "execution_count": 5,
   "id": "d97f4d3c",
   "metadata": {
    "ExecuteTime": {
     "end_time": "2021-12-11T08:36:30.334501Z",
     "start_time": "2021-12-11T08:36:30.327494Z"
    },
    "code_folding": []
   },
   "outputs": [],
   "source": [
    "def part1(data, step=100):\n",
    "    \"\"\"Solve part 1\"\"\"\n",
    "\n",
    "    flashes = 0\n",
    "    grid = np.copy(data)\n",
    "\n",
    "    for _ in range(step):\n",
    "        grid += 1\n",
    "\n",
    "        while [z for z in zip(*np.where(grid > 9))] != []:\n",
    "            mob = [z for z in zip(*np.where(grid > 9))]\n",
    "\n",
    "            for flash in mob:\n",
    "                flashes += 1\n",
    "                grid[flash] = 0\n",
    "                row, col = flash\n",
    "                adjacents = [\n",
    "                    # row + 1\n",
    "                    [min(row+1, (len(grid)-1)), min(col+1, (len(grid[0])-1))],\n",
    "                    [min(row+1, (len(grid)-1)), col],\n",
    "                    [min(row+1, (len(grid)-1)), max(0,col-1)],\n",
    "                    # row\n",
    "                    [row, min(col+1, (len(grid[0])-1))],\n",
    "                    [row, max(0,col-1)],\n",
    "                    # row - 1\n",
    "                    [max(0,row-1), min(col+1, (len(grid[0])-1))],\n",
    "                    [max(0,row-1), col],\n",
    "                    [max(0,row-1), max(0,col-1)]\n",
    "                ]\n",
    "\n",
    "                for adj in list(set(tuple(a) for a in adjacents)):\n",
    "                    if grid[adj] == 0:\n",
    "                        continue\n",
    "                    else:\n",
    "                        grid[adj] += 1\n",
    "\n",
    "    return flashes"
   ]
  },
  {
   "cell_type": "code",
   "execution_count": 6,
   "id": "79402f11",
   "metadata": {
    "ExecuteTime": {
     "end_time": "2021-12-11T08:36:30.369340Z",
     "start_time": "2021-12-11T08:36:30.335513Z"
    }
   },
   "outputs": [
    {
     "data": {
      "text/plain": [
       "1656"
      ]
     },
     "execution_count": 6,
     "metadata": {},
     "output_type": "execute_result"
    }
   ],
   "source": [
    "# Result\n",
    "part1(data)"
   ]
  },
  {
   "cell_type": "markdown",
   "id": "eaefdba3",
   "metadata": {},
   "source": [
    "## Part Two "
   ]
  },
  {
   "cell_type": "markdown",
   "id": "a7fa7737",
   "metadata": {
    "heading_collapsed": true
   },
   "source": [
    "### Question"
   ]
  },
  {
   "cell_type": "markdown",
   "id": "00bc2282",
   "metadata": {},
   "source": [
    "### Solution"
   ]
  },
  {
   "cell_type": "code",
   "execution_count": 7,
   "id": "d6d85c51",
   "metadata": {
    "ExecuteTime": {
     "end_time": "2021-12-11T08:36:30.376237Z",
     "start_time": "2021-12-11T08:36:30.370364Z"
    }
   },
   "outputs": [],
   "source": [
    "def part2(data):\n",
    "    \"\"\"Solve part 2\"\"\"\n",
    "\n",
    "    steps = 0\n",
    "    grid = np.copy(data)\n",
    "\n",
    "    while not np.all(grid == 0):\n",
    "        steps += 1\n",
    "        grid += 1\n",
    "\n",
    "        while [z for z in zip(*np.where(grid > 9))] != []:\n",
    "            mob = [z for z in zip(*np.where(grid > 9))]\n",
    "\n",
    "            for flash in mob:\n",
    "                grid[flash] = 0\n",
    "                row, col = flash\n",
    "                adjacents = [\n",
    "                    # row + 1\n",
    "                    [min(row+1, (len(grid)-1)), min(col+1, (len(grid[0])-1))],\n",
    "                    [min(row+1, (len(grid)-1)), col],\n",
    "                    [min(row+1, (len(grid)-1)), max(0,col-1)],\n",
    "                    # row\n",
    "                    [row, min(col+1, (len(grid[0])-1))],\n",
    "                    [row, max(0,col-1)],\n",
    "                    # row - 1\n",
    "                    [max(0,row-1), min(col+1, (len(grid[0])-1))],\n",
    "                    [max(0,row-1), col],\n",
    "                    [max(0,row-1), max(0,col-1)]\n",
    "                ]\n",
    "\n",
    "                for adj in list(set(tuple(a) for a in adjacents)):\n",
    "                    if grid[adj] == 0:\n",
    "                        continue\n",
    "                    else:\n",
    "                        grid[adj] += 1\n",
    "\n",
    "    return steps"
   ]
  },
  {
   "cell_type": "code",
   "execution_count": 8,
   "id": "57aaf6d5",
   "metadata": {
    "ExecuteTime": {
     "end_time": "2021-12-11T08:36:30.440792Z",
     "start_time": "2021-12-11T08:36:30.377545Z"
    }
   },
   "outputs": [
    {
     "data": {
      "text/plain": [
       "195"
      ]
     },
     "execution_count": 8,
     "metadata": {},
     "output_type": "execute_result"
    }
   ],
   "source": [
    "# Result\n",
    "part2(data)"
   ]
  }
 ],
 "metadata": {
  "hide_input": false,
  "kernelspec": {
   "display_name": "Python 3 (ipykernel)",
   "language": "python",
   "name": "python3"
  },
  "language_info": {
   "codemirror_mode": {
    "name": "ipython",
    "version": 3
   },
   "file_extension": ".py",
   "mimetype": "text/x-python",
   "name": "python",
   "nbconvert_exporter": "python",
   "pygments_lexer": "ipython3",
   "version": "3.8.12"
  },
  "toc": {
   "base_numbering": 1,
   "nav_menu": {},
   "number_sections": false,
   "sideBar": true,
   "skip_h1_title": false,
   "title_cell": "Table of Contents",
   "title_sidebar": "Contents",
   "toc_cell": false,
   "toc_position": {},
   "toc_section_display": true,
   "toc_window_display": false
  },
  "varInspector": {
   "cols": {
    "lenName": 16,
    "lenType": 16,
    "lenVar": 40
   },
   "kernels_config": {
    "python": {
     "delete_cmd_postfix": "",
     "delete_cmd_prefix": "del ",
     "library": "var_list.py",
     "varRefreshCmd": "print(var_dic_list())"
    },
    "r": {
     "delete_cmd_postfix": ") ",
     "delete_cmd_prefix": "rm(",
     "library": "var_list.r",
     "varRefreshCmd": "cat(var_dic_list()) "
    }
   },
   "types_to_exclude": [
    "module",
    "function",
    "builtin_function_or_method",
    "instance",
    "_Feature"
   ],
   "window_display": false
  }
 },
 "nbformat": 4,
 "nbformat_minor": 5
}
