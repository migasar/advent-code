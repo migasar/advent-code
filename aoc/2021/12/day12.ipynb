{
 "cells": [
  {
   "cell_type": "markdown",
   "id": "e41b3f6e",
   "metadata": {},
   "source": [
    "# IN PROGRESS !"
   ]
  },
  {
   "cell_type": "markdown",
   "id": "0034af77",
   "metadata": {},
   "source": [
    "Day 12: Passage Pathing\n",
    "==="
   ]
  },
  {
   "cell_type": "markdown",
   "id": "33b81b71",
   "metadata": {},
   "source": [
    "## Parse Input"
   ]
  },
  {
   "cell_type": "markdown",
   "id": "93605263",
   "metadata": {
    "heading_collapsed": true
   },
   "source": [
    "### Get Input"
   ]
  },
  {
   "cell_type": "code",
   "execution_count": 1,
   "id": "40bb383f",
   "metadata": {
    "ExecuteTime": {
     "end_time": "2021-12-12T09:29:40.654664Z",
     "start_time": "2021-12-12T09:29:40.649633Z"
    },
    "hidden": true
   },
   "outputs": [],
   "source": [
    "INPUT_EX = \"\"\"start-A\n",
    "start-b\n",
    "A-c\n",
    "A-b\n",
    "b-d\n",
    "A-end\n",
    "b-end\"\"\""
   ]
  },
  {
   "cell_type": "code",
   "execution_count": null,
   "id": "b072a5a3",
   "metadata": {
    "ExecuteTime": {
     "end_time": "2021-12-12T07:43:10.979767Z",
     "start_time": "2021-12-12T07:43:10.973966Z"
    },
    "hidden": true
   },
   "outputs": [],
   "source": [
    "INPUT_FULL = \"\"\"ax-end\n",
    "xq-GF\n",
    "end-xq\n",
    "im-wg\n",
    "ax-ie\n",
    "start-ws\n",
    "ie-ws\n",
    "CV-start\n",
    "ng-wg\n",
    "ng-ie\n",
    "GF-ng\n",
    "ng-av\n",
    "CV-end\n",
    "ie-GF\n",
    "CV-ie\n",
    "im-xq\n",
    "start-GF\n",
    "GF-ws\n",
    "wg-LY\n",
    "CV-ws\n",
    "im-CV\n",
    "CV-wg\"\"\""
   ]
  },
  {
   "cell_type": "markdown",
   "id": "2f1e6c32",
   "metadata": {},
   "source": [
    "### Set Input"
   ]
  },
  {
   "cell_type": "code",
   "execution_count": 2,
   "id": "69dd4153",
   "metadata": {
    "ExecuteTime": {
     "end_time": "2021-12-12T09:29:48.360339Z",
     "start_time": "2021-12-12T09:29:48.357360Z"
    }
   },
   "outputs": [],
   "source": [
    "# Define input\n",
    "puzzle_input = INPUT_EX"
   ]
  },
  {
   "cell_type": "code",
   "execution_count": 3,
   "id": "a124b556",
   "metadata": {
    "ExecuteTime": {
     "end_time": "2021-12-12T09:29:49.245623Z",
     "start_time": "2021-12-12T09:29:49.237666Z"
    }
   },
   "outputs": [],
   "source": [
    "# Format input as a graph of links\n",
    "\n",
    "data = {}\n",
    "\n",
    "for path_ in puzzle_input.splitlines():   \n",
    "    a, b = path_.split('-')\n",
    "    if a in data:\n",
    "        data[a].append(b)\n",
    "    else:\n",
    "        data[a] = [b]\n",
    "    if b in data:\n",
    "        data[b].append(a)\n",
    "    else:\n",
    "        data[b] = [a]\n",
    "\n",
    "#print(data)"
   ]
  },
  {
   "cell_type": "markdown",
   "id": "577afa86",
   "metadata": {},
   "source": [
    "## Part One"
   ]
  },
  {
   "cell_type": "markdown",
   "id": "cfa3c727",
   "metadata": {},
   "source": [
    "### Question"
   ]
  },
  {
   "cell_type": "markdown",
   "id": "3f89be46",
   "metadata": {},
   "source": [
    "### Solution"
   ]
  },
  {
   "cell_type": "code",
   "execution_count": 5,
   "id": "d97f4d3c",
   "metadata": {
    "ExecuteTime": {
     "end_time": "2021-12-12T09:09:17.869673Z",
     "start_time": "2021-12-12T09:09:17.862318Z"
    },
    "code_folding": []
   },
   "outputs": [],
   "source": [
    "def part1(data):\n",
    "    \"\"\"Solve part 1\"\"\"\n",
    "    \n",
    "    # paths = find_next_node(\"start\", [\"start\"], [])\n",
    "    # [print(a) for a in [\"-\".join(p) for p in paths]]\n",
    "    # return len(paths)\n",
    "    pass"
   ]
  },
  {
   "cell_type": "code",
   "execution_count": 6,
   "id": "79402f11",
   "metadata": {
    "ExecuteTime": {
     "end_time": "2021-12-12T09:09:18.343116Z",
     "start_time": "2021-12-12T09:09:18.321794Z"
    }
   },
   "outputs": [
    {
     "data": {
      "text/plain": [
       "10"
      ]
     },
     "execution_count": 6,
     "metadata": {},
     "output_type": "execute_result"
    }
   ],
   "source": [
    "# Result\n",
    "part1(data)"
   ]
  },
  {
   "cell_type": "markdown",
   "id": "eaefdba3",
   "metadata": {},
   "source": [
    "## Part Two "
   ]
  },
  {
   "cell_type": "markdown",
   "id": "a7fa7737",
   "metadata": {},
   "source": [
    "### Question"
   ]
  },
  {
   "cell_type": "markdown",
   "id": "579c926a",
   "metadata": {},
   "source": [
    "### Solution"
   ]
  },
  {
   "cell_type": "code",
   "execution_count": 5,
   "id": "11dec1b2",
   "metadata": {
    "ExecuteTime": {
     "end_time": "2021-12-12T09:09:17.869673Z",
     "start_time": "2021-12-12T09:09:17.862318Z"
    },
    "code_folding": []
   },
   "outputs": [],
   "source": [
    "def part2(data):\n",
    "    \"\"\"Solve part 2\"\"\"\n",
    "    \n",
    "    pass"
   ]
  },
  {
   "cell_type": "code",
   "execution_count": 6,
   "id": "1cbc56e4",
   "metadata": {
    "ExecuteTime": {
     "end_time": "2021-12-12T09:09:18.343116Z",
     "start_time": "2021-12-12T09:09:18.321794Z"
    }
   },
   "outputs": [
    {
     "data": {
      "text/plain": [
       "10"
      ]
     },
     "execution_count": 6,
     "metadata": {},
     "output_type": "execute_result"
    }
   ],
   "source": [
    "# Result\n",
    "part2(data)"
   ]
  }
 ],
 "metadata": {
  "hide_input": false,
  "kernelspec": {
   "display_name": "Python 3 (ipykernel)",
   "language": "python",
   "name": "python3"
  },
  "language_info": {
   "codemirror_mode": {
    "name": "ipython",
    "version": 3
   },
   "file_extension": ".py",
   "mimetype": "text/x-python",
   "name": "python",
   "nbconvert_exporter": "python",
   "pygments_lexer": "ipython3",
   "version": "3.8.12"
  },
  "toc": {
   "base_numbering": 1,
   "nav_menu": {},
   "number_sections": false,
   "sideBar": true,
   "skip_h1_title": false,
   "title_cell": "Table of Contents",
   "title_sidebar": "Contents",
   "toc_cell": false,
   "toc_position": {},
   "toc_section_display": true,
   "toc_window_display": false
  },
  "varInspector": {
   "cols": {
    "lenName": 16,
    "lenType": 16,
    "lenVar": 40
   },
   "kernels_config": {
    "python": {
     "delete_cmd_postfix": "",
     "delete_cmd_prefix": "del ",
     "library": "var_list.py",
     "varRefreshCmd": "print(var_dic_list())"
    },
    "r": {
     "delete_cmd_postfix": ") ",
     "delete_cmd_prefix": "rm(",
     "library": "var_list.r",
     "varRefreshCmd": "cat(var_dic_list()) "
    }
   },
   "types_to_exclude": [
    "module",
    "function",
    "builtin_function_or_method",
    "instance",
    "_Feature"
   ],
   "window_display": false
  }
 },
 "nbformat": 4,
 "nbformat_minor": 5
}
