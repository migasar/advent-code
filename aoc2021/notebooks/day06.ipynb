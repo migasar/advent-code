{
 "cells": [
  {
   "cell_type": "markdown",
   "id": "0034af77",
   "metadata": {},
   "source": [
    "Day 6: Lanternfish\n",
    "==="
   ]
  },
  {
   "cell_type": "markdown",
   "id": "577afa86",
   "metadata": {},
   "source": [
    "## Part One"
   ]
  },
  {
   "cell_type": "markdown",
   "id": "cfa3c727",
   "metadata": {},
   "source": [
    "### Statement"
   ]
  },
  {
   "cell_type": "markdown",
   "id": "8559cfc5",
   "metadata": {},
   "source": [
    "The sea floor is getting steeper. Maybe the sleigh keys got carried this way?\n",
    "\n",
    "A massive school of glowing lanternfish swims past. They must spawn quickly to reach such large numbers - maybe **exponentially** quickly? You should model their growth rate to be sure.\n",
    "\n",
    "Although you know nothing about this specific species of lanternfish, you make some guesses about their attributes. Surely, each lanternfish creates a new lanternfish once every 7 days.\n",
    "\n",
    "However, this process isn't necessarily synchronized between every lanternfish - one lanternfish might have 2 days left until it creates another lanternfish, while another might have 4. So, you can model each fish as a single number that represents **the number of days until it creates a new lanternfish**.\n",
    "\n",
    "Furthermore, you reason, a **new** lanternfish would surely need slightly longer before it's capable of producing more lanternfish: two more days for its first cycle.\n",
    "\n",
    "So, suppose you have a lanternfish with an internal timer value of 3:\n",
    "\n",
    " - After one day, its internal timer would become 2.\n",
    " - After another day, its internal timer would become 1.\n",
    " - After another day, its internal timer would become 0.\n",
    " - After another day, its internal timer would reset to 6, and it would create a **new** lanternfish with an internal timer of 8.\n",
    " - After another day, the first lanternfish would have an internal timer of 5, and the second lanternfish would have an internal timer of 7.\n",
    " \n",
    "A lanternfish that creates a new fish resets its timer to 6, **not 7** (because 0 is included as a valid timer value). The new lanternfish starts with an internal timer of 8 and does not start counting down until the next day."
   ]
  },
  {
   "cell_type": "markdown",
   "id": "e3148970",
   "metadata": {},
   "source": [
    "Realizing what you're trying to do, the submarine automatically produces a list of the ages of several hundred nearby lanternfish (your puzzle input). For example, suppose you were given the following list:\n",
    "\n",
    "`3,4,3,1,2`\n",
    "\n",
    "This list means that the first fish has an internal timer of 3, the second fish has an internal timer of 4, and so on until the fifth fish, which has an internal timer of 2. \n",
    "\n",
    "Simulating these fish over several days would proceed as follows:\n",
    "```\n",
    "Initial state: 3,4,3,1,2\n",
    "After  1 day:  2,3,2,0,1\n",
    "After  2 days: 1,2,1,6,0,8\n",
    "After  3 days: 0,1,0,5,6,7,8\n",
    "After  4 days: 6,0,6,4,5,6,7,8,8\n",
    "After  5 days: 5,6,5,3,4,5,6,7,7,8\n",
    "After  6 days: 4,5,4,2,3,4,5,6,6,7\n",
    "After  7 days: 3,4,3,1,2,3,4,5,5,6\n",
    "After  8 days: 2,3,2,0,1,2,3,4,4,5\n",
    "After  9 days: 1,2,1,6,0,1,2,3,3,4,8\n",
    "After 10 days: 0,1,0,5,6,0,1,2,2,3,7,8\n",
    "After 11 days: 6,0,6,4,5,6,0,1,1,2,6,7,8,8,8\n",
    "After 12 days: 5,6,5,3,4,5,6,0,0,1,5,6,7,7,7,8,8\n",
    "After 13 days: 4,5,4,2,3,4,5,6,6,0,4,5,6,6,6,7,7,8,8\n",
    "After 14 days: 3,4,3,1,2,3,4,5,5,6,3,4,5,5,5,6,6,7,7,8\n",
    "After 15 days: 2,3,2,0,1,2,3,4,4,5,2,3,4,4,4,5,5,6,6,7\n",
    "After 16 days: 1,2,1,6,0,1,2,3,3,4,1,2,3,3,3,4,4,5,5,6,8\n",
    "After 17 days: 0,1,0,5,6,0,1,2,2,3,0,1,2,2,2,3,3,4,4,5,7,8\n",
    "After 18 days: 6,0,6,4,5,6,0,1,1,2,6,0,1,1,1,2,2,3,3,4,6,7,8,8,8,8\n",
    "```"
   ]
  },
  {
   "cell_type": "markdown",
   "id": "90c0539f",
   "metadata": {},
   "source": [
    "Each day, a 0 becomes a 6 and adds a new 8 to the end of the list, while each other number decreases by 1 if it was present at the start of the day.\n",
    "\n",
    "In this example, after 18 days, there are a total of 26 fish. After 80 days, there would be a total of **5934**.\n",
    "\n",
    "Find a way to simulate lanternfish. **How many lanternfish would there be after 80 days?**"
   ]
  },
  {
   "cell_type": "markdown",
   "id": "5a2a83e9",
   "metadata": {},
   "source": [
    "### Input"
   ]
  },
  {
   "cell_type": "code",
   "execution_count": 1,
   "id": "ba795c6c",
   "metadata": {
    "ExecuteTime": {
     "end_time": "2021-12-06T09:19:50.619294Z",
     "start_time": "2021-12-06T09:19:50.616962Z"
    }
   },
   "outputs": [],
   "source": [
    "input_ex = \"3,4,3,1,2\""
   ]
  },
  {
   "cell_type": "code",
   "execution_count": 2,
   "id": "a39be348",
   "metadata": {
    "ExecuteTime": {
     "end_time": "2021-12-06T09:19:50.623518Z",
     "start_time": "2021-12-06T09:19:50.620742Z"
    }
   },
   "outputs": [],
   "source": [
    "input_full = \"1,3,4,1,5,2,1,1,1,1,5,1,5,1,1,1,1,3,1,1,1,1,1,1,1,2,1,5,1,1,1,1,1,4,4,1,1,4,1,1,2,3,1,5,1,4,1,2,4,1,1,1,1,1,1,1,1,2,5,3,3,5,1,1,1,1,4,1,1,3,1,1,1,2,3,4,1,1,5,1,1,1,1,1,2,1,3,1,3,1,2,5,1,1,1,1,5,1,5,5,1,1,1,1,3,4,4,4,1,5,1,1,4,4,1,1,1,1,3,1,1,1,1,1,1,3,2,1,4,1,1,4,1,5,5,1,2,2,1,5,4,2,1,1,5,1,5,1,3,1,1,1,1,1,4,1,2,1,1,5,1,1,4,1,4,5,3,5,5,1,2,1,1,1,1,1,3,5,1,2,1,2,1,3,1,1,1,1,1,4,5,4,1,3,3,1,1,1,1,1,1,1,1,1,5,1,1,1,5,1,1,4,1,5,2,4,1,1,1,2,1,1,4,4,1,2,1,1,1,1,5,3,1,1,1,1,4,1,4,1,1,1,1,1,1,3,1,1,2,1,1,1,1,1,2,1,1,1,1,1,1,1,2,1,1,1,1,1,1,4,1,1,1,1,1,1,1,1,1,1,1,1,1,1,2,1,1,2,5,1,2,1,1,1,1,1,1,1,1,1\""
   ]
  },
  {
   "cell_type": "markdown",
   "id": "3f89be46",
   "metadata": {},
   "source": [
    "### Solution"
   ]
  },
  {
   "cell_type": "code",
   "execution_count": 3,
   "id": "6cc12259",
   "metadata": {
    "ExecuteTime": {
     "end_time": "2021-12-06T09:19:50.629842Z",
     "start_time": "2021-12-06T09:19:50.626019Z"
    }
   },
   "outputs": [],
   "source": [
    "# Set input\n",
    "input_ = input_ex"
   ]
  },
  {
   "cell_type": "code",
   "execution_count": 4,
   "id": "046f8158",
   "metadata": {
    "ExecuteTime": {
     "end_time": "2021-12-06T09:19:50.637585Z",
     "start_time": "2021-12-06T09:19:50.631536Z"
    }
   },
   "outputs": [
    {
     "name": "stdout",
     "output_type": "stream",
     "text": [
      "{0: 3, 1: 4, 2: 3, 3: 1, 4: 2}\n"
     ]
    }
   ],
   "source": [
    "# Format the input\n",
    "\n",
    "fishes = [int(x) for x in input_.split(',')]\n",
    "\n",
    "shoal = dict()\n",
    "\n",
    "for i, v in enumerate(fishes):\n",
    "    shoal[i] = v\n",
    "\n",
    "print(shoal)"
   ]
  },
  {
   "cell_type": "code",
   "execution_count": 15,
   "id": "35ec24cc",
   "metadata": {
    "ExecuteTime": {
     "end_time": "2021-12-06T09:36:41.868866Z",
     "start_time": "2021-12-06T09:36:41.859282Z"
    }
   },
   "outputs": [
    {
     "name": "stdout",
     "output_type": "stream",
     "text": [
      "{0: 3, 1: 4, 2: 3, 3: 1, 4: 2}\n"
     ]
    }
   ],
   "source": [
    "# Define algorithm\n",
    "\n",
    "shoal = dict()\n",
    "\n",
    "for i, v in enumerate(fishes):\n",
    "    shoal[i] = v\n",
    "\n",
    "print(shoal)\n",
    "\n",
    "\n",
    "def shoal_growth(count=5, shoal=shoal):\n",
    "    \"\"\"Sequential iteration to simulate the growth of the group of fishes\"\"\"\n",
    "    \n",
    "    size = len(shoal)\n",
    "    \n",
    "    for c in range(count):\n",
    "        shoal_temp = shoal.copy()\n",
    "        \n",
    "        for k, v in shoal.items():\n",
    "            if v > 0:\n",
    "                shoal_temp[k] = v - 1\n",
    "            else:\n",
    "                shoal_temp[k] = 6\n",
    "                shoal_temp[size] = 8\n",
    "                size += 1\n",
    "        \n",
    "        shoal = shoal_temp\n",
    "                \n",
    "        # print(f\"Time {c} => {shoal}\")\n",
    "    \n",
    "    return shoal\n"
   ]
  },
  {
   "cell_type": "code",
   "execution_count": 16,
   "id": "c815debd",
   "metadata": {
    "ExecuteTime": {
     "end_time": "2021-12-06T09:36:43.055335Z",
     "start_time": "2021-12-06T09:36:43.031696Z"
    }
   },
   "outputs": [
    {
     "name": "stdout",
     "output_type": "stream",
     "text": [
      "5934\n"
     ]
    }
   ],
   "source": [
    "# Get solution\n",
    "\n",
    "new_shoal = shoal_growth(80)\n",
    "print(len(new_shoal))"
   ]
  },
  {
   "cell_type": "markdown",
   "id": "eaefdba3",
   "metadata": {},
   "source": [
    "## Part Two | not working => my method never ends :("
   ]
  },
  {
   "cell_type": "markdown",
   "id": "a7fa7737",
   "metadata": {},
   "source": [
    "### Statement"
   ]
  },
  {
   "cell_type": "markdown",
   "id": "b9c64c28",
   "metadata": {},
   "source": [
    "Suppose the lanternfish live forever and have unlimited food and space. Would they take over the entire ocean?\n",
    "\n",
    "After 256 days in the example above, there would be a total of **`26984457539`** lanternfish!\n",
    "\n",
    "**How many lanternfish would there be after 256 days?**"
   ]
  },
  {
   "cell_type": "markdown",
   "id": "00bc2282",
   "metadata": {},
   "source": [
    "### Solution"
   ]
  },
  {
   "cell_type": "code",
   "execution_count": 21,
   "id": "02c6ec1f",
   "metadata": {
    "ExecuteTime": {
     "end_time": "2021-12-06T10:04:51.356189Z",
     "start_time": "2021-12-06T09:44:41.863830Z"
    }
   },
   "outputs": [
    {
     "name": "stdout",
     "output_type": "stream",
     "text": [
      "cycle: 16\n",
      "\n",
      "    ---\n",
      "    # times: 1\n",
      "    size of next shoal: 21\n",
      "\n",
      "    ---\n",
      "    # times: 2\n",
      "    size of next shoal: 88\n",
      "\n",
      "    ---\n",
      "    # times: 3\n",
      "    size of next shoal: 361\n",
      "\n",
      "    ---\n",
      "    # times: 4\n",
      "    size of next shoal: 1467\n",
      "\n",
      "    ---\n",
      "    # times: 5\n",
      "    size of next shoal: 5934\n",
      "\n",
      "    ---\n",
      "    # times: 6\n",
      "    size of next shoal: 23948\n",
      "\n",
      "    ---\n",
      "    # times: 7\n",
      "    size of next shoal: 96540\n",
      "\n",
      "    ---\n",
      "    # times: 8\n",
      "    size of next shoal: 388976\n",
      "\n",
      "    ---\n",
      "    # times: 9\n",
      "    size of next shoal: 1566923\n",
      "\n",
      "    ---\n",
      "    # times: 10\n",
      "    size of next shoal: 6311710\n",
      "\n",
      "    ---\n",
      "    # times: 11\n",
      "    size of next shoal: 25424473\n",
      "\n",
      "    ---\n",
      "    # times: 12\n",
      "    size of next shoal: 102417953\n"
     ]
    },
    {
     "ename": "KeyboardInterrupt",
     "evalue": "",
     "output_type": "error",
     "traceback": [
      "\u001b[0;31m---------------------------------------------------------------------------\u001b[0m",
      "\u001b[0;31mKeyboardInterrupt\u001b[0m                         Traceback (most recent call last)",
      "\u001b[0;32m/var/folders/4p/0g475ptx7yngj2z_2ff7_spr0000gn/T/ipykernel_26427/3629650274.py\u001b[0m in \u001b[0;36m<module>\u001b[0;34m\u001b[0m\n\u001b[1;32m     14\u001b[0m \u001b[0;32mfor\u001b[0m \u001b[0mn\u001b[0m \u001b[0;32min\u001b[0m \u001b[0mrange\u001b[0m\u001b[0;34m(\u001b[0m\u001b[0mcycle\u001b[0m\u001b[0;34m)\u001b[0m\u001b[0;34m:\u001b[0m\u001b[0;34m\u001b[0m\u001b[0;34m\u001b[0m\u001b[0m\n\u001b[1;32m     15\u001b[0m \u001b[0;34m\u001b[0m\u001b[0m\n\u001b[0;32m---> 16\u001b[0;31m     \u001b[0mshoal_next\u001b[0m \u001b[0;34m=\u001b[0m \u001b[0mshoal_growth\u001b[0m\u001b[0;34m(\u001b[0m\u001b[0mcycle\u001b[0m\u001b[0;34m,\u001b[0m \u001b[0mshoal_next\u001b[0m\u001b[0;34m)\u001b[0m\u001b[0;34m\u001b[0m\u001b[0;34m\u001b[0m\u001b[0m\n\u001b[0m\u001b[1;32m     17\u001b[0m \u001b[0;34m\u001b[0m\u001b[0m\n\u001b[1;32m     18\u001b[0m     print(f\"\"\"\n",
      "\u001b[0;32m/var/folders/4p/0g475ptx7yngj2z_2ff7_spr0000gn/T/ipykernel_26427/461274406.py\u001b[0m in \u001b[0;36mshoal_growth\u001b[0;34m(count, shoal)\u001b[0m\n\u001b[1;32m     14\u001b[0m \u001b[0;34m\u001b[0m\u001b[0m\n\u001b[1;32m     15\u001b[0m     \u001b[0;32mfor\u001b[0m \u001b[0mc\u001b[0m \u001b[0;32min\u001b[0m \u001b[0mrange\u001b[0m\u001b[0;34m(\u001b[0m\u001b[0mcount\u001b[0m\u001b[0;34m)\u001b[0m\u001b[0;34m:\u001b[0m\u001b[0;34m\u001b[0m\u001b[0;34m\u001b[0m\u001b[0m\n\u001b[0;32m---> 16\u001b[0;31m         \u001b[0mshoal_temp\u001b[0m \u001b[0;34m=\u001b[0m \u001b[0mshoal\u001b[0m\u001b[0;34m.\u001b[0m\u001b[0mcopy\u001b[0m\u001b[0;34m(\u001b[0m\u001b[0;34m)\u001b[0m\u001b[0;34m\u001b[0m\u001b[0;34m\u001b[0m\u001b[0m\n\u001b[0m\u001b[1;32m     17\u001b[0m \u001b[0;34m\u001b[0m\u001b[0m\n\u001b[1;32m     18\u001b[0m         \u001b[0;32mfor\u001b[0m \u001b[0mk\u001b[0m\u001b[0;34m,\u001b[0m \u001b[0mv\u001b[0m \u001b[0;32min\u001b[0m \u001b[0mshoal\u001b[0m\u001b[0;34m.\u001b[0m\u001b[0mitems\u001b[0m\u001b[0;34m(\u001b[0m\u001b[0;34m)\u001b[0m\u001b[0;34m:\u001b[0m\u001b[0;34m\u001b[0m\u001b[0;34m\u001b[0m\u001b[0m\n",
      "\u001b[0;31mKeyboardInterrupt\u001b[0m: "
     ]
    }
   ],
   "source": [
    "import math \n",
    "\n",
    "\n",
    "# Set input\n",
    "input_ = input_ex\n",
    "\n",
    "\n",
    "# Format the input\n",
    "fishes = [int(x) for x in input_.split(',')]\n",
    "shoal = dict()\n",
    "for i, v in enumerate(fishes):\n",
    "    shoal[i] = v\n",
    "\n",
    "\n",
    "# Define algorithm\n",
    "target = 256\n",
    "cycle = int(math.sqrt(target))\n",
    "print(f\"cycle: {cycle}\")\n",
    "times = 1\n",
    "shoal_next = shoal.copy()\n",
    "for n in range(cycle):\n",
    "    \n",
    "    shoal_next = shoal_growth(cycle, shoal_next)\n",
    "    \n",
    "    print(f\"\"\"\n",
    "    ---\n",
    "    # times: {times}\n",
    "    size of next shoal: {len(shoal_next)}\"\"\")\n",
    "    \n",
    "    times += 1\n"
   ]
  },
  {
   "cell_type": "code",
   "execution_count": null,
   "id": "1fca19b8",
   "metadata": {
    "ExecuteTime": {
     "end_time": "2021-12-06T10:04:51.367830Z",
     "start_time": "2021-12-06T10:04:51.367811Z"
    }
   },
   "outputs": [],
   "source": [
    "print(\"finished\")"
   ]
  }
 ],
 "metadata": {
  "hide_input": false,
  "kernelspec": {
   "display_name": "Python 3 (ipykernel)",
   "language": "python",
   "name": "python3"
  },
  "language_info": {
   "codemirror_mode": {
    "name": "ipython",
    "version": 3
   },
   "file_extension": ".py",
   "mimetype": "text/x-python",
   "name": "python",
   "nbconvert_exporter": "python",
   "pygments_lexer": "ipython3",
   "version": "3.9.9"
  },
  "toc": {
   "base_numbering": 1,
   "nav_menu": {},
   "number_sections": false,
   "sideBar": true,
   "skip_h1_title": false,
   "title_cell": "Table of Contents",
   "title_sidebar": "Contents",
   "toc_cell": false,
   "toc_position": {},
   "toc_section_display": true,
   "toc_window_display": false
  },
  "varInspector": {
   "cols": {
    "lenName": 16,
    "lenType": 16,
    "lenVar": 40
   },
   "kernels_config": {
    "python": {
     "delete_cmd_postfix": "",
     "delete_cmd_prefix": "del ",
     "library": "var_list.py",
     "varRefreshCmd": "print(var_dic_list())"
    },
    "r": {
     "delete_cmd_postfix": ") ",
     "delete_cmd_prefix": "rm(",
     "library": "var_list.r",
     "varRefreshCmd": "cat(var_dic_list()) "
    }
   },
   "types_to_exclude": [
    "module",
    "function",
    "builtin_function_or_method",
    "instance",
    "_Feature"
   ],
   "window_display": false
  }
 },
 "nbformat": 4,
 "nbformat_minor": 5
}
