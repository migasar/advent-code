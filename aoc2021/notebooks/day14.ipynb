{
 "cells": [
  {
   "cell_type": "markdown",
   "id": "0034af77",
   "metadata": {},
   "source": [
    "Day 14: Extended Polymerization\n",
    "==="
   ]
  },
  {
   "cell_type": "markdown",
   "id": "33b81b71",
   "metadata": {},
   "source": [
    "## Parse Input"
   ]
  },
  {
   "cell_type": "markdown",
   "id": "93605263",
   "metadata": {},
   "source": [
    "### Get Input"
   ]
  },
  {
   "cell_type": "code",
   "execution_count": 1,
   "id": "40bb383f",
   "metadata": {
    "ExecuteTime": {
     "end_time": "2021-12-14T06:20:56.995490Z",
     "start_time": "2021-12-14T06:20:56.993138Z"
    }
   },
   "outputs": [],
   "source": [
    "INPUT_EX_1 = \"\"\"NNCB\"\"\"\n",
    "\n",
    "INPUT_EX_2=\"\"\"CH -> B\n",
    "HH -> N\n",
    "CB -> H\n",
    "NH -> C\n",
    "HB -> C\n",
    "HC -> B\n",
    "HN -> C\n",
    "NN -> C\n",
    "BH -> H\n",
    "NC -> B\n",
    "NB -> B\n",
    "BN -> B\n",
    "BB -> N\n",
    "BC -> B\n",
    "CC -> N\n",
    "CN -> C\"\"\""
   ]
  },
  {
   "cell_type": "code",
   "execution_count": 2,
   "id": "ffd030dc",
   "metadata": {
    "ExecuteTime": {
     "end_time": "2021-12-14T06:20:57.896590Z",
     "start_time": "2021-12-14T06:20:57.891306Z"
    }
   },
   "outputs": [],
   "source": [
    "INPUT_FULL_1 =\"\"\"OHFNNCKCVOBHSSHONBNF\"\"\"\n",
    "\n",
    "INPUT_FULL_2 = \"\"\"SV -> O\n",
    "KP -> H\n",
    "FP -> B\n",
    "VP -> V\n",
    "KN -> S\n",
    "KS -> O\n",
    "SB -> K\n",
    "BS -> K\n",
    "OF -> O\n",
    "ON -> S\n",
    "VS -> F\n",
    "CK -> C\n",
    "FB -> K\n",
    "CH -> K\n",
    "HS -> H\n",
    "PO -> F\n",
    "NP -> N\n",
    "FH -> C\n",
    "FO -> O\n",
    "FF -> C\n",
    "CO -> K\n",
    "NB -> V\n",
    "PP -> S\n",
    "BB -> N\n",
    "HH -> B\n",
    "KK -> H\n",
    "OP -> K\n",
    "OS -> V\n",
    "KV -> F\n",
    "VH -> F\n",
    "OB -> S\n",
    "CN -> H\n",
    "SF -> K\n",
    "SN -> P\n",
    "NF -> H\n",
    "HB -> V\n",
    "VC -> S\n",
    "PS -> P\n",
    "NK -> B\n",
    "CV -> P\n",
    "BC -> S\n",
    "NH -> K\n",
    "FN -> P\n",
    "SH -> F\n",
    "FK -> P\n",
    "CS -> O\n",
    "VV -> H\n",
    "OC -> F\n",
    "CC -> N\n",
    "HK -> N\n",
    "FS -> P\n",
    "VF -> B\n",
    "SS -> V\n",
    "PV -> V\n",
    "BF -> V\n",
    "OV -> C\n",
    "HO -> F\n",
    "NC -> F\n",
    "BN -> F\n",
    "HC -> N\n",
    "KO -> P\n",
    "KH -> F\n",
    "BV -> S\n",
    "SK -> F\n",
    "SC -> F\n",
    "VN -> V\n",
    "VB -> V\n",
    "BH -> O\n",
    "CP -> K\n",
    "PK -> K\n",
    "PB -> K\n",
    "FV -> S\n",
    "HN -> K\n",
    "PH -> B\n",
    "VK -> B\n",
    "PC -> H\n",
    "BO -> H\n",
    "SP -> V\n",
    "NS -> B\n",
    "OH -> N\n",
    "KC -> H\n",
    "HV -> F\n",
    "HF -> B\n",
    "HP -> S\n",
    "CB -> P\n",
    "PN -> S\n",
    "BK -> K\n",
    "PF -> N\n",
    "SO -> P\n",
    "CF -> B\n",
    "VO -> C\n",
    "OO -> K\n",
    "FC -> F\n",
    "NV -> F\n",
    "OK -> K\n",
    "NN -> O\n",
    "NO -> O\n",
    "BP -> O\n",
    "KB -> O\n",
    "KF -> O\"\"\"\n"
   ]
  },
  {
   "cell_type": "markdown",
   "id": "2f1e6c32",
   "metadata": {},
   "source": [
    "### Set Input"
   ]
  },
  {
   "cell_type": "code",
   "execution_count": 3,
   "id": "69dd4153",
   "metadata": {
    "ExecuteTime": {
     "end_time": "2021-12-14T06:20:59.492250Z",
     "start_time": "2021-12-14T06:20:59.488429Z"
    }
   },
   "outputs": [],
   "source": [
    "# Define inputs\n",
    "\n",
    "puzzle_input_1 = INPUT_EX_1\n",
    "puzzle_input_2 = INPUT_EX_2\n",
    "\n",
    "# puzzle_input_1 = INPUT_FULL_1\n",
    "# puzzle_input_2 = INPUT_FULL_2"
   ]
  },
  {
   "cell_type": "code",
   "execution_count": 4,
   "id": "a124b556",
   "metadata": {
    "ExecuteTime": {
     "end_time": "2021-12-14T06:21:00.343286Z",
     "start_time": "2021-12-14T06:21:00.339074Z"
    }
   },
   "outputs": [],
   "source": [
    "# Format first input\n",
    "\n",
    "def parse_template(puzzle_input):\n",
    "    \"\"\"Parse input\"\"\"\n",
    "    \n",
    "    return list(puzzle_input)\n",
    "\n",
    "template = parse_template(puzzle_input_1)\n",
    "#template"
   ]
  },
  {
   "cell_type": "code",
   "execution_count": 5,
   "id": "c26049e3",
   "metadata": {
    "ExecuteTime": {
     "end_time": "2021-12-14T06:21:03.373441Z",
     "start_time": "2021-12-14T06:21:03.366796Z"
    }
   },
   "outputs": [],
   "source": [
    "# Format second input\n",
    "\n",
    "def parse_rules(puzzle_input):\n",
    "    \"\"\"Parse input\"\"\"\n",
    "    \n",
    "    data = {}\n",
    "    pattern = \"fold along \"\n",
    "\n",
    "    for rule in puzzle_input.splitlines():\n",
    "        data[rule[:2]] = rule[-1]\n",
    "\n",
    "    return data\n",
    "\n",
    "rules = parse_rules(puzzle_input_2)\n",
    "#rules"
   ]
  },
  {
   "cell_type": "markdown",
   "id": "577afa86",
   "metadata": {},
   "source": [
    "## Part One"
   ]
  },
  {
   "cell_type": "markdown",
   "id": "cfa3c727",
   "metadata": {
    "heading_collapsed": true
   },
   "source": [
    "### Question"
   ]
  },
  {
   "cell_type": "markdown",
   "id": "5b3c651b",
   "metadata": {},
   "source": [
    "### Solution"
   ]
  },
  {
   "cell_type": "code",
   "execution_count": 40,
   "id": "5c971098",
   "metadata": {
    "ExecuteTime": {
     "end_time": "2021-12-14T05:53:17.664046Z",
     "start_time": "2021-12-14T05:53:17.651173Z"
    }
   },
   "outputs": [],
   "source": [
    "from collections import Counter\n",
    "\n",
    "\n",
    "def part1(data, rules=rules, step=10):\n",
    "    \"\"\"Solve part 1\"\"\"\n",
    "\n",
    "    template = data\n",
    "\n",
    "    # Build formula of polymer\n",
    "    for _ in range(step):\n",
    "        polymer = []\n",
    "        \n",
    "        for i, v in enumerate(template):\n",
    "            polymer.append(v)\n",
    "            \n",
    "            if i == (len(template) - 1):\n",
    "                continue\n",
    "            else:\n",
    "                pair = v + template[i + 1]\n",
    "                polymer.append(rules[pair])\n",
    "        \n",
    "        template = polymer\n",
    "    \n",
    "    # Count occurences of letters in polymer\n",
    "    elements = Counter(polymer)\n",
    "\n",
    "    result = max(elements.values()) - min(elements.values())\n",
    "    return result"
   ]
  },
  {
   "cell_type": "code",
   "execution_count": 41,
   "id": "80cc1417",
   "metadata": {
    "ExecuteTime": {
     "end_time": "2021-12-14T05:53:18.723924Z",
     "start_time": "2021-12-14T05:53:18.691871Z"
    }
   },
   "outputs": [
    {
     "data": {
      "text/plain": [
       "2590"
      ]
     },
     "execution_count": 41,
     "metadata": {},
     "output_type": "execute_result"
    }
   ],
   "source": [
    "part1(template)"
   ]
  },
  {
   "cell_type": "markdown",
   "id": "eaefdba3",
   "metadata": {},
   "source": [
    "## Part Two "
   ]
  },
  {
   "cell_type": "markdown",
   "id": "a7fa7737",
   "metadata": {
    "heading_collapsed": true
   },
   "source": [
    "### Question"
   ]
  },
  {
   "cell_type": "markdown",
   "id": "00bc2282",
   "metadata": {},
   "source": [
    "### Solution"
   ]
  },
  {
   "cell_type": "code",
   "execution_count": 11,
   "id": "fcbc0b37",
   "metadata": {
    "ExecuteTime": {
     "end_time": "2021-12-14T06:25:14.170117Z",
     "start_time": "2021-12-14T06:25:14.146851Z"
    }
   },
   "outputs": [
    {
     "ename": "KeyError",
     "evalue": "'CH'",
     "output_type": "error",
     "traceback": [
      "\u001b[0;31m---------------------------------------------------------------------------\u001b[0m",
      "\u001b[0;31mKeyError\u001b[0m                                  Traceback (most recent call last)",
      "\u001b[0;32m/var/folders/4p/0g475ptx7yngj2z_2ff7_spr0000gn/T/ipykernel_47779/270617957.py\u001b[0m in \u001b[0;36m<module>\u001b[0;34m\u001b[0m\n\u001b[1;32m     29\u001b[0m     \u001b[0;32mfor\u001b[0m \u001b[0mel\u001b[0m \u001b[0;32min\u001b[0m \u001b[0mcc\u001b[0m\u001b[0;34m.\u001b[0m\u001b[0mkeys\u001b[0m\u001b[0;34m(\u001b[0m\u001b[0;34m)\u001b[0m\u001b[0;34m:\u001b[0m\u001b[0;34m\u001b[0m\u001b[0;34m\u001b[0m\u001b[0m\n\u001b[1;32m     30\u001b[0m         \u001b[0;31m# Increment counter for AX and XB\u001b[0m\u001b[0;34m\u001b[0m\u001b[0;34m\u001b[0m\u001b[0m\n\u001b[0;32m---> 31\u001b[0;31m         \u001b[0mc\u001b[0m\u001b[0;34m[\u001b[0m\u001b[0mel\u001b[0m\u001b[0;34m[\u001b[0m\u001b[0;36m0\u001b[0m\u001b[0;34m]\u001b[0m \u001b[0;34m+\u001b[0m \u001b[0mr_dict\u001b[0m\u001b[0;34m[\u001b[0m\u001b[0mel\u001b[0m\u001b[0;34m]\u001b[0m\u001b[0;34m]\u001b[0m \u001b[0;34m+=\u001b[0m \u001b[0mcc\u001b[0m\u001b[0;34m[\u001b[0m\u001b[0mel\u001b[0m\u001b[0;34m]\u001b[0m\u001b[0;34m\u001b[0m\u001b[0;34m\u001b[0m\u001b[0m\n\u001b[0m\u001b[1;32m     32\u001b[0m         \u001b[0mc\u001b[0m\u001b[0;34m[\u001b[0m\u001b[0mr_dict\u001b[0m\u001b[0;34m[\u001b[0m\u001b[0mel\u001b[0m\u001b[0;34m]\u001b[0m \u001b[0;34m+\u001b[0m \u001b[0mel\u001b[0m\u001b[0;34m[\u001b[0m\u001b[0;36m1\u001b[0m\u001b[0;34m]\u001b[0m\u001b[0;34m]\u001b[0m \u001b[0;34m+=\u001b[0m \u001b[0mcc\u001b[0m\u001b[0;34m[\u001b[0m\u001b[0mel\u001b[0m\u001b[0;34m]\u001b[0m\u001b[0;34m\u001b[0m\u001b[0;34m\u001b[0m\u001b[0m\n\u001b[1;32m     33\u001b[0m \u001b[0;34m\u001b[0m\u001b[0m\n",
      "\u001b[0;31mKeyError\u001b[0m: 'CH'"
     ]
    }
   ],
   "source": [
    "from collections import Counter\n",
    "\n",
    "lines = INPUT_EX_2.splitlines()\n",
    "#polymer = INPUT_EX_1\n",
    "r_dict = {}\n",
    "\n",
    "# Get initial string\n",
    "pm = INPUT_EX_1\n",
    "\n",
    "# Keep very first element - see further down why\n",
    "first_element = INPUT_EX_1\n",
    "\n",
    "# Initialise empty dict for all instructions AB -> AXB (captured as AB -> X)\n",
    "instr_dict = {}\n",
    "for line in lines[2:]:\n",
    "    a, b = line.split(\" -> \")\n",
    "    r_dict[a] = b\n",
    "\n",
    "# Find count of AB pairs in initial string\n",
    "c = Counter()\n",
    "for idx in range(len(pm[:-1])):\n",
    "    c[pm[idx:idx+2]] += 1\n",
    "\n",
    "# Loop steps - change to 10 or 40\n",
    "for i in range(40):\n",
    "    # Copy and re-initialise counter\n",
    "    cc = c\n",
    "    c = Counter()\n",
    "    for el in cc.keys():\n",
    "        # Increment counter for AX and XB\n",
    "        c[el[0] + r_dict[el]] += cc[el]\n",
    "        c[r_dict[el] + el[1]] += cc[el]\n",
    "\n",
    "# Now count the actual elements\n",
    "l = Counter()\n",
    "# Add back the very first element, since the loop below will only consider the second half of each pair\n",
    "l[first_element] = 1\n",
    "for el, ct in c.items():\n",
    "    l[el[1]] += ct\n",
    "\n",
    "print(l.most_common()[0][1] - l.most_common()[-1][1])"
   ]
  },
  {
   "cell_type": "code",
   "execution_count": 14,
   "id": "20d36833",
   "metadata": {
    "ExecuteTime": {
     "end_time": "2021-12-14T06:30:26.717295Z",
     "start_time": "2021-12-14T06:30:26.693482Z"
    }
   },
   "outputs": [
    {
     "name": "stdout",
     "output_type": "stream",
     "text": [
      "2875665202438\n"
     ]
    }
   ],
   "source": [
    "# import counter class from collections module\n",
    "from collections import Counter\n",
    "\n",
    "# Get initial string\n",
    "polymer = \"OHFNNCKCVOBHSSHONBNF\"\n",
    "\n",
    "def gen_input_list(my_input):\n",
    "    '''transform the input puzzle into numpy array '''\n",
    "    r = open(my_input, 'r').read()\n",
    "    content_list = r.splitlines()\n",
    "    return content_list\n",
    "\n",
    "#lines = gen_input_list(\"input.txt\")\n",
    "lines = INPUT_FULL_2.splitlines()\n",
    "\n",
    "\n",
    "# Keep very first element - see further down why\n",
    "first_element = polymer[0]\n",
    "\n",
    "# Initialise empty dict for all instructions AB -> AXB (captured as AB -> X)\n",
    "instr_dict = {}\n",
    "for line in lines:\n",
    "    a, b = line.split(\" -> \")\n",
    "    instr_dict[a] = b\n",
    "\n",
    "# Find count of AB pairs in initial string\n",
    "c = Counter()\n",
    "for idx in range(len(polymer) - 1):\n",
    "    c[polymer[idx:idx + 2]] += 1\n",
    "\n",
    "# Loop steps - change to 10 or 40\n",
    "for i in range(40):\n",
    "    # Copy and re-initialise counter\n",
    "    cc = c\n",
    "    c = Counter()\n",
    "    for el in cc.keys():\n",
    "        # Increment counter for AX and XB\n",
    "        c[el[0] + instr_dict[el]] += cc[el]\n",
    "        c[instr_dict[el] + el[1]] += cc[el]\n",
    "\n",
    "# Now count the actual elements\n",
    "l = Counter()\n",
    "# Add back the very first element, since the loop below will only consider the second half of each pair\n",
    "l[first_element] = 1\n",
    "for el, ct in c.items():\n",
    "    l[el[1]] += ct\n",
    "\n",
    "print(l.most_common()[0][1] - l.most_common()[-1][1])\n"
   ]
  },
  {
   "cell_type": "code",
   "execution_count": null,
   "id": "92bd48af",
   "metadata": {},
   "outputs": [],
   "source": []
  }
 ],
 "metadata": {
  "hide_input": false,
  "kernelspec": {
   "display_name": "Python 3 (ipykernel)",
   "language": "python",
   "name": "python3"
  },
  "language_info": {
   "codemirror_mode": {
    "name": "ipython",
    "version": 3
   },
   "file_extension": ".py",
   "mimetype": "text/x-python",
   "name": "python",
   "nbconvert_exporter": "python",
   "pygments_lexer": "ipython3",
   "version": "3.8.12"
  },
  "toc": {
   "base_numbering": 1,
   "nav_menu": {},
   "number_sections": false,
   "sideBar": true,
   "skip_h1_title": false,
   "title_cell": "Table of Contents",
   "title_sidebar": "Contents",
   "toc_cell": false,
   "toc_position": {},
   "toc_section_display": true,
   "toc_window_display": false
  },
  "varInspector": {
   "cols": {
    "lenName": 16,
    "lenType": 16,
    "lenVar": 40
   },
   "kernels_config": {
    "python": {
     "delete_cmd_postfix": "",
     "delete_cmd_prefix": "del ",
     "library": "var_list.py",
     "varRefreshCmd": "print(var_dic_list())"
    },
    "r": {
     "delete_cmd_postfix": ") ",
     "delete_cmd_prefix": "rm(",
     "library": "var_list.r",
     "varRefreshCmd": "cat(var_dic_list()) "
    }
   },
   "types_to_exclude": [
    "module",
    "function",
    "builtin_function_or_method",
    "instance",
    "_Feature"
   ],
   "window_display": false
  }
 },
 "nbformat": 4,
 "nbformat_minor": 5
}
