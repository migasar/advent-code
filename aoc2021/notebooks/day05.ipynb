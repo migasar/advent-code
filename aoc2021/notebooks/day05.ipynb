{
 "cells": [
  {
   "cell_type": "markdown",
   "id": "4d09e63c",
   "metadata": {},
   "source": [
    "Day 5: Hydrothermal Venture\n",
    "==="
   ]
  },
  {
   "cell_type": "markdown",
   "id": "42ea4528",
   "metadata": {},
   "source": [
    "## Part One"
   ]
  },
  {
   "cell_type": "markdown",
   "id": "64cfdd1e",
   "metadata": {},
   "source": [
    "### Statement"
   ]
  },
  {
   "cell_type": "markdown",
   "id": "be499c4d",
   "metadata": {},
   "source": [
    "You come across a field of hydrothermal vents on the ocean floor! These vents constantly produce large, opaque clouds, so it would be best to avoid them if possible.\n",
    "\n",
    "They tend to form in lines; the submarine helpfully produces a list of nearby lines of vents (your puzzle input) for you to review. "
   ]
  },
  {
   "cell_type": "markdown",
   "id": "95f6b9b2",
   "metadata": {},
   "source": [
    "For example:\n",
    "```\n",
    "0,9 -> 5,9\n",
    "8,0 -> 0,8\n",
    "9,4 -> 3,4\n",
    "2,2 -> 2,1\n",
    "7,0 -> 7,4\n",
    "6,4 -> 2,0\n",
    "0,9 -> 2,9\n",
    "3,4 -> 1,4\n",
    "0,0 -> 8,8\n",
    "5,5 -> 8,2\n",
    "```"
   ]
  },
  {
   "cell_type": "markdown",
   "id": "82559273",
   "metadata": {},
   "source": [
    "Each line of vents is given as a line segment in the format x1,y1 -> x2,y2 where x1,y1 are the coordinates of one end the line segment and x2,y2 are the coordinates of the other end. These line segments include the points at both ends. In other words:\n",
    "\n",
    "An entry like 1,1 -> 1,3 covers points 1,1, 1,2, and 1,3.\n",
    "An entry like 9,7 -> 7,7 covers points 9,7, 8,7, and 7,7.\n",
    "For now, only consider horizontal and vertical lines: lines where either x1 = x2 or y1 = y2."
   ]
  },
  {
   "cell_type": "markdown",
   "id": "ca044dc1",
   "metadata": {},
   "source": [
    "So, the horizontal and vertical lines from the above list would produce the following diagram:\n",
    "```\n",
    ".......1..\n",
    "..1....1..\n",
    "..1....1..\n",
    ".......1..\n",
    ".112111211\n",
    "..........\n",
    "..........\n",
    "..........\n",
    "..........\n",
    "222111....\n",
    "```"
   ]
  },
  {
   "cell_type": "markdown",
   "id": "103270a1",
   "metadata": {},
   "source": [
    "In this diagram, the top left corner is 0,0 and the bottom right corner is 9,9. Each position is shown as the number of lines which cover that point or . if no line covers that point. The top-left pair of 1s, for example, comes from 2,2 -> 2,1; the very bottom row is formed by the overlapping lines 0,9 -> 5,9 and 0,9 -> 2,9.\n",
    "\n",
    "To avoid the most dangerous areas, you need to determine the number of points where at least two lines overlap. In the above example, this is anywhere in the diagram with a 2 or larger - a total of 5 points.\n",
    "\n",
    "Consider only horizontal and vertical lines. **At how many points do at least two lines overlap?**"
   ]
  },
  {
   "cell_type": "markdown",
   "id": "1369d403",
   "metadata": {
    "heading_collapsed": true
   },
   "source": [
    "### Input"
   ]
  },
  {
   "cell_type": "code",
   "execution_count": 79,
   "id": "9922a93f",
   "metadata": {
    "ExecuteTime": {
     "end_time": "2021-12-05T06:52:00.735740Z",
     "start_time": "2021-12-05T06:52:00.731684Z"
    },
    "hidden": true
   },
   "outputs": [],
   "source": [
    "input_ex =\"\"\"0,9 -> 5,9\n",
    "8,0 -> 0,8\n",
    "9,4 -> 3,4\n",
    "2,2 -> 2,1\n",
    "7,0 -> 7,4\n",
    "6,4 -> 2,0\n",
    "0,9 -> 2,9\n",
    "3,4 -> 1,4\n",
    "0,0 -> 8,8\n",
    "5,5 -> 8,2\"\"\""
   ]
  },
  {
   "cell_type": "code",
   "execution_count": 1,
   "id": "a9e0337f",
   "metadata": {
    "ExecuteTime": {
     "end_time": "2021-12-05T05:34:33.737352Z",
     "start_time": "2021-12-05T05:34:33.714419Z"
    },
    "hidden": true
   },
   "outputs": [],
   "source": [
    "input_ = \"\"\"593,10 -> 593,98\n",
    "777,236 -> 964,236\n",
    "650,575 -> 476,575\n",
    "120,612 -> 715,17\n",
    "508,707 -> 508,89\n",
    "98,834 -> 751,834\n",
    "623,554 -> 623,701\n",
    "929,976 -> 62,109\n",
    "368,893 -> 330,931\n",
    "495,335 -> 40,335\n",
    "44,704 -> 423,704\n",
    "683,711 -> 683,487\n",
    "26,940 -> 833,133\n",
    "961,183 -> 454,183\n",
    "301,306 -> 301,935\n",
    "973,822 -> 398,822\n",
    "639,911 -> 515,911\n",
    "861,180 -> 184,857\n",
    "31,97 -> 857,923\n",
    "966,376 -> 966,114\n",
    "881,485 -> 881,377\n",
    "930,98 -> 110,918\n",
    "841,889 -> 841,35\n",
    "512,261 -> 880,261\n",
    "48,533 -> 48,674\n",
    "207,226 -> 52,226\n",
    "823,952 -> 177,306\n",
    "331,566 -> 423,566\n",
    "422,418 -> 422,130\n",
    "699,517 -> 699,567\n",
    "757,784 -> 241,784\n",
    "508,445 -> 560,393\n",
    "866,275 -> 435,706\n",
    "74,41 -> 74,258\n",
    "386,369 -> 334,317\n",
    "240,94 -> 240,969\n",
    "851,197 -> 577,197\n",
    "28,906 -> 741,193\n",
    "286,227 -> 286,293\n",
    "849,800 -> 849,665\n",
    "736,307 -> 336,307\n",
    "69,701 -> 494,276\n",
    "421,823 -> 96,823\n",
    "121,626 -> 121,393\n",
    "318,351 -> 194,351\n",
    "670,671 -> 439,671\n",
    "603,914 -> 603,272\n",
    "61,507 -> 61,889\n",
    "266,39 -> 157,39\n",
    "543,664 -> 869,664\n",
    "382,709 -> 884,709\n",
    "499,80 -> 548,80\n",
    "489,79 -> 878,79\n",
    "695,86 -> 644,86\n",
    "987,585 -> 987,557\n",
    "287,67 -> 551,67\n",
    "975,983 -> 35,43\n",
    "707,351 -> 232,351\n",
    "529,175 -> 852,175\n",
    "32,811 -> 604,811\n",
    "106,153 -> 815,153\n",
    "195,268 -> 509,582\n",
    "50,922 -> 312,922\n",
    "220,500 -> 872,500\n",
    "473,33 -> 569,33\n",
    "858,847 -> 162,151\n",
    "937,947 -> 26,36\n",
    "726,435 -> 402,435\n",
    "686,601 -> 474,813\n",
    "764,880 -> 84,200\n",
    "850,950 -> 850,464\n",
    "413,620 -> 413,285\n",
    "893,560 -> 229,560\n",
    "149,100 -> 149,901\n",
    "358,613 -> 243,613\n",
    "202,445 -> 202,411\n",
    "127,153 -> 513,539\n",
    "147,846 -> 53,940\n",
    "139,920 -> 679,380\n",
    "913,953 -> 913,735\n",
    "339,466 -> 339,177\n",
    "113,882 -> 647,882\n",
    "18,880 -> 134,880\n",
    "897,152 -> 897,428\n",
    "473,511 -> 636,511\n",
    "880,370 -> 358,370\n",
    "400,244 -> 721,244\n",
    "419,987 -> 120,688\n",
    "872,224 -> 481,224\n",
    "335,302 -> 730,302\n",
    "961,324 -> 961,157\n",
    "769,301 -> 959,301\n",
    "829,124 -> 144,124\n",
    "523,372 -> 985,372\n",
    "520,33 -> 520,685\n",
    "554,644 -> 808,898\n",
    "82,676 -> 870,676\n",
    "303,612 -> 303,705\n",
    "338,40 -> 338,939\n",
    "836,47 -> 72,811\n",
    "371,751 -> 575,955\n",
    "929,505 -> 929,324\n",
    "273,181 -> 275,183\n",
    "347,595 -> 347,463\n",
    "95,629 -> 95,606\n",
    "809,188 -> 126,871\n",
    "857,924 -> 145,212\n",
    "668,277 -> 668,63\n",
    "700,904 -> 700,45\n",
    "814,899 -> 22,899\n",
    "205,98 -> 714,607\n",
    "943,28 -> 40,931\n",
    "282,620 -> 773,129\n",
    "424,803 -> 285,803\n",
    "688,329 -> 299,329\n",
    "146,628 -> 34,628\n",
    "573,417 -> 164,826\n",
    "292,232 -> 412,112\n",
    "412,508 -> 145,508\n",
    "632,648 -> 632,92\n",
    "885,904 -> 885,513\n",
    "295,981 -> 132,818\n",
    "134,681 -> 41,681\n",
    "810,531 -> 959,531\n",
    "188,590 -> 188,215\n",
    "960,795 -> 189,24\n",
    "729,211 -> 729,833\n",
    "214,817 -> 845,817\n",
    "196,609 -> 584,609\n",
    "384,908 -> 384,101\n",
    "770,907 -> 770,530\n",
    "451,469 -> 451,812\n",
    "571,261 -> 834,261\n",
    "799,436 -> 799,983\n",
    "248,105 -> 248,879\n",
    "783,906 -> 783,903\n",
    "955,670 -> 790,670\n",
    "723,750 -> 723,429\n",
    "572,427 -> 546,427\n",
    "610,341 -> 527,341\n",
    "925,426 -> 816,317\n",
    "151,403 -> 151,684\n",
    "408,969 -> 408,369\n",
    "276,425 -> 276,75\n",
    "186,86 -> 186,758\n",
    "412,420 -> 412,531\n",
    "361,60 -> 976,60\n",
    "787,649 -> 667,769\n",
    "45,866 -> 91,866\n",
    "319,963 -> 51,963\n",
    "112,866 -> 112,747\n",
    "291,475 -> 504,475\n",
    "175,116 -> 357,116\n",
    "968,961 -> 968,213\n",
    "13,12 -> 987,986\n",
    "640,728 -> 767,728\n",
    "981,505 -> 246,505\n",
    "864,981 -> 128,981\n",
    "91,66 -> 931,906\n",
    "798,116 -> 91,823\n",
    "552,74 -> 88,538\n",
    "620,872 -> 232,872\n",
    "45,229 -> 658,229\n",
    "413,75 -> 413,436\n",
    "815,257 -> 815,686\n",
    "989,22 -> 36,975\n",
    "178,904 -> 233,849\n",
    "635,128 -> 635,96\n",
    "640,820 -> 640,313\n",
    "890,787 -> 167,64\n",
    "221,22 -> 826,22\n",
    "914,132 -> 60,986\n",
    "848,31 -> 392,487\n",
    "105,969 -> 858,969\n",
    "903,868 -> 143,108\n",
    "38,941 -> 621,358\n",
    "171,340 -> 14,497\n",
    "286,460 -> 81,255\n",
    "726,688 -> 857,819\n",
    "494,689 -> 510,689\n",
    "517,913 -> 598,913\n",
    "932,66 -> 932,431\n",
    "977,982 -> 18,23\n",
    "95,101 -> 95,278\n",
    "574,467 -> 349,467\n",
    "63,803 -> 63,882\n",
    "838,874 -> 255,874\n",
    "900,752 -> 181,33\n",
    "102,897 -> 989,10\n",
    "374,439 -> 374,277\n",
    "513,504 -> 513,885\n",
    "814,932 -> 814,407\n",
    "824,656 -> 959,521\n",
    "415,570 -> 616,570\n",
    "577,880 -> 577,181\n",
    "287,524 -> 986,524\n",
    "955,665 -> 323,665\n",
    "556,365 -> 263,658\n",
    "154,226 -> 886,226\n",
    "803,750 -> 866,750\n",
    "558,725 -> 558,395\n",
    "941,115 -> 941,150\n",
    "180,410 -> 180,874\n",
    "458,753 -> 112,753\n",
    "199,253 -> 363,253\n",
    "423,650 -> 22,650\n",
    "892,851 -> 279,238\n",
    "611,109 -> 611,198\n",
    "983,344 -> 339,988\n",
    "299,47 -> 299,934\n",
    "435,652 -> 700,387\n",
    "186,775 -> 677,284\n",
    "136,576 -> 136,368\n",
    "818,744 -> 305,744\n",
    "767,171 -> 767,431\n",
    "930,842 -> 259,171\n",
    "342,831 -> 342,601\n",
    "193,672 -> 46,525\n",
    "925,164 -> 528,164\n",
    "725,92 -> 617,200\n",
    "67,729 -> 67,739\n",
    "547,153 -> 547,245\n",
    "763,434 -> 763,509\n",
    "314,888 -> 357,888\n",
    "72,645 -> 491,645\n",
    "92,67 -> 240,67\n",
    "827,936 -> 788,897\n",
    "852,378 -> 77,378\n",
    "448,337 -> 668,337\n",
    "846,739 -> 499,739\n",
    "465,691 -> 315,541\n",
    "716,163 -> 18,861\n",
    "78,965 -> 983,60\n",
    "114,952 -> 820,246\n",
    "950,351 -> 419,882\n",
    "266,36 -> 266,482\n",
    "773,841 -> 773,66\n",
    "742,198 -> 742,46\n",
    "417,512 -> 304,625\n",
    "900,277 -> 900,338\n",
    "983,431 -> 473,941\n",
    "986,282 -> 734,30\n",
    "742,19 -> 769,19\n",
    "952,320 -> 948,324\n",
    "92,590 -> 548,590\n",
    "107,39 -> 107,696\n",
    "603,749 -> 603,26\n",
    "55,282 -> 888,282\n",
    "670,848 -> 985,533\n",
    "981,982 -> 92,93\n",
    "147,428 -> 649,930\n",
    "773,737 -> 821,785\n",
    "791,576 -> 791,852\n",
    "327,672 -> 530,469\n",
    "847,122 -> 381,122\n",
    "419,493 -> 498,572\n",
    "879,842 -> 879,239\n",
    "267,717 -> 267,869\n",
    "142,449 -> 174,417\n",
    "342,718 -> 342,397\n",
    "603,207 -> 314,207\n",
    "612,648 -> 735,771\n",
    "37,10 -> 971,944\n",
    "891,716 -> 891,86\n",
    "252,217 -> 662,627\n",
    "185,165 -> 941,921\n",
    "854,717 -> 676,717\n",
    "158,791 -> 336,791\n",
    "762,226 -> 98,890\n",
    "73,189 -> 92,189\n",
    "649,511 -> 253,115\n",
    "719,456 -> 514,251\n",
    "605,286 -> 325,286\n",
    "454,609 -> 454,489\n",
    "374,541 -> 783,541\n",
    "599,177 -> 94,682\n",
    "600,384 -> 32,384\n",
    "810,933 -> 39,162\n",
    "780,871 -> 409,871\n",
    "24,639 -> 24,316\n",
    "454,80 -> 454,95\n",
    "556,541 -> 907,541\n",
    "627,295 -> 750,295\n",
    "245,71 -> 214,102\n",
    "725,445 -> 614,445\n",
    "779,538 -> 779,390\n",
    "746,667 -> 351,272\n",
    "117,776 -> 117,660\n",
    "498,495 -> 88,905\n",
    "697,721 -> 697,919\n",
    "580,314 -> 580,166\n",
    "22,656 -> 641,37\n",
    "413,433 -> 44,802\n",
    "182,305 -> 805,928\n",
    "739,277 -> 739,499\n",
    "172,210 -> 172,259\n",
    "894,576 -> 894,322\n",
    "265,263 -> 265,437\n",
    "430,228 -> 780,578\n",
    "464,531 -> 798,531\n",
    "713,63 -> 668,63\n",
    "918,831 -> 256,169\n",
    "414,375 -> 467,375\n",
    "440,32 -> 391,32\n",
    "439,806 -> 955,806\n",
    "335,820 -> 335,279\n",
    "727,458 -> 422,458\n",
    "312,274 -> 619,581\n",
    "136,724 -> 538,322\n",
    "589,680 -> 589,850\n",
    "335,648 -> 232,545\n",
    "499,216 -> 405,216\n",
    "942,710 -> 942,455\n",
    "969,556 -> 721,556\n",
    "756,552 -> 756,902\n",
    "98,870 -> 445,870\n",
    "476,833 -> 476,269\n",
    "820,127 -> 407,127\n",
    "337,519 -> 714,519\n",
    "756,95 -> 11,840\n",
    "317,339 -> 317,286\n",
    "353,86 -> 43,86\n",
    "93,950 -> 938,105\n",
    "705,509 -> 705,319\n",
    "244,879 -> 721,402\n",
    "434,794 -> 711,517\n",
    "272,381 -> 431,381\n",
    "652,104 -> 652,587\n",
    "850,866 -> 34,50\n",
    "645,902 -> 79,336\n",
    "701,39 -> 701,295\n",
    "492,793 -> 95,396\n",
    "352,554 -> 395,554\n",
    "123,405 -> 322,206\n",
    "941,745 -> 716,520\n",
    "450,512 -> 569,631\n",
    "42,25 -> 817,800\n",
    "909,387 -> 909,863\n",
    "919,934 -> 919,546\n",
    "439,881 -> 569,881\n",
    "167,866 -> 167,669\n",
    "242,264 -> 242,694\n",
    "981,786 -> 228,33\n",
    "452,434 -> 452,660\n",
    "22,26 -> 22,29\n",
    "26,155 -> 677,806\n",
    "801,627 -> 313,627\n",
    "657,135 -> 657,270\n",
    "872,875 -> 440,443\n",
    "636,248 -> 636,338\n",
    "776,51 -> 93,51\n",
    "498,600 -> 894,600\n",
    "263,984 -> 263,807\n",
    "416,390 -> 899,873\n",
    "269,137 -> 976,137\n",
    "752,12 -> 752,617\n",
    "55,925 -> 548,925\n",
    "856,551 -> 771,551\n",
    "653,93 -> 653,587\n",
    "403,286 -> 403,417\n",
    "895,706 -> 221,32\n",
    "139,822 -> 139,928\n",
    "696,194 -> 696,143\n",
    "270,678 -> 710,678\n",
    "879,353 -> 879,360\n",
    "949,712 -> 752,712\n",
    "665,661 -> 817,661\n",
    "462,952 -> 980,434\n",
    "692,766 -> 692,478\n",
    "157,117 -> 144,117\n",
    "438,701 -> 408,701\n",
    "401,703 -> 401,724\n",
    "876,831 -> 108,63\n",
    "749,892 -> 832,892\n",
    "455,124 -> 455,776\n",
    "551,222 -> 551,372\n",
    "533,80 -> 726,80\n",
    "342,740 -> 56,740\n",
    "793,370 -> 34,370\n",
    "949,614 -> 949,623\n",
    "610,287 -> 610,760\n",
    "978,834 -> 85,834\n",
    "644,894 -> 644,341\n",
    "35,887 -> 176,887\n",
    "168,958 -> 964,162\n",
    "341,886 -> 341,470\n",
    "417,845 -> 417,702\n",
    "338,347 -> 304,313\n",
    "651,10 -> 72,10\n",
    "853,160 -> 853,85\n",
    "381,568 -> 436,623\n",
    "794,437 -> 250,437\n",
    "861,72 -> 206,72\n",
    "807,813 -> 807,827\n",
    "820,502 -> 820,329\n",
    "547,508 -> 547,773\n",
    "160,129 -> 160,175\n",
    "756,468 -> 756,80\n",
    "442,661 -> 405,661\n",
    "304,817 -> 304,765\n",
    "99,42 -> 957,900\n",
    "212,110 -> 854,752\n",
    "44,620 -> 661,620\n",
    "212,311 -> 784,883\n",
    "329,671 -> 329,908\n",
    "86,359 -> 553,826\n",
    "257,799 -> 934,122\n",
    "409,663 -> 409,367\n",
    "528,623 -> 593,688\n",
    "957,525 -> 544,938\n",
    "846,766 -> 113,33\n",
    "176,680 -> 176,102\n",
    "167,287 -> 167,929\n",
    "932,870 -> 834,968\n",
    "86,774 -> 49,774\n",
    "745,231 -> 70,906\n",
    "435,760 -> 138,463\n",
    "776,810 -> 625,810\n",
    "928,930 -> 76,78\n",
    "602,24 -> 602,688\n",
    "394,424 -> 65,424\n",
    "946,966 -> 93,113\n",
    "494,39 -> 951,39\n",
    "607,699 -> 832,699\n",
    "13,403 -> 391,403\n",
    "726,475 -> 726,29\n",
    "828,625 -> 836,617\n",
    "396,770 -> 167,770\n",
    "28,546 -> 374,200\n",
    "56,113 -> 837,894\n",
    "290,589 -> 740,139\n",
    "930,805 -> 296,171\n",
    "646,895 -> 49,895\n",
    "111,15 -> 111,497\n",
    "11,274 -> 570,833\n",
    "257,624 -> 603,624\n",
    "63,844 -> 666,844\n",
    "846,661 -> 846,464\n",
    "431,72 -> 431,674\n",
    "726,674 -> 726,40\n",
    "286,660 -> 286,909\n",
    "847,222 -> 847,861\n",
    "325,896 -> 325,416\n",
    "793,953 -> 365,953\n",
    "987,956 -> 62,31\n",
    "845,853 -> 363,371\n",
    "79,782 -> 506,782\n",
    "424,21 -> 424,369\n",
    "938,162 -> 177,923\n",
    "86,193 -> 799,906\n",
    "320,164 -> 320,654\n",
    "840,306 -> 840,711\n",
    "852,736 -> 852,690\n",
    "876,966 -> 143,233\n",
    "787,926 -> 38,177\n",
    "374,112 -> 340,112\n",
    "132,541 -> 740,541\n",
    "29,28 -> 968,967\n",
    "916,212 -> 170,958\n",
    "371,553 -> 521,403\n",
    "88,796 -> 870,796\n",
    "656,367 -> 71,367\n",
    "785,166 -> 785,427\n",
    "320,30 -> 320,549\n",
    "909,527 -> 816,620\n",
    "832,965 -> 302,965\n",
    "672,259 -> 80,259\n",
    "578,513 -> 578,243\n",
    "975,561 -> 537,123\n",
    "135,330 -> 188,330\n",
    "501,695 -> 501,573\n",
    "717,230 -> 878,230\n",
    "854,501 -> 27,501\n",
    "705,885 -> 950,885\n",
    "704,338 -> 704,630\n",
    "477,485 -> 864,485\n",
    "901,42 -> 305,638\n",
    "660,540 -> 660,546\n",
    "555,79 -> 190,79\n",
    "226,126 -> 800,700\n",
    "575,908 -> 944,908\n",
    "94,478 -> 94,746\n",
    "461,425 -> 929,893\n",
    "861,429 -> 451,19\n",
    "832,825 -> 179,172\n",
    "186,133 -> 298,133\n",
    "684,270 -> 558,270\n",
    "786,872 -> 125,872\n",
    "649,178 -> 649,595\n",
    "893,738 -> 412,257\n",
    "760,854 -> 901,713\n",
    "16,914 -> 866,64\n",
    "935,928 -> 266,259\n",
    "323,229 -> 32,229\n",
    "608,828 -> 608,49\n",
    "715,892 -> 74,251\n",
    "787,187 -> 787,903\n",
    "405,793 -> 405,183\n",
    "232,704 -> 232,389\n",
    "130,706 -> 130,657\"\"\""
   ]
  },
  {
   "cell_type": "markdown",
   "id": "316e622a",
   "metadata": {},
   "source": [
    "### Solution"
   ]
  },
  {
   "cell_type": "code",
   "execution_count": 90,
   "id": "1ae3a00d",
   "metadata": {
    "ExecuteTime": {
     "end_time": "2021-12-05T06:54:53.888030Z",
     "start_time": "2021-12-05T06:54:53.882438Z"
    }
   },
   "outputs": [
    {
     "name": "stdout",
     "output_type": "stream",
     "text": [
      "['593,10 -> 593,98', '777,236 -> 964,236']\n"
     ]
    }
   ],
   "source": [
    "lines = input_.splitlines()\n",
    "print(lines[:2])"
   ]
  },
  {
   "cell_type": "code",
   "execution_count": 91,
   "id": "f69a071d",
   "metadata": {
    "ExecuteTime": {
     "end_time": "2021-12-05T06:54:54.587106Z",
     "start_time": "2021-12-05T06:54:54.533389Z"
    }
   },
   "outputs": [
    {
     "name": "stdout",
     "output_type": "stream",
     "text": [
      "[{'x1': 593, 'y1': 10, 'x2': 593, 'y2': 98}, {'x1': 777, 'y1': 236, 'x2': 964, 'y2': 236}]\n"
     ]
    }
   ],
   "source": [
    "import parse\n",
    "\n",
    "coords = []\n",
    "pattern = \"{x1:d},{y1:d} -> {x2:d},{y2:d}\"\n",
    "\n",
    "for line in lines:\n",
    "    match = parse.search(pattern, line)\n",
    "    coords.append(match.named)\n",
    "\n",
    "print(coords[:2])"
   ]
  },
  {
   "cell_type": "code",
   "execution_count": 92,
   "id": "c974bad4",
   "metadata": {
    "ExecuteTime": {
     "end_time": "2021-12-05T06:54:55.421189Z",
     "start_time": "2021-12-05T06:54:55.324414Z"
    }
   },
   "outputs": [],
   "source": [
    "import numpy as np\n",
    "\n",
    "grid = np.zeros((1000, 1000), dtype=int)\n",
    "\n",
    "num_rows, num_cols = grid.shape\n",
    "\n",
    "for line in coords:\n",
    "    if line['x1'] == line['x2']:\n",
    "        y = [line['y1'], line['y2']]\n",
    "        for i in range(min(y), max(y)+1):\n",
    "            grid[i, line['x1']] += 1\n",
    "        \n",
    "    if line['y1'] == line['y2']:\n",
    "        x = [line['x1'], line['x2']]\n",
    "        for i in range(min(x), max(x)+1):\n",
    "            grid[line['y1'], i] += 1\n",
    "\n",
    "overlaps = grid[grid >= 2]"
   ]
  },
  {
   "cell_type": "code",
   "execution_count": 93,
   "id": "82750461",
   "metadata": {
    "ExecuteTime": {
     "end_time": "2021-12-05T06:54:56.258530Z",
     "start_time": "2021-12-05T06:54:56.254535Z"
    }
   },
   "outputs": [
    {
     "name": "stdout",
     "output_type": "stream",
     "text": [
      "7468\n"
     ]
    }
   ],
   "source": [
    "print(len(overlaps))"
   ]
  },
  {
   "cell_type": "markdown",
   "id": "7f0d2b60",
   "metadata": {},
   "source": [
    "## Part Two"
   ]
  },
  {
   "cell_type": "markdown",
   "id": "92e2b21a",
   "metadata": {},
   "source": [
    "### Statement"
   ]
  },
  {
   "cell_type": "markdown",
   "id": "e251885b",
   "metadata": {},
   "source": [
    "Unfortunately, considering only horizontal and vertical lines doesn't give you the full picture; you need to also consider diagonal lines.\n",
    "\n",
    "Because of the limits of the hydrothermal vent mapping system, the lines in your list will only ever be horizontal, vertical, or a diagonal line at exactly 45 degrees. In other words:\n",
    "\n",
    "An entry like 1,1 -> 3,3 covers points 1,1, 2,2, and 3,3.\n",
    "An entry like 9,7 -> 7,9 covers points 9,7, 8,8, and 7,9."
   ]
  },
  {
   "cell_type": "markdown",
   "id": "3fb3ecca",
   "metadata": {},
   "source": [
    "Considering all lines from the above example would now produce the following diagram:\n",
    "```\n",
    "1.1....11.\n",
    ".111...2..\n",
    "..2.1.111.\n",
    "...1.2.2..\n",
    ".112313211\n",
    "...1.2....\n",
    "..1...1...\n",
    ".1.....1..\n",
    "1.......1.\n",
    "222111....\n",
    "```"
   ]
  },
  {
   "cell_type": "markdown",
   "id": "e872033c",
   "metadata": {},
   "source": [
    "You still need to determine the number of points where at least two lines overlap. In the above example, this is still anywhere in the diagram with a 2 or larger - now a total of 12 points.\n",
    "\n",
    "**Consider all of the lines. At how many points do at least two lines overlap?**"
   ]
  },
  {
   "cell_type": "markdown",
   "id": "b01ba1a3",
   "metadata": {},
   "source": [
    "### Solution"
   ]
  },
  {
   "cell_type": "code",
   "execution_count": 128,
   "id": "b9ecddce",
   "metadata": {
    "ExecuteTime": {
     "end_time": "2021-12-05T07:59:37.616861Z",
     "start_time": "2021-12-05T07:59:37.438806Z"
    }
   },
   "outputs": [
    {
     "name": "stdout",
     "output_type": "stream",
     "text": [
      "22364\n"
     ]
    }
   ],
   "source": [
    "import numpy as np\n",
    "import parse\n",
    "\n",
    "\n",
    "lines = input_.splitlines()\n",
    "\n",
    "coords = []\n",
    "pattern = \"{x1:d},{y1:d} -> {x2:d},{y2:d}\"\n",
    "\n",
    "for line in lines:\n",
    "    match = parse.search(pattern, line)\n",
    "    coords.append(match.named)\n",
    "\n",
    "\n",
    "grid = np.zeros((1000, 1000), dtype=int)\n",
    "\n",
    "for line in coords:        \n",
    "    if line['x1'] == line['x2']:\n",
    "        y = [line['y1'], line['y2']]\n",
    "        for i in range(min(y), max(y)+1):\n",
    "            grid[i, line['x1']] += 1\n",
    "        \n",
    "    if line['y1'] == line['y2']:\n",
    "        x = [line['x1'], line['x2']]\n",
    "        for i in range(min(x), max(x)+1):\n",
    "            grid[line['y1'], i] += 1\n",
    "            \n",
    "    if abs(line['x1'] - line['x2']) == abs(line['y1'] - line['y2']):\n",
    "        if line['x1'] < line['x2']:\n",
    "            abs_ = np.arange(line['x1'], line['x2']+1)\n",
    "        else:\n",
    "            abs_ = np.arange(line['x2'], line['x1']+1)\n",
    "            abs_ = abs_[::-1]\n",
    "        if line['y1'] < line['y2']:\n",
    "            ord_ = np.arange(line['y1'],line['y2']+1)\n",
    "        else:\n",
    "            ord_ = np.arange(line['y2'], line['y1']+1)\n",
    "            ord_ = ord_[::-1]\n",
    "        \n",
    "        segment = np.stack((abs_, ord_), axis=-1) \n",
    "        for s in segment:\n",
    "            grid[s[1], s[0]] += 1\n",
    "\n",
    "overlaps = grid[grid >= 2]\n",
    "print(len(overlaps))"
   ]
  },
  {
   "cell_type": "code",
   "execution_count": 124,
   "id": "3d00269b",
   "metadata": {
    "ExecuteTime": {
     "end_time": "2021-12-05T07:57:50.001088Z",
     "start_time": "2021-12-05T07:57:49.944702Z"
    }
   },
   "outputs": [
    {
     "name": "stdout",
     "output_type": "stream",
     "text": [
      "[{'x1': 593, 'y1': 10, 'x2': 593, 'y2': 98}, {'x1': 777, 'y1': 236, 'x2': 964, 'y2': 236}]\n"
     ]
    }
   ],
   "source": [
    "import parse\n",
    "\n",
    "lines = input_.splitlines()\n",
    "\n",
    "coords = []\n",
    "pattern = \"{x1:d},{y1:d} -> {x2:d},{y2:d}\"\n",
    "\n",
    "for line in lines:\n",
    "    match = parse.search(pattern, line)\n",
    "    coords.append(match.named)\n",
    "\n",
    "print(coords[:2])"
   ]
  },
  {
   "cell_type": "code",
   "execution_count": 127,
   "id": "58ac776a",
   "metadata": {
    "ExecuteTime": {
     "end_time": "2021-12-05T07:58:30.463923Z",
     "start_time": "2021-12-05T07:58:30.306332Z"
    }
   },
   "outputs": [
    {
     "name": "stdout",
     "output_type": "stream",
     "text": [
      "22364\n"
     ]
    }
   ],
   "source": [
    "import numpy as np\n",
    "\n",
    "grid = np.zeros((1000, 1000), dtype=int)\n",
    "\n",
    "num_rows, num_cols = grid.shape\n",
    "\n",
    "for line in coords:        \n",
    "    if line['x1'] == line['x2']:\n",
    "        y = [line['y1'], line['y2']]\n",
    "        for i in range(min(y), max(y)+1):\n",
    "            grid[i, line['x1']] += 1\n",
    "        \n",
    "    if line['y1'] == line['y2']:\n",
    "        x = [line['x1'], line['x2']]\n",
    "        for i in range(min(x), max(x)+1):\n",
    "            grid[line['y1'], i] += 1\n",
    "            \n",
    "    if abs(line['x1'] - line['x2']) == abs(line['y1'] - line['y2']):\n",
    "        if line['x1'] < line['x2']:\n",
    "            abs_ = np.arange(line['x1'], line['x2']+1)\n",
    "        else:\n",
    "            abs_ = np.arange(line['x2'], line['x1']+1)\n",
    "            abs_ = abs_[::-1]\n",
    "        if line['y1'] < line['y2']:\n",
    "            ord_ = np.arange(line['y1'],line['y2']+1)\n",
    "        else:\n",
    "            ord_ = np.arange(line['y2'], line['y1']+1)\n",
    "            ord_ = ord_[::-1]\n",
    "        \n",
    "        segment = np.stack((abs_, ord_), axis=-1) \n",
    "        for s in segment:\n",
    "            grid[s[1], s[0]] += 1\n",
    "\n",
    "overlaps = grid[grid >= 2]\n",
    "print(len(overlaps))"
   ]
  },
  {
   "cell_type": "code",
   "execution_count": 123,
   "id": "6c2d18d4",
   "metadata": {
    "ExecuteTime": {
     "end_time": "2021-12-05T07:57:33.331123Z",
     "start_time": "2021-12-05T07:57:33.324148Z"
    }
   },
   "outputs": [
    {
     "name": "stdout",
     "output_type": "stream",
     "text": [
      "[[1 0 1 0 0 0 0 1 1 0]\n",
      " [0 1 1 1 0 0 0 2 0 0]\n",
      " [0 0 2 0 1 0 1 1 1 0]\n",
      " [0 0 0 1 0 2 0 2 0 0]\n",
      " [0 1 1 2 3 1 3 2 1 1]\n",
      " [0 0 0 1 0 2 0 0 0 0]\n",
      " [0 0 1 0 0 0 1 0 0 0]\n",
      " [0 1 0 0 0 0 0 1 0 0]\n",
      " [1 0 0 0 0 0 0 0 1 0]\n",
      " [2 2 2 1 1 1 0 0 0 0]]\n"
     ]
    }
   ],
   "source": [
    "print(grid)"
   ]
  },
  {
   "cell_type": "code",
   "execution_count": 111,
   "id": "925b063e",
   "metadata": {
    "ExecuteTime": {
     "end_time": "2021-12-05T07:41:47.192909Z",
     "start_time": "2021-12-05T07:41:47.184177Z"
    }
   },
   "outputs": [
    {
     "name": "stdout",
     "output_type": "stream",
     "text": [
      "[[0 0 0 0 0 0 0 1 0 0]\n",
      " [0 0 1 0 0 0 0 1 0 0]\n",
      " [0 0 1 0 0 0 0 1 0 0]\n",
      " [0 0 0 0 0 0 0 1 0 0]\n",
      " [0 1 1 2 1 1 1 2 1 1]\n",
      " [0 0 0 0 0 0 0 0 0 0]\n",
      " [0 0 0 0 0 0 0 0 0 0]\n",
      " [0 0 0 0 0 0 0 0 0 0]\n",
      " [0 0 0 0 0 0 0 0 0 0]\n",
      " [2 2 2 1 1 1 0 0 0 0]]\n"
     ]
    }
   ],
   "source": [
    "grid_1 = grid\n",
    "print(grid_1)"
   ]
  },
  {
   "cell_type": "code",
   "execution_count": 105,
   "id": "69cccd68",
   "metadata": {
    "ExecuteTime": {
     "end_time": "2021-12-05T07:33:02.278319Z",
     "start_time": "2021-12-05T07:33:02.267898Z"
    }
   },
   "outputs": [
    {
     "name": "stdout",
     "output_type": "stream",
     "text": [
      "[[1 2]\n",
      " [2 3]\n",
      " [3 4]]\n",
      "1 2\n",
      "2 3\n",
      "3 4\n"
     ]
    }
   ],
   "source": [
    "abs_ = np.arange(1, 4)\n",
    "ord_ = np.arange(2, 5)\n",
    "segment = np.stack((abs_, ord_), axis=-1) \n",
    "print(segment)\n",
    "for s in segment:\n",
    "    print(s[0], s[1])"
   ]
  },
  {
   "cell_type": "code",
   "execution_count": null,
   "id": "e658d04c",
   "metadata": {},
   "outputs": [],
   "source": [
    "print"
   ]
  }
 ],
 "metadata": {
  "hide_input": false,
  "kernelspec": {
   "display_name": "Python 3 (ipykernel)",
   "language": "python",
   "name": "python3"
  },
  "language_info": {
   "codemirror_mode": {
    "name": "ipython",
    "version": 3
   },
   "file_extension": ".py",
   "mimetype": "text/x-python",
   "name": "python",
   "nbconvert_exporter": "python",
   "pygments_lexer": "ipython3",
   "version": "3.9.9"
  },
  "toc": {
   "base_numbering": 1,
   "nav_menu": {},
   "number_sections": false,
   "sideBar": true,
   "skip_h1_title": false,
   "title_cell": "Table of Contents",
   "title_sidebar": "Contents",
   "toc_cell": false,
   "toc_position": {},
   "toc_section_display": true,
   "toc_window_display": false
  },
  "varInspector": {
   "cols": {
    "lenName": 16,
    "lenType": 16,
    "lenVar": 40
   },
   "kernels_config": {
    "python": {
     "delete_cmd_postfix": "",
     "delete_cmd_prefix": "del ",
     "library": "var_list.py",
     "varRefreshCmd": "print(var_dic_list())"
    },
    "r": {
     "delete_cmd_postfix": ") ",
     "delete_cmd_prefix": "rm(",
     "library": "var_list.r",
     "varRefreshCmd": "cat(var_dic_list()) "
    }
   },
   "types_to_exclude": [
    "module",
    "function",
    "builtin_function_or_method",
    "instance",
    "_Feature"
   ],
   "window_display": false
  }
 },
 "nbformat": 4,
 "nbformat_minor": 5
}
