{
 "cells": [
  {
   "cell_type": "markdown",
   "id": "f48c1385",
   "metadata": {},
   "source": [
    "Day 3: Binary Diagnostic\n",
    "==="
   ]
  },
  {
   "cell_type": "markdown",
   "id": "1c9492e7",
   "metadata": {},
   "source": [
    "## Part One"
   ]
  },
  {
   "cell_type": "markdown",
   "id": "26a4f7b2",
   "metadata": {},
   "source": [
    "The submarine has been making some odd creaking noises, so you ask it to produce a diagnostic report just in case.\n",
    "\n",
    "The diagnostic report (your puzzle input) consists of a list of binary numbers which, when decoded properly, can tell you many useful things about the conditions of the submarine. The first parameter to check is the **power consumption**.\n",
    "\n",
    "You need to use the binary numbers in the diagnostic report to generate two new binary numbers (called the **gamma rate** and the **epsilon rate**). The power consumption can then be found by multiplying the gamma rate by the epsilon rate.\n",
    "\n",
    "Each bit in the gamma rate can be determined by finding the **most common bit in the corresponding position** of all numbers in the diagnostic report. For example, given the following diagnostic report:\n",
    "```\n",
    "00100\n",
    "11110\n",
    "10110\n",
    "10111\n",
    "10101\n",
    "01111\n",
    "00111\n",
    "11100\n",
    "10000\n",
    "11001\n",
    "00010\n",
    "01010\n",
    "````\n",
    "\n",
    "Considering only the first bit of each number, there are five 0 bits and seven 1 bits. Since the most common bit is 1, the first bit of the gamma rate is 1.\n",
    "\n",
    "The most common second bit of the numbers in the diagnostic report is 0, so the second bit of the gamma rate is 0.\n",
    "\n",
    "The most common value of the third, fourth, and fifth bits are 1, 1, and 0, respectively, and so the final three bits of the gamma rate are 110.\n",
    "\n",
    "So, the gamma rate is the binary number 10110, or **22** in decimal.\n",
    "\n",
    "The epsilon rate is calculated in a similar way; rather than use the most common bit, the least common bit from each position is used. So, the epsilon rate is 01001, or **9** in decimal. Multiplying the gamma rate (22) by the epsilon rate (9) produces the power consumption, **198**.\n",
    "\n",
    "Use the binary numbers in your diagnostic report to calculate the gamma rate and epsilon rate, then multiply them together. **What is the power consumption of the submarine?** (Be sure to represent your answer in decimal, not binary.)\n",
    "\n"
   ]
  },
  {
   "cell_type": "markdown",
   "id": "cd92d54f",
   "metadata": {
    "heading_collapsed": true
   },
   "source": [
    "### Input"
   ]
  },
  {
   "cell_type": "code",
   "execution_count": 2,
   "id": "9891b42b",
   "metadata": {
    "ExecuteTime": {
     "end_time": "2021-12-03T05:20:30.437408Z",
     "start_time": "2021-12-03T05:20:30.411131Z"
    },
    "hidden": true
   },
   "outputs": [],
   "source": [
    "input_ = \"\"\"000010000011\n",
    "001010000111\n",
    "011010000010\n",
    "000011111110\n",
    "101101000101\n",
    "000100010100\n",
    "111101111110\n",
    "111111000010\n",
    "000011010011\n",
    "100011100000\n",
    "101110110001\n",
    "111011111101\n",
    "111011011001\n",
    "010101000010\n",
    "000010001000\n",
    "101010011111\n",
    "010000111101\n",
    "011010111100\n",
    "101111010110\n",
    "000110110101\n",
    "001010000001\n",
    "110101100110\n",
    "111110010100\n",
    "001000001011\n",
    "100111101001\n",
    "000010010001\n",
    "100100101010\n",
    "011010110111\n",
    "000001100100\n",
    "101111000111\n",
    "010101101100\n",
    "001111010010\n",
    "010001011100\n",
    "110101011011\n",
    "000010101000\n",
    "011011101101\n",
    "101001000011\n",
    "101111000000\n",
    "001111101111\n",
    "001101110111\n",
    "110110110101\n",
    "100011001011\n",
    "010110110011\n",
    "001010001110\n",
    "110110100100\n",
    "001001111111\n",
    "100111011100\n",
    "101101001010\n",
    "011110000011\n",
    "010101111000\n",
    "001101000101\n",
    "100011001100\n",
    "110000110001\n",
    "011101010001\n",
    "000110001101\n",
    "110001101101\n",
    "011001000110\n",
    "011101010101\n",
    "110110011010\n",
    "001000011001\n",
    "100101100101\n",
    "010110001100\n",
    "110100011001\n",
    "001011000010\n",
    "101011110101\n",
    "011101001010\n",
    "011011000111\n",
    "000101000001\n",
    "100001010110\n",
    "111101000011\n",
    "111010111011\n",
    "000011101001\n",
    "011111110000\n",
    "110011100101\n",
    "110011100110\n",
    "101011001011\n",
    "100110110111\n",
    "010001111100\n",
    "101010011001\n",
    "111001111011\n",
    "111001000011\n",
    "010010111010\n",
    "011011011110\n",
    "101000010000\n",
    "000010011111\n",
    "000101110000\n",
    "101010000110\n",
    "101100000100\n",
    "110000110000\n",
    "000010100010\n",
    "010001111001\n",
    "001000001111\n",
    "010110000011\n",
    "010000111110\n",
    "001011001010\n",
    "011010100001\n",
    "001001000110\n",
    "011010001101\n",
    "100111011101\n",
    "011101010000\n",
    "100111010100\n",
    "100101001101\n",
    "111010101001\n",
    "011001011101\n",
    "010011000000\n",
    "000001100110\n",
    "110101011100\n",
    "000110101000\n",
    "011110001000\n",
    "010011000001\n",
    "100011011111\n",
    "100100001111\n",
    "010011101010\n",
    "001011000001\n",
    "111101011000\n",
    "011101000110\n",
    "111011001101\n",
    "110110010110\n",
    "111011000110\n",
    "111111010101\n",
    "101110100111\n",
    "011110010001\n",
    "010100011111\n",
    "001111000101\n",
    "101100010011\n",
    "111101000010\n",
    "100001110100\n",
    "110001110011\n",
    "011011110101\n",
    "100110111101\n",
    "110010011010\n",
    "111001000110\n",
    "100010111111\n",
    "100010101110\n",
    "011110111001\n",
    "011100101100\n",
    "010101111101\n",
    "101010111011\n",
    "111111110100\n",
    "010111100110\n",
    "111010101111\n",
    "011001110000\n",
    "101011100011\n",
    "101000000110\n",
    "111100011011\n",
    "001001010010\n",
    "001010110001\n",
    "000111101101\n",
    "100010000101\n",
    "010001101110\n",
    "000100100001\n",
    "010100011000\n",
    "001100011011\n",
    "111111110011\n",
    "111010010000\n",
    "001100101001\n",
    "000101001110\n",
    "111100111010\n",
    "111110010000\n",
    "010111001000\n",
    "011100001100\n",
    "000010011010\n",
    "101010101011\n",
    "110100011011\n",
    "010110101101\n",
    "000001000101\n",
    "111111010011\n",
    "110000000110\n",
    "110100111111\n",
    "111000000010\n",
    "000101010111\n",
    "001110110110\n",
    "111111111011\n",
    "010010100100\n",
    "110000010011\n",
    "010111110111\n",
    "111000010010\n",
    "111011100000\n",
    "010100000101\n",
    "010011011001\n",
    "000110101111\n",
    "110111101111\n",
    "101001001011\n",
    "101111110111\n",
    "111010101011\n",
    "100100010101\n",
    "100100011100\n",
    "000011010111\n",
    "011010101011\n",
    "101000111010\n",
    "010101011101\n",
    "101101000001\n",
    "010111110010\n",
    "111101011010\n",
    "000001010100\n",
    "011010101000\n",
    "010000110010\n",
    "101000011100\n",
    "010001010000\n",
    "000001001101\n",
    "100101110001\n",
    "001101010010\n",
    "001100111110\n",
    "011101010111\n",
    "111110011100\n",
    "100011000101\n",
    "101111100100\n",
    "111011001000\n",
    "010111000110\n",
    "001010111100\n",
    "011011110001\n",
    "111010011110\n",
    "101011100110\n",
    "001100010111\n",
    "111110110111\n",
    "101011010001\n",
    "011110100011\n",
    "110000001110\n",
    "101011101011\n",
    "101101000111\n",
    "110111111111\n",
    "010000011000\n",
    "001110001000\n",
    "111000000101\n",
    "010111101100\n",
    "000100000101\n",
    "001111100101\n",
    "101001111101\n",
    "010111110101\n",
    "100110010101\n",
    "111101101100\n",
    "111100010010\n",
    "110011111110\n",
    "011100010101\n",
    "111001001100\n",
    "101010110000\n",
    "010100010010\n",
    "111100110000\n",
    "111100001000\n",
    "111100110110\n",
    "101101110010\n",
    "010001101100\n",
    "010110010000\n",
    "100000100101\n",
    "000000001110\n",
    "011001100110\n",
    "100101000010\n",
    "011111100010\n",
    "010010100010\n",
    "100101011001\n",
    "011100100100\n",
    "010111110000\n",
    "100111000110\n",
    "111110011011\n",
    "011111000011\n",
    "101001100101\n",
    "000110101110\n",
    "111001111110\n",
    "011110011101\n",
    "101011111111\n",
    "010110101010\n",
    "100001100111\n",
    "000101001111\n",
    "110100011101\n",
    "111110100111\n",
    "101000111110\n",
    "010010011110\n",
    "100110100111\n",
    "000111010011\n",
    "110101110110\n",
    "101101000000\n",
    "110110111110\n",
    "001100111111\n",
    "000010101010\n",
    "001001001001\n",
    "101000110110\n",
    "010011111000\n",
    "000101110011\n",
    "011100001111\n",
    "000001101110\n",
    "100001010010\n",
    "001100000011\n",
    "011100101110\n",
    "111000111000\n",
    "110010110111\n",
    "100100000010\n",
    "010101100100\n",
    "100111001101\n",
    "011101100100\n",
    "110010001010\n",
    "100111000000\n",
    "111011001100\n",
    "010010010011\n",
    "110110100001\n",
    "001011110001\n",
    "010000100110\n",
    "001111100100\n",
    "100110001000\n",
    "101000010001\n",
    "001000001000\n",
    "110001001011\n",
    "001010010101\n",
    "101001111011\n",
    "011101110010\n",
    "101000100110\n",
    "010000101110\n",
    "000110010110\n",
    "001111010001\n",
    "011010100111\n",
    "101110011001\n",
    "001010001100\n",
    "010001011010\n",
    "110010100010\n",
    "100001111001\n",
    "001001010001\n",
    "010111101110\n",
    "100100111111\n",
    "100100101111\n",
    "011010100011\n",
    "101100011101\n",
    "000001011110\n",
    "111010111111\n",
    "101011010011\n",
    "111000110001\n",
    "111010100100\n",
    "000100001010\n",
    "010011011010\n",
    "110100100011\n",
    "010001011101\n",
    "011100110100\n",
    "100111111100\n",
    "100110010111\n",
    "111101010010\n",
    "011110101111\n",
    "001101010001\n",
    "001111000001\n",
    "101010101101\n",
    "100001111110\n",
    "100111010001\n",
    "001111110111\n",
    "011110111101\n",
    "000101010010\n",
    "111110001111\n",
    "100110011001\n",
    "101000110101\n",
    "100110000110\n",
    "000100100010\n",
    "000101110010\n",
    "010011110110\n",
    "011000111011\n",
    "011111111111\n",
    "000001100111\n",
    "101001010100\n",
    "010011101111\n",
    "101000101100\n",
    "111011100011\n",
    "001101011011\n",
    "001110101001\n",
    "001001001010\n",
    "001110111011\n",
    "110100111011\n",
    "110110010101\n",
    "010001111101\n",
    "001101111101\n",
    "110001100110\n",
    "110001000101\n",
    "010001001001\n",
    "110001101010\n",
    "100110011000\n",
    "001001010011\n",
    "100000111010\n",
    "111000000110\n",
    "101010101110\n",
    "011011011111\n",
    "100011111111\n",
    "110000011101\n",
    "000110100001\n",
    "100000110000\n",
    "010100100110\n",
    "100111111011\n",
    "101110100110\n",
    "011111111110\n",
    "111101011101\n",
    "010011100111\n",
    "111110101001\n",
    "111111011111\n",
    "000100001000\n",
    "101111110010\n",
    "001010011011\n",
    "010001001111\n",
    "010111110100\n",
    "100111110001\n",
    "011000000011\n",
    "000010110110\n",
    "011110100001\n",
    "100001011110\n",
    "110111001011\n",
    "100100010110\n",
    "010101110001\n",
    "011011111011\n",
    "101011001110\n",
    "110110110000\n",
    "001101000011\n",
    "101011100101\n",
    "000001111101\n",
    "001000011101\n",
    "010110000010\n",
    "000100011000\n",
    "111011001010\n",
    "100111111001\n",
    "100101000100\n",
    "100100001010\n",
    "110010111101\n",
    "110011100000\n",
    "110001110101\n",
    "001110011100\n",
    "000001011100\n",
    "101110101010\n",
    "110000111100\n",
    "100001011100\n",
    "101010001001\n",
    "100100111000\n",
    "011110111110\n",
    "101110111101\n",
    "110001011101\n",
    "000111110110\n",
    "011000110010\n",
    "100001101110\n",
    "100111011111\n",
    "010000000000\n",
    "110011111010\n",
    "000111000000\n",
    "111000100010\n",
    "110111100010\n",
    "110100001110\n",
    "110101101110\n",
    "110111011110\n",
    "101010000011\n",
    "000010000101\n",
    "011111111011\n",
    "100110100000\n",
    "111100101011\n",
    "000010001101\n",
    "001001100001\n",
    "111010111001\n",
    "101000001011\n",
    "000000010010\n",
    "100010000111\n",
    "111111111110\n",
    "000001011010\n",
    "010110101000\n",
    "010101000011\n",
    "110011101010\n",
    "100101101110\n",
    "111100100000\n",
    "100000000010\n",
    "000110101101\n",
    "011011110000\n",
    "111011101101\n",
    "011011101111\n",
    "010100000001\n",
    "101110000000\n",
    "110001001111\n",
    "001001011011\n",
    "010101000100\n",
    "011000111110\n",
    "010110111001\n",
    "110111001000\n",
    "000101000101\n",
    "101011000011\n",
    "111000001110\n",
    "111011110011\n",
    "100111000101\n",
    "110000111001\n",
    "100011010000\n",
    "111110010001\n",
    "001100010101\n",
    "110100010010\n",
    "100100101100\n",
    "101010101100\n",
    "001000111100\n",
    "110010101010\n",
    "100011001101\n",
    "000001110111\n",
    "010101010111\n",
    "100000001111\n",
    "100010011001\n",
    "010010101000\n",
    "111100001110\n",
    "101010001101\n",
    "110011000001\n",
    "011101011101\n",
    "001100001111\n",
    "101111111111\n",
    "111010101000\n",
    "110001111010\n",
    "111111001010\n",
    "011111001010\n",
    "010001010100\n",
    "101010100011\n",
    "100111110110\n",
    "111101100101\n",
    "101001100110\n",
    "010001011111\n",
    "010011001111\n",
    "101110011010\n",
    "111011000111\n",
    "011011111101\n",
    "000001001110\n",
    "101000010110\n",
    "010110010100\n",
    "000110100101\n",
    "011000000010\n",
    "011001001000\n",
    "101100000011\n",
    "111001100011\n",
    "010101001001\n",
    "011100110111\n",
    "101111100110\n",
    "111001111010\n",
    "000000110110\n",
    "001110011101\n",
    "101110001011\n",
    "011000010001\n",
    "111111000011\n",
    "101111000110\n",
    "001010101010\n",
    "011110111011\n",
    "101000101010\n",
    "011111000110\n",
    "101011010110\n",
    "001111001011\n",
    "001011111111\n",
    "111011010011\n",
    "001101011010\n",
    "000111010001\n",
    "110011111001\n",
    "100010101100\n",
    "010001100111\n",
    "011110110100\n",
    "100111100101\n",
    "101110001000\n",
    "000100110001\n",
    "100110110110\n",
    "000111101110\n",
    "110111101100\n",
    "001001101001\n",
    "100111100100\n",
    "110100000100\n",
    "110000100100\n",
    "111110011010\n",
    "100111010000\n",
    "000111011100\n",
    "101011110001\n",
    "101110111110\n",
    "001111111000\n",
    "001010100100\n",
    "000001111011\n",
    "100001001110\n",
    "010000110000\n",
    "110011001110\n",
    "001101111110\n",
    "101100101100\n",
    "010101011111\n",
    "011000001101\n",
    "111111101000\n",
    "100011010110\n",
    "101000011000\n",
    "100011110101\n",
    "111001110011\n",
    "111001011001\n",
    "110011100010\n",
    "111110110011\n",
    "101110011100\n",
    "001111100010\n",
    "000101010011\n",
    "100011101101\n",
    "011110110110\n",
    "010011000101\n",
    "010100101110\n",
    "001100010010\n",
    "010111001011\n",
    "111000011000\n",
    "010101001000\n",
    "100011100101\n",
    "111101001110\n",
    "100111110101\n",
    "110001000111\n",
    "110100011100\n",
    "010101010000\n",
    "101001010101\n",
    "001110000001\n",
    "010100111010\n",
    "100111011000\n",
    "110100000011\n",
    "000011100110\n",
    "001011100111\n",
    "111010110101\n",
    "001100101000\n",
    "111001101101\n",
    "011101100101\n",
    "110110111000\n",
    "000010010011\n",
    "010111101001\n",
    "111110111010\n",
    "100011010001\n",
    "111011111100\n",
    "101001110000\n",
    "111100101100\n",
    "011001010000\n",
    "101111001101\n",
    "100111001111\n",
    "011011000011\n",
    "101001001100\n",
    "001101001100\n",
    "110001001010\n",
    "111100011010\n",
    "101000010101\n",
    "110001011111\n",
    "011010001111\n",
    "011101000100\n",
    "010100100001\n",
    "010110100001\n",
    "101110100001\n",
    "010000100010\n",
    "010000111111\n",
    "110111010111\n",
    "010100000011\n",
    "111111111000\n",
    "101111101100\n",
    "011110110001\n",
    "111001010000\n",
    "011101101000\n",
    "001111110100\n",
    "000101111011\n",
    "101110111010\n",
    "001111001001\n",
    "111111110101\n",
    "011011100100\n",
    "101101101100\n",
    "110111101001\n",
    "000000111001\n",
    "010100010000\n",
    "100001001010\n",
    "111010100111\n",
    "101100001111\n",
    "110001001001\n",
    "011001001001\n",
    "001110101100\n",
    "001001110101\n",
    "101011111011\n",
    "010011011000\n",
    "001010010000\n",
    "001010001101\n",
    "011000001110\n",
    "100111111110\n",
    "011011010011\n",
    "011100011101\n",
    "101100110100\n",
    "101111000101\n",
    "100111100110\n",
    "110110000100\n",
    "101111100001\n",
    "000100011101\n",
    "010100101111\n",
    "000000001000\n",
    "010110010010\n",
    "000000000010\n",
    "111010010001\n",
    "111010111101\n",
    "001001000011\n",
    "101001010010\n",
    "100000001101\n",
    "101111101000\n",
    "011100001011\n",
    "110111100111\n",
    "111111000110\n",
    "110101001010\n",
    "010001011110\n",
    "000101100001\n",
    "000011100100\n",
    "101101110101\n",
    "011110100100\n",
    "110110101101\n",
    "000010010111\n",
    "100011010111\n",
    "101000110001\n",
    "011111010110\n",
    "111001001010\n",
    "000011000111\n",
    "001111001111\n",
    "101011001000\n",
    "100000111111\n",
    "110100011110\n",
    "000000100110\n",
    "101110010001\n",
    "010011011110\n",
    "100100011111\n",
    "010101111100\n",
    "001011010100\n",
    "110011101111\n",
    "001000101010\n",
    "001101010100\n",
    "001111111010\n",
    "000101100000\n",
    "110101100101\n",
    "110010111010\n",
    "101110001100\n",
    "110100111000\n",
    "001100000110\n",
    "001000101100\n",
    "001010101111\n",
    "100010100001\n",
    "011001101100\n",
    "110000101100\n",
    "000111001001\n",
    "100001011011\n",
    "000110010000\n",
    "110100100100\n",
    "111101101111\n",
    "111001100110\n",
    "101010001110\n",
    "101001011110\n",
    "101001111100\n",
    "000100101010\n",
    "111100011000\n",
    "100100001100\n",
    "101100001010\n",
    "100000100001\n",
    "001110010011\n",
    "011100011110\n",
    "000000101010\n",
    "011000010111\n",
    "010011110111\n",
    "001111101010\n",
    "000011110000\n",
    "110001111011\n",
    "011001110010\n",
    "001110010010\n",
    "110011110011\n",
    "111111100111\n",
    "101101100101\n",
    "110101111100\n",
    "100011110011\n",
    "001111011010\n",
    "111110111100\n",
    "101110001111\n",
    "101001111000\n",
    "100011100111\n",
    "110010001011\n",
    "000010000110\n",
    "110001010011\n",
    "101011011110\n",
    "001111101001\n",
    "000010001011\n",
    "110000101101\n",
    "111111100011\n",
    "100111001100\n",
    "101110111000\n",
    "111010000001\n",
    "101100100100\n",
    "110111000111\n",
    "000111111110\n",
    "111111000100\n",
    "100000001001\n",
    "101101100010\n",
    "000011001101\n",
    "111000001101\n",
    "110111010110\n",
    "010110100011\n",
    "101000101000\n",
    "010010101101\n",
    "110011011110\n",
    "111000000000\n",
    "011110111010\n",
    "000000010011\n",
    "100110110101\n",
    "101100011100\n",
    "111111100010\n",
    "100110001001\n",
    "100011000010\n",
    "011010000111\n",
    "111101000111\n",
    "111000011101\n",
    "101111101010\n",
    "100110100100\n",
    "010101011110\n",
    "001000011010\n",
    "110101000100\n",
    "001100100101\n",
    "010100011110\n",
    "001100110101\n",
    "101101000010\n",
    "010100111100\n",
    "110000000000\n",
    "101011101001\n",
    "111100110010\n",
    "100111010010\n",
    "010000001110\n",
    "011011010000\n",
    "011011100111\n",
    "110101000011\n",
    "100100101000\n",
    "000110001001\n",
    "110001010110\n",
    "100100001101\n",
    "010001110001\n",
    "101110101111\n",
    "100110001010\n",
    "011100110101\n",
    "001001100100\n",
    "001101100001\n",
    "100010101111\n",
    "101111101101\n",
    "111110000010\n",
    "001100001100\n",
    "111111001000\n",
    "001111001010\n",
    "000000100111\n",
    "001011010011\n",
    "011110000111\n",
    "010111011110\n",
    "111110000011\n",
    "100000111000\n",
    "010010111101\n",
    "010000000011\n",
    "010111110110\n",
    "011000100101\n",
    "110011101011\n",
    "001100101010\n",
    "101101001000\n",
    "000100000000\n",
    "111010110110\n",
    "100101001110\n",
    "001000001110\n",
    "011010111000\n",
    "110110011000\n",
    "110011001001\n",
    "101000000101\n",
    "010110011101\n",
    "110110010111\n",
    "010011110000\n",
    "111110011000\n",
    "100010101001\n",
    "110111000001\n",
    "001000110001\n",
    "101011001100\n",
    "111111100101\n",
    "011110010111\n",
    "011001111100\n",
    "010010011010\n",
    "001111011110\n",
    "110001100010\n",
    "001000110011\n",
    "110101101101\n",
    "110010011100\n",
    "010111101010\n",
    "001110101010\n",
    "010101101000\n",
    "001011000110\n",
    "010101111011\n",
    "101100001100\n",
    "110100010100\n",
    "001101000010\n",
    "101110110110\n",
    "001100100111\n",
    "101010001010\n",
    "110000100110\n",
    "010100110111\n",
    "101111110101\n",
    "110000101001\n",
    "000001010001\n",
    "001000000011\n",
    "101100100101\n",
    "111001001111\n",
    "010100001001\n",
    "100001010111\n",
    "000010110000\n",
    "001110001110\n",
    "111010000111\n",
    "100100111011\n",
    "101101010011\n",
    "100010110100\n",
    "110001001100\n",
    "110001010010\n",
    "101100100010\n",
    "011100100011\n",
    "010110000110\n",
    "000011010000\n",
    "000100111100\n",
    "111011110111\n",
    "001101101111\n",
    "001101011101\n",
    "010110101011\n",
    "000100100100\n",
    "100001100001\n",
    "100001110000\n",
    "010101111001\n",
    "001011011001\n",
    "111100000100\n",
    "011000001010\n",
    "111110001011\n",
    "000001101111\n",
    "000101011011\n",
    "011010011100\n",
    "001001110011\n",
    "011010011001\n",
    "100010011100\n",
    "010000110001\n",
    "111101100001\n",
    "011011010100\n",
    "010011111011\n",
    "101000010011\n",
    "100101111101\n",
    "000100111010\n",
    "101110111100\n",
    "111100111101\n",
    "000111000110\n",
    "111100000110\n",
    "001010100110\n",
    "000000100011\n",
    "110010001001\n",
    "101111001001\n",
    "100101100010\n",
    "111101001011\n",
    "001110111000\n",
    "100001000011\n",
    "100101100000\n",
    "100010010100\n",
    "010001000110\n",
    "101100111100\n",
    "101011101110\n",
    "001001101111\n",
    "010110000000\n",
    "010011100011\n",
    "001001110110\n",
    "101001011000\n",
    "000011001000\n",
    "010010011001\n",
    "101110010010\n",
    "000101010110\n",
    "111100101000\n",
    "111000100101\n",
    "101110000111\n",
    "000110011011\n",
    "101101001101\n",
    "001000111101\n",
    "110111000100\n",
    "000001001010\n",
    "111100001010\n",
    "001011101110\n",
    "111001000000\n",
    "001111111011\n",
    "101100000101\n",
    "001001011111\n",
    "001001000100\n",
    "000001010000\n",
    "101010000100\n",
    "010010111111\n",
    "101010101000\n",
    "111101111011\n",
    "001111010110\n",
    "001010011010\n",
    "001101001011\n",
    "100001000100\n",
    "001111110101\n",
    "011000100010\n",
    "101111001100\n",
    "101110110011\n",
    "101101110111\n",
    "001100100011\n",
    "110010000111\n",
    "011110110000\n",
    "101100011010\n",
    "100110010010\n",
    "000100101111\n",
    "011000011010\n",
    "110000010000\n",
    "001100101100\n",
    "111110100100\n",
    "101010001000\n",
    "101111110000\n",
    "101011110010\n",
    "100101101000\n",
    "100010100011\n",
    "011011011000\n",
    "000001010110\n",
    "100100100101\n",
    "111100101010\n",
    "100010110000\n",
    "100100111010\n",
    "001010110100\n",
    "110011100111\n",
    "010001010001\n",
    "110100011010\n",
    "100011111110\n",
    "101001010000\n",
    "011100100110\n",
    "111000101010\n",
    "001111001000\"\"\""
   ]
  },
  {
   "cell_type": "markdown",
   "id": "a49a7793",
   "metadata": {},
   "source": [
    "### Resolution"
   ]
  },
  {
   "cell_type": "code",
   "execution_count": 3,
   "id": "b8fc9058",
   "metadata": {
    "ExecuteTime": {
     "end_time": "2021-12-03T05:37:43.845148Z",
     "start_time": "2021-12-03T05:37:43.830886Z"
    }
   },
   "outputs": [
    {
     "name": "stdout",
     "output_type": "stream",
     "text": [
      "[[0, 0, 0, 0, 1, 0, 0, 0, 0, 0, 1, 1], [0, 0, 1, 0, 1, 0, 0, 0, 0, 1, 1, 1]]\n"
     ]
    }
   ],
   "source": [
    "input_list = []\n",
    "\n",
    "for line in input_.splitlines():\n",
    "    input_line = []\n",
    "    for c in list(line):\n",
    "        input_line.append(int(c))\n",
    "    input_list.append(input_line)\n",
    "\n",
    "print(input_list[:2])"
   ]
  },
  {
   "cell_type": "code",
   "execution_count": 7,
   "id": "bb02bbb9",
   "metadata": {
    "ExecuteTime": {
     "end_time": "2021-12-03T05:37:59.149951Z",
     "start_time": "2021-12-03T05:37:59.137125Z"
    }
   },
   "outputs": [
    {
     "name": "stdout",
     "output_type": "stream",
     "text": [
      "<class 'numpy.ndarray'>\n"
     ]
    }
   ],
   "source": [
    "import numpy as np\n",
    "\n",
    "bits_ = np.array(input_list).astype(int)\n",
    "\n",
    "print(type(bits_))"
   ]
  },
  {
   "cell_type": "code",
   "execution_count": 32,
   "id": "76c13ad7",
   "metadata": {
    "ExecuteTime": {
     "end_time": "2021-12-03T05:50:12.400798Z",
     "start_time": "2021-12-03T05:50:12.393819Z"
    }
   },
   "outputs": [
    {
     "name": "stdout",
     "output_type": "stream",
     "text": [
      "[527 483 519 516 511 510 490 479 505 511 517 484]\n"
     ]
    }
   ],
   "source": [
    "column_sums = bits_.sum(axis=0)\n",
    "\n",
    "print(column_sums)"
   ]
  },
  {
   "cell_type": "code",
   "execution_count": 33,
   "id": "0b1cd7e7",
   "metadata": {
    "ExecuteTime": {
     "end_time": "2021-12-03T05:50:12.941160Z",
     "start_time": "2021-12-03T05:50:12.936151Z"
    }
   },
   "outputs": [
    {
     "name": "stdout",
     "output_type": "stream",
     "text": [
      "['1', '0', '1', '1', '1', '1', '0', '0', '1', '1', '1', '0']\n"
     ]
    }
   ],
   "source": [
    "binaries_gamma = ['1' if b > 500 else '0' for b in column_sums]\n",
    "\n",
    "print(binaries_gamma)"
   ]
  },
  {
   "cell_type": "code",
   "execution_count": 34,
   "id": "45a1b26e",
   "metadata": {
    "ExecuteTime": {
     "end_time": "2021-12-03T05:50:13.420240Z",
     "start_time": "2021-12-03T05:50:13.411778Z"
    }
   },
   "outputs": [
    {
     "name": "stdout",
     "output_type": "stream",
     "text": [
      "3022\n"
     ]
    }
   ],
   "source": [
    "gamma = int(''.join(binaries_gamma), 2) \n",
    "\n",
    "print(gamma)"
   ]
  },
  {
   "cell_type": "code",
   "execution_count": 36,
   "id": "f0155ae5",
   "metadata": {
    "ExecuteTime": {
     "end_time": "2021-12-03T05:51:16.390218Z",
     "start_time": "2021-12-03T05:51:16.380869Z"
    }
   },
   "outputs": [
    {
     "name": "stdout",
     "output_type": "stream",
     "text": [
      "1073\n"
     ]
    }
   ],
   "source": [
    "binaries_epsilon = ['1' if b <= 500 else '0' for b in column_sums]\n",
    "epsilon = int(''.join(binaries_epsilon), 2) \n",
    "\n",
    "print(epsilon)"
   ]
  },
  {
   "cell_type": "code",
   "execution_count": 38,
   "id": "f676d74a",
   "metadata": {
    "ExecuteTime": {
     "end_time": "2021-12-03T05:51:44.795565Z",
     "start_time": "2021-12-03T05:51:44.791471Z"
    }
   },
   "outputs": [
    {
     "name": "stdout",
     "output_type": "stream",
     "text": [
      "3242606\n"
     ]
    }
   ],
   "source": [
    "result = gamma * epsilon\n",
    "\n",
    "print(result)"
   ]
  },
  {
   "cell_type": "markdown",
   "id": "e928c77d",
   "metadata": {},
   "source": [
    "## Part Two | CETTE SOLUTION NE MARCHE PAS"
   ]
  },
  {
   "cell_type": "markdown",
   "id": "55af628b",
   "metadata": {},
   "source": [
    "Next, you should verify the **life support rating**, which can be determined by multiplying the **oxygen generator** rating by the **CO2 scrubber rating**.\n",
    "\n",
    "Both the oxygen generator rating and the CO2 scrubber rating are values that can be found in your diagnostic report - finding them is the tricky part. Both values are located using a similar process that involves filtering out values until only one remains. Before searching for either rating value, start with the full list of binary numbers from your diagnostic report and **consider just the first bit** of those numbers. Then:\n",
    "\n",
    " - Keep only numbers selected by the **bit criteria** for the type of rating value for which you are searching. Discard numbers which do not match the bit criteria.\n",
    " - If you only have one number left, stop; this is the rating value for which you are searching.\n",
    " - Otherwise, repeat the process, considering the next bit to the right.\n",
    " \n",
    " \n",
    "The **bit criteria** depends on which type of rating value you want to find:\n",
    "\n",
    " - To find **oxygen generator rating**, determine the **most common** value (0 or 1) in the current bit position, and keep only numbers with that bit in that position. If 0 and 1 are equally common, keep values with a 1 in the position being considered.\n",
    " - To find **CO2 scrubber rating**, determine the **least common** value (0 or 1) in the current bit position, and keep only numbers with that bit in that position. If 0 and 1 are equally common, keep values with a 0 in the position being considered.\n",
    " \n",
    " \n",
    "For example, to determine the **oxygen generator rating** value using the same example diagnostic report from above:\n",
    "\n",
    " - Start with all 12 numbers and consider only the first bit of each number. There are more 1 bits (7) than 0 bits (5), so keep only the 7 numbers with a 1 in the first position: 11110, 10110, 10111, 10101, 11100, 10000, and 11001.\n",
    " - Then, consider the second bit of the 7 remaining numbers: there are more 0 bits (4) than 1 bits (3), so keep only the 4 numbers with a 0 in the second position: 10110, 10111, 10101, and 10000.\n",
    " - In the third position, three of the four numbers have a 1, so keep those three: 10110, 10111, and 10101.\n",
    " - In the fourth position, two of the three numbers have a 1, so keep those two: 10110 and 10111.\n",
    " - In the fifth position, there are an equal number of 0 bits and 1 bits (one each). So, to find the oxygen generator rating, keep the number with a 1 in that position: 10111.\n",
    " - As there is only one number left, stop; the oxygen generator rating is 10111, or 23 in decimal.\n",
    " \n",
    " \n",
    "Then, to determine the CO2 scrubber rating value from the same example above:\n",
    "\n",
    " - Start again with all 12 numbers and consider only the first bit of each number. There are fewer 0 bits (5) than 1 bits (7), so keep only the 5 numbers with a 0 in the first position: 00100, 01111, 00111, 00010, and 01010.\n",
    " - Then, consider the second bit of the 5 remaining numbers: there are fewer 1 bits (2) than 0 bits (3), so keep only the 2 numbers with a 1 in the second position: 01111 and 01010.\n",
    " - In the third position, there are an equal number of 0 bits and 1 bits (one each). So, to find the CO2 scrubber rating, keep the number with a 0 in that position: 01010.\n",
    " - As there is only one number left, stop; the CO2 scrubber rating is 01010, or 10 in decimal.\n",
    " \n",
    " \n",
    "Finally, to find the life support rating, multiply the oxygen generator rating (23) by the CO2 scrubber rating (10) to get **230**.\n",
    "\n",
    "Use the binary numbers in your diagnostic report to calculate the oxygen generator rating and CO2 scrubber rating, then multiply them together. **What is the life support rating of the submarine?** (Be sure to represent your answer in decimal, not binary.)"
   ]
  },
  {
   "cell_type": "markdown",
   "id": "8400578e",
   "metadata": {},
   "source": [
    "### Resolution"
   ]
  },
  {
   "cell_type": "code",
   "execution_count": null,
   "id": "7cda082d",
   "metadata": {},
   "outputs": [],
   "source": [
    "bits_ = np.array(input_list)"
   ]
  },
  {
   "cell_type": "code",
   "execution_count": null,
   "id": "cc4d6368",
   "metadata": {},
   "outputs": [],
   "source": [
    "column_sums = bits_.sum(axis=0)"
   ]
  },
  {
   "cell_type": "code",
   "execution_count": null,
   "id": "e290eb49",
   "metadata": {},
   "outputs": [],
   "source": [
    "mask = [1 if b >= (int(len(column_sums)/2)) else 0 for b in column_sums]"
   ]
  },
  {
   "cell_type": "code",
   "execution_count": 132,
   "id": "0cfd3b94",
   "metadata": {
    "ExecuteTime": {
     "end_time": "2021-12-03T08:33:04.960318Z",
     "start_time": "2021-12-03T08:33:04.952525Z"
    }
   },
   "outputs": [],
   "source": [
    "def build_mask(list_):\n",
    "    bits_ = np.array(list_)\n",
    "    column_sums = bits_.sum(axis=0)\n",
    "    mask = [1 if b >= (int(len(column_sums)/2)) else 0 for b in column_sums]\n",
    "    \n",
    "    return mask"
   ]
  },
  {
   "cell_type": "code",
   "execution_count": 147,
   "id": "15ce2f3c",
   "metadata": {
    "ExecuteTime": {
     "end_time": "2021-12-03T08:39:27.317479Z",
     "start_time": "2021-12-03T08:39:27.309528Z"
    }
   },
   "outputs": [],
   "source": [
    "def filter_binaries(list_, mask_index, mask, out=False):\n",
    "    if out: \n",
    "        return list(filter(lambda b: b[mask_index] != mask[mask_index], list_))\n",
    "    else:\n",
    "        return list(filter(lambda b: b[mask_index] == mask[mask_index], list_))"
   ]
  },
  {
   "cell_type": "code",
   "execution_count": 148,
   "id": "3820d38d",
   "metadata": {
    "ExecuteTime": {
     "end_time": "2021-12-03T08:39:37.152022Z",
     "start_time": "2021-12-03T08:39:37.144630Z"
    }
   },
   "outputs": [],
   "source": [
    "def filter_iterator(list_, out=False):\n",
    "    for i in range(12):\n",
    "        if len(list_) > 1:\n",
    "            next_list = list_\n",
    "            mask = build_mask(next_list)\n",
    "            next_list = filter_binaries(next_list, i, mask=mask, out=out)\n",
    "            \n",
    "            if next_list:\n",
    "                list_ = next_list\n",
    "\n",
    "    return list_"
   ]
  },
  {
   "cell_type": "markdown",
   "id": "2ee2ce61",
   "metadata": {},
   "source": [
    "#### oxygen generator rating"
   ]
  },
  {
   "cell_type": "code",
   "execution_count": 149,
   "id": "aeba03d3",
   "metadata": {
    "ExecuteTime": {
     "end_time": "2021-12-03T08:39:38.064281Z",
     "start_time": "2021-12-03T08:39:38.047535Z"
    }
   },
   "outputs": [
    {
     "name": "stdout",
     "output_type": "stream",
     "text": [
      "[1, 1, 1, 1, 1, 1, 1, 1, 0, 0, 1, 1]\n"
     ]
    }
   ],
   "source": [
    "oxygen_binaries = filter_iterator(input_list)[0]\n",
    "print(oxygen_binaries)"
   ]
  },
  {
   "cell_type": "code",
   "execution_count": 150,
   "id": "239c1c2e",
   "metadata": {
    "ExecuteTime": {
     "end_time": "2021-12-03T08:39:39.014425Z",
     "start_time": "2021-12-03T08:39:39.008255Z"
    }
   },
   "outputs": [
    {
     "name": "stdout",
     "output_type": "stream",
     "text": [
      "4083\n"
     ]
    }
   ],
   "source": [
    "oxygen_rating = int(''.join(str(x) for x in oxygen_binaries), 2)\n",
    "print(oxygen_rating)"
   ]
  },
  {
   "cell_type": "markdown",
   "id": "dffbc911",
   "metadata": {},
   "source": [
    "#### CO2 scrubber rating"
   ]
  },
  {
   "cell_type": "code",
   "execution_count": 151,
   "id": "1c41b2b6",
   "metadata": {
    "ExecuteTime": {
     "end_time": "2021-12-03T08:39:39.774142Z",
     "start_time": "2021-12-03T08:39:39.756004Z"
    }
   },
   "outputs": [
    {
     "name": "stdout",
     "output_type": "stream",
     "text": [
      "[0, 0, 0, 0, 0, 0, 0, 1, 0, 0, 1, 1]\n"
     ]
    }
   ],
   "source": [
    "co2_binaries = filter_iterator(input_list, out=True)[0]\n",
    "print(co2_binaries)"
   ]
  },
  {
   "cell_type": "code",
   "execution_count": 152,
   "id": "b860a192",
   "metadata": {
    "ExecuteTime": {
     "end_time": "2021-12-03T08:39:40.555644Z",
     "start_time": "2021-12-03T08:39:40.548728Z"
    }
   },
   "outputs": [
    {
     "name": "stdout",
     "output_type": "stream",
     "text": [
      "19\n"
     ]
    }
   ],
   "source": [
    "co2_rating = int(''.join(str(x) for x in co2_binaries), 2)\n",
    "print(co2_rating)"
   ]
  },
  {
   "cell_type": "markdown",
   "id": "3dbbccc1",
   "metadata": {},
   "source": [
    "#### Result"
   ]
  },
  {
   "cell_type": "code",
   "execution_count": 153,
   "id": "2bbaefd8",
   "metadata": {
    "ExecuteTime": {
     "end_time": "2021-12-03T08:39:41.990856Z",
     "start_time": "2021-12-03T08:39:41.985255Z"
    }
   },
   "outputs": [
    {
     "name": "stdout",
     "output_type": "stream",
     "text": [
      "77577\n"
     ]
    }
   ],
   "source": [
    "result = oxygen_rating * co2_rating\n",
    "print(result)"
   ]
  },
  {
   "cell_type": "markdown",
   "id": "8d6408e7",
   "metadata": {},
   "source": [
    "### Test on input from example"
   ]
  },
  {
   "cell_type": "markdown",
   "id": "5e61e38c",
   "metadata": {},
   "source": [
    "#### Part One"
   ]
  },
  {
   "cell_type": "code",
   "execution_count": 112,
   "id": "7bc6d2d3",
   "metadata": {
    "ExecuteTime": {
     "end_time": "2021-12-03T08:06:06.249828Z",
     "start_time": "2021-12-03T08:06:06.243019Z"
    }
   },
   "outputs": [],
   "source": [
    "example_input = \"\"\"00100\n",
    "11110\n",
    "10110\n",
    "10111\n",
    "10101\n",
    "01111\n",
    "00111\n",
    "11100\n",
    "10000\n",
    "11001\n",
    "00010\n",
    "01010\"\"\""
   ]
  },
  {
   "cell_type": "code",
   "execution_count": 114,
   "id": "e72e65bb",
   "metadata": {
    "ExecuteTime": {
     "end_time": "2021-12-03T08:07:29.150592Z",
     "start_time": "2021-12-03T08:07:29.138986Z"
    }
   },
   "outputs": [
    {
     "name": "stdout",
     "output_type": "stream",
     "text": [
      "[[0, 0, 1, 0, 0], [1, 1, 1, 1, 0]]\n"
     ]
    }
   ],
   "source": [
    "example_list = []\n",
    "\n",
    "for line in example_input.splitlines():\n",
    "    input_line = []\n",
    "    for c in list(line):\n",
    "        input_line.append(int(c))\n",
    "    example_list.append(input_line)\n",
    "\n",
    "print(example_list[:2])"
   ]
  },
  {
   "cell_type": "code",
   "execution_count": 115,
   "id": "0b3b34de",
   "metadata": {
    "ExecuteTime": {
     "end_time": "2021-12-03T08:07:29.706973Z",
     "start_time": "2021-12-03T08:07:29.702025Z"
    }
   },
   "outputs": [
    {
     "name": "stdout",
     "output_type": "stream",
     "text": [
      "<class 'numpy.ndarray'>\n"
     ]
    }
   ],
   "source": [
    "import numpy as np\n",
    "\n",
    "bits_ex = np.array(example_list)\n",
    "\n",
    "print(type(bits_ex))"
   ]
  },
  {
   "cell_type": "code",
   "execution_count": 118,
   "id": "45f757c0",
   "metadata": {
    "ExecuteTime": {
     "end_time": "2021-12-03T08:08:42.860109Z",
     "start_time": "2021-12-03T08:08:42.850557Z"
    }
   },
   "outputs": [
    {
     "data": {
      "text/plain": [
       "12"
      ]
     },
     "execution_count": 118,
     "metadata": {},
     "output_type": "execute_result"
    }
   ],
   "source": [
    "example_len = len(example_list)\n",
    "example_len"
   ]
  },
  {
   "cell_type": "code",
   "execution_count": 117,
   "id": "84bdeb0b",
   "metadata": {
    "ExecuteTime": {
     "end_time": "2021-12-03T08:08:01.302104Z",
     "start_time": "2021-12-03T08:08:01.295151Z"
    }
   },
   "outputs": [
    {
     "name": "stdout",
     "output_type": "stream",
     "text": [
      "[7 5 8 7 5]\n"
     ]
    }
   ],
   "source": [
    "column_sums = bits_ex.sum(axis=0)\n",
    "\n",
    "print(column_sums)"
   ]
  },
  {
   "cell_type": "code",
   "execution_count": 119,
   "id": "56393b89",
   "metadata": {
    "ExecuteTime": {
     "end_time": "2021-12-03T08:10:33.012651Z",
     "start_time": "2021-12-03T08:10:33.006880Z"
    }
   },
   "outputs": [
    {
     "name": "stdout",
     "output_type": "stream",
     "text": [
      "['1', '0', '1', '1', '0']\n"
     ]
    }
   ],
   "source": [
    "binaries_gamma = ['1' if b > 6 else '0' for b in column_sums]\n",
    "\n",
    "print(binaries_gamma)"
   ]
  },
  {
   "cell_type": "code",
   "execution_count": 120,
   "id": "9087ceb4",
   "metadata": {
    "ExecuteTime": {
     "end_time": "2021-12-03T08:10:33.356077Z",
     "start_time": "2021-12-03T08:10:33.349016Z"
    }
   },
   "outputs": [
    {
     "name": "stdout",
     "output_type": "stream",
     "text": [
      "22\n"
     ]
    }
   ],
   "source": [
    "gamma = int(''.join(binaries_gamma), 2) \n",
    "\n",
    "print(gamma)"
   ]
  },
  {
   "cell_type": "code",
   "execution_count": 121,
   "id": "ccda65f0",
   "metadata": {
    "ExecuteTime": {
     "end_time": "2021-12-03T08:10:33.836793Z",
     "start_time": "2021-12-03T08:10:33.828630Z"
    }
   },
   "outputs": [
    {
     "name": "stdout",
     "output_type": "stream",
     "text": [
      "9\n"
     ]
    }
   ],
   "source": [
    "binaries_epsilon = ['1' if b <= 6 else '0' for b in column_sums]\n",
    "epsilon = int(''.join(binaries_epsilon), 2) \n",
    "\n",
    "print(epsilon)"
   ]
  },
  {
   "cell_type": "code",
   "execution_count": 122,
   "id": "9c3e14e6",
   "metadata": {
    "ExecuteTime": {
     "end_time": "2021-12-03T08:10:34.373240Z",
     "start_time": "2021-12-03T08:10:34.367186Z"
    }
   },
   "outputs": [
    {
     "name": "stdout",
     "output_type": "stream",
     "text": [
      "198\n"
     ]
    }
   ],
   "source": [
    "result = gamma * epsilon\n",
    "\n",
    "print(result)"
   ]
  },
  {
   "cell_type": "markdown",
   "id": "76dc2293",
   "metadata": {},
   "source": [
    "#### Part Two"
   ]
  },
  {
   "cell_type": "code",
   "execution_count": 130,
   "id": "c15567aa",
   "metadata": {
    "ExecuteTime": {
     "end_time": "2021-12-03T08:17:56.971725Z",
     "start_time": "2021-12-03T08:17:56.967325Z"
    }
   },
   "outputs": [
    {
     "name": "stdout",
     "output_type": "stream",
     "text": [
      "[1, 0, 1, 1, 0]\n"
     ]
    }
   ],
   "source": [
    "mask = [1 if b >= 6 else 0 for b in column_sums]\n",
    "print(mask)"
   ]
  },
  {
   "cell_type": "code",
   "execution_count": 124,
   "id": "15ba3223",
   "metadata": {
    "ExecuteTime": {
     "end_time": "2021-12-03T08:12:34.348455Z",
     "start_time": "2021-12-03T08:12:34.338974Z"
    }
   },
   "outputs": [
    {
     "data": {
      "text/plain": [
       "[[0, 0, 1, 0, 0], [1, 0, 1, 1, 0]]"
      ]
     },
     "execution_count": 124,
     "metadata": {},
     "output_type": "execute_result"
    }
   ],
   "source": [
    "bits_list = example_list\n",
    "\n",
    "filter_list = filter(lambda b: b[1] == mask[1], bits_list)\n",
    "\n",
    "list(filter_list)[:2]"
   ]
  },
  {
   "cell_type": "code",
   "execution_count": 125,
   "id": "33b0e593",
   "metadata": {
    "ExecuteTime": {
     "end_time": "2021-12-03T08:12:37.459767Z",
     "start_time": "2021-12-03T08:12:37.451887Z"
    }
   },
   "outputs": [],
   "source": [
    "def filter_binaries(list_, mask_index, mask=mask, out=False):\n",
    "    if out: \n",
    "        return list(filter(lambda b: b[mask_index] != mask[mask_index], list_))\n",
    "    else:\n",
    "        return list(filter(lambda b: b[mask_index] == mask[mask_index], list_))"
   ]
  },
  {
   "cell_type": "code",
   "execution_count": 126,
   "id": "a3f3a663",
   "metadata": {
    "ExecuteTime": {
     "end_time": "2021-12-03T08:12:38.673895Z",
     "start_time": "2021-12-03T08:12:38.662592Z"
    }
   },
   "outputs": [],
   "source": [
    "def filter_iterator(list_, mask=mask, out=False):\n",
    "    for i in range(len(mask)):\n",
    "        if len(list_) > 1:\n",
    "            next_list = list_\n",
    "            next_list = filter_binaries(list_, i, mask=mask, out=out)\n",
    "            if next_list:\n",
    "                list_ = next_list\n",
    "    return list_"
   ]
  },
  {
   "cell_type": "code",
   "execution_count": 127,
   "id": "1a9e4064",
   "metadata": {
    "ExecuteTime": {
     "end_time": "2021-12-03T08:13:04.230035Z",
     "start_time": "2021-12-03T08:13:04.225830Z"
    }
   },
   "outputs": [
    {
     "name": "stdout",
     "output_type": "stream",
     "text": [
      "[1, 0, 1, 1, 0]\n"
     ]
    }
   ],
   "source": [
    "oxygen_binaries = filter_iterator(example_list)[0]\n",
    "\n",
    "print(oxygen_binaries)"
   ]
  },
  {
   "cell_type": "code",
   "execution_count": 128,
   "id": "8ff8c8a0",
   "metadata": {
    "ExecuteTime": {
     "end_time": "2021-12-03T08:13:09.187051Z",
     "start_time": "2021-12-03T08:13:09.181447Z"
    }
   },
   "outputs": [
    {
     "name": "stdout",
     "output_type": "stream",
     "text": [
      "22\n"
     ]
    }
   ],
   "source": [
    "oxygen_rating = int(''.join(str(x) for x in oxygen_binaries), 2)\n",
    "\n",
    "print(oxygen_rating)"
   ]
  },
  {
   "cell_type": "code",
   "execution_count": null,
   "id": "eb55ca59",
   "metadata": {},
   "outputs": [],
   "source": [
    "co2_mask = [1 if b >= 500 else 0 for b in column_sums]"
   ]
  },
  {
   "cell_type": "markdown",
   "id": "760fd6ba",
   "metadata": {
    "pycharm": {
     "name": "#%% md\n"
    }
   },
   "source": [
    "### Mag Option"
   ]
  },
  {
   "cell_type": "code",
   "execution_count": 1,
   "id": "34982f11",
   "metadata": {
    "pycharm": {
     "name": "#%%\n"
    }
   },
   "outputs": [],
   "source": [
    "import numpy as np"
   ]
  },
  {
   "cell_type": "code",
   "execution_count": null,
   "id": "8ca633e3",
   "metadata": {
    "pycharm": {
     "name": "#%%\n"
    }
   },
   "outputs": [],
   "source": [
    "# Part 1\n",
    "def gen_input_list(my_input):\n",
    "    r = open(my_input, 'r').read()\n",
    "    content_list = r.splitlines()\n",
    "    content_list = [list(el) for el in content_list]\n",
    "    input_np = np.array(content_list).astype(int)\n",
    "    return input_np\n",
    "# input_2 = gen_input_list(\"input.txt\")"
   ]
  },
  {
   "cell_type": "code",
   "execution_count": 9,
   "id": "a6a7daab",
   "metadata": {
    "pycharm": {
     "name": "#%%\n"
    }
   },
   "outputs": [],
   "source": [
    "def get_binary_diagnostic(input):\n",
    "    gama_rate = []\n",
    "    epsilon_rate = []\n",
    "    target_number = len(input) / 2\n",
    "    for i in range(12):\n",
    "        total = sum(input[:,i])\n",
    "        if total > target_number:\n",
    "            gama_rate.append(1)\n",
    "            epsilon_rate.append(0)\n",
    "        else:\n",
    "            gama_rate.append(0)\n",
    "            epsilon_rate.append(1)\n",
    "    gama = int(''.join(str(e) for e in gama_rate), 2)\n",
    "    epsilon = int(''.join(str(e) for e in epsilon_rate), 2)\n",
    "    return gama * epsilon"
   ]
  },
  {
   "cell_type": "code",
   "execution_count": 10,
   "id": "b55353c0",
   "metadata": {
    "pycharm": {
     "name": "#%%\n"
    }
   },
   "outputs": [],
   "source": [
    "binary_diag = get_binary_diagnostic(bits_)"
   ]
  },
  {
   "cell_type": "code",
   "execution_count": 12,
   "id": "0809fd27",
   "metadata": {
    "pycharm": {
     "name": "#%%\n"
    }
   },
   "outputs": [
    {
     "data": {
      "text/plain": [
       "3242606"
      ]
     },
     "execution_count": 12,
     "metadata": {},
     "output_type": "execute_result"
    }
   ],
   "source": [
    "binary_diag"
   ]
  },
  {
   "cell_type": "code",
   "execution_count": 14,
   "id": "d6bacbaf",
   "metadata": {
    "pycharm": {
     "name": "#%%\n"
    }
   },
   "outputs": [],
   "source": [
    "def get_oxygen_gen(input):\n",
    "    input = input\n",
    "    for i in range(12):\n",
    "        if len(input) > 1:\n",
    "            aa = input[:,i]\n",
    "            unique, counts = np.unique(aa, return_counts=True)\n",
    "            count_dict = dict(zip(unique, counts))\n",
    "            if count_dict.get(0) and count_dict.get(1):\n",
    "                if count_dict.get(0) > count_dict.get(1):\n",
    "                    input = np.array([el for el in input if el[i] == 0])\n",
    "                if count_dict.get(0) < count_dict.get(1):\n",
    "                    input = np.array([el for el in input if el[i] == 1])\n",
    "                if count_dict.get(0) == count_dict.get(1):\n",
    "                    input = np.array([el for el in input if el[i] == 1])\n",
    "    return int(''.join(str(e) for e in input[0]), 2)"
   ]
  },
  {
   "cell_type": "code",
   "execution_count": 15,
   "id": "168fa6dc",
   "metadata": {
    "pycharm": {
     "name": "#%%\n"
    }
   },
   "outputs": [
    {
     "data": {
      "text/plain": [
       "3005"
      ]
     },
     "execution_count": 15,
     "metadata": {},
     "output_type": "execute_result"
    }
   ],
   "source": [
    "oxy = get_oxygen_gen(bits_)\n",
    "oxy"
   ]
  },
  {
   "cell_type": "code",
   "execution_count": 16,
   "id": "57576277",
   "metadata": {
    "pycharm": {
     "name": "#%%\n"
    }
   },
   "outputs": [],
   "source": [
    "def get_co2_scrubber(input):\n",
    "    input = input\n",
    "    for i in range(12):\n",
    "        if len(input) > 1:\n",
    "            aa = input[:, i]\n",
    "            unique, counts = np.unique(aa, return_counts=True)\n",
    "            count_dict = dict(zip(unique, counts))\n",
    "            if count_dict.get(0) and count_dict.get(1):\n",
    "                if count_dict.get(0) > count_dict.get(1):\n",
    "                    input = np.array([el for el in input if el[i] == 1])\n",
    "                if count_dict.get(0) < count_dict.get(1):\n",
    "                    input = np.array([el for el in input if el[i] == 0])\n",
    "                if count_dict.get(0) == count_dict.get(1):\n",
    "                    input = np.array([el for el in input if el[i] == 0])\n",
    "    return int(''.join(str(e) for e in input[0]), 2)"
   ]
  },
  {
   "cell_type": "code",
   "execution_count": 17,
   "id": "227aa286",
   "metadata": {
    "pycharm": {
     "name": "#%%\n"
    }
   },
   "outputs": [
    {
     "data": {
      "text/plain": [
       "1616"
      ]
     },
     "execution_count": 17,
     "metadata": {},
     "output_type": "execute_result"
    }
   ],
   "source": [
    "co2 = get_co2_scrubber(bits_)\n",
    "co2"
   ]
  },
  {
   "cell_type": "code",
   "execution_count": 18,
   "id": "69f5d905",
   "metadata": {
    "pycharm": {
     "name": "#%%\n"
    }
   },
   "outputs": [],
   "source": [
    "def get_life_support_rating(input):\n",
    "    oxygen = get_oxygen_gen(input)\n",
    "    co2 = get_co2_scrubber(input)\n",
    "    return oxygen * co2"
   ]
  },
  {
   "cell_type": "code",
   "execution_count": null,
   "id": "1641cd51",
   "metadata": {
    "pycharm": {
     "name": "#%%\n"
    }
   },
   "outputs": [],
   "source": [
    "print(get_life_support_rating(input_2))"
   ]
  },
  {
   "cell_type": "code",
   "execution_count": 19,
   "id": "848b82b1",
   "metadata": {
    "pycharm": {
     "name": "#%%\n"
    }
   },
   "outputs": [
    {
     "data": {
      "text/plain": [
       "4856080"
      ]
     },
     "execution_count": 19,
     "metadata": {},
     "output_type": "execute_result"
    }
   ],
   "source": [
    "rating = get_life_support_rating(bits_)\n",
    "rating"
   ]
  },
  {
   "cell_type": "code",
   "execution_count": null,
   "id": "87d18e93",
   "metadata": {
    "pycharm": {
     "name": "#%%\n"
    }
   },
   "outputs": [],
   "source": []
  }
 ],
 "metadata": {
  "hide_input": false,
  "kernelspec": {
   "display_name": "Python 3 (ipykernel)",
   "language": "python",
   "name": "python3"
  },
  "language_info": {
   "codemirror_mode": {
    "name": "ipython",
    "version": 3
   },
   "file_extension": ".py",
   "mimetype": "text/x-python",
   "name": "python",
   "nbconvert_exporter": "python",
   "pygments_lexer": "ipython3",
   "version": "3.9.9"
  },
  "toc": {
   "base_numbering": 1,
   "nav_menu": {},
   "number_sections": false,
   "sideBar": true,
   "skip_h1_title": false,
   "title_cell": "Table of Contents",
   "title_sidebar": "Contents",
   "toc_cell": false,
   "toc_position": {},
   "toc_section_display": true,
   "toc_window_display": true
  },
  "varInspector": {
   "cols": {
    "lenName": 16,
    "lenType": 16,
    "lenVar": 40
   },
   "kernels_config": {
    "python": {
     "delete_cmd_postfix": "",
     "delete_cmd_prefix": "del ",
     "library": "var_list.py",
     "varRefreshCmd": "print(var_dic_list())"
    },
    "r": {
     "delete_cmd_postfix": ") ",
     "delete_cmd_prefix": "rm(",
     "library": "var_list.r",
     "varRefreshCmd": "cat(var_dic_list()) "
    }
   },
   "types_to_exclude": [
    "module",
    "function",
    "builtin_function_or_method",
    "instance",
    "_Feature"
   ],
   "window_display": false
  }
 },
 "nbformat": 4,
 "nbformat_minor": 5
}
